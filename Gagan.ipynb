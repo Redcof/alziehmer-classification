{
 "cells": [
  {
   "cell_type": "code",
   "execution_count": 1,
   "metadata": {
    "colab": {
     "base_uri": "https://localhost:8080/"
    },
    "id": "vTKCBoGEdkWj",
    "outputId": "94ab6d7a-34a9-4197-9881-8866fa3839d0"
   },
   "outputs": [],
   "source": [
    "#!git clone https://github.com/invcble/Alzheimer-s-Classification-using-OASIS-Dataset"
   ]
  },
  {
   "cell_type": "markdown",
   "metadata": {
    "id": "_hDb-CmIzfL4"
   },
   "source": [
    "%cd /content/drive/MyDrive\n",
    "from google.colab import drive\n",
    "import os\n",
    "import zipfile\n",
    "\n",
    "# Step 1: Mount Google Drive\n",
    "drive.mount('/content/drive')\n",
    "\n",
    "# Step 2: Define the path to the zip file and the extraction folder\n",
    "zip_file_path = '/content/drive/My Drive/oasis_dataset.zip'  # Update this with your file's path\n",
    "extract_to_path = '/content/OASIS Dataset'  # Extract to a folder in Colab's local storage\n",
    "\n",
    "# Step 3: Check if the zip file exists\n",
    "if not os.path.exists(zip_file_path):\n",
    "    print(f\"Zip file not found at {/content/drive/MyDrive/OASIS_Dataset}. Please upload it to the specified path.\")\n",
    "else:\n",
    "    print(f\"Zip file found at {/content/drive/MyDrive/OASIS_Dataset}. Extracting...\")\n",
    "\n",
    "    # Step 4: Unzip the file\n",
    "    with zipfile.ZipFile(zip_file_path, 'r') as zip_ref:\n",
    "        zip_ref.extractall(extract_to_path)\n",
    "    print(f\"Dataset extracted to {extract_to_path}.\")\n",
    "    \n",
    "    # Step 5: List the extracted files and folders\n",
    "    print(\"Extracted files and folders:\")\n",
    "    for root, dirs, files in os.walk(extract_to_path):\n",
    "        for name in dirs:\n",
    "            print(f\"Directory: {os.path.join(root, name)}\")\n",
    "        for name in files:\n",
    "            print(f\"File: {os.path.join(root, name)}\")\n",
    "\n",
    "import tensorflow as tf\n",
    "from tensorflow.keras.preprocessing.image import ImageDataGenerator\n",
    "from tensorflow.keras.applications import ResNet50, VGG16\n",
    "from tensorflow.keras.models import Sequential\n",
    "from tensorflow.keras.layers import Dense, Flatten, Dropout, GlobalAveragePooling2D\n",
    "from tensorflow.keras.optimizers import Adam\n",
    "import os\n",
    "\n",
    "# Define paths to dataset\n",
    "BASE_DIR = \"OASIS_Dataset/\"\n",
    "TRAIN_DIR = os.path.join(BASE_DIR, \"train\")\n",
    "VAL_DIR = os.path.join(BASE_DIR, \"val\")\n",
    "TEST_DIR = os.path.join(BASE_DIR, \"test\")\n",
    "\n",
    "# Image dimensions and hyperparameters\n",
    "IMG_HEIGHT, IMG_WIDTH = 224, 224\n",
    "BATCH_SIZE = 32\n",
    "EPOCHS = 25\n",
    "NUM_CLASSES = 4  # 4 categories of MRI images\n",
    "\n",
    "# Data augmentation and preprocessing\n",
    "train_datagen = ImageDataGenerator(\n",
    "    rescale=1.0 / 255,\n",
    "    rotation_range=20,\n",
    "    width_shift_range=0.2,\n",
    "    height_shift_range=0.2,\n",
    "    shear_range=0.2,\n",
    "    zoom_range=0.2,\n",
    "    horizontal_flip=True,\n",
    "    fill_mode=\"nearest\",\n",
    ")\n",
    "\n",
    "val_test_datagen = ImageDataGenerator(rescale=1.0 / 255)\n",
    "\n",
    "train_generator = train_datagen.flow_from_directory(\n",
    "    TRAIN_DIR,\n",
    "    target_size=(IMG_HEIGHT, IMG_WIDTH),\n",
    "    batch_size=BATCH_SIZE,\n",
    "    class_mode=\"categorical\",\n",
    ")\n",
    "\n",
    "val_generator = val_test_datagen.flow_from_directory(\n",
    "    VAL_DIR,\n",
    "    target_size=(IMG_HEIGHT, IMG_WIDTH),\n",
    "    batch_size=BATCH_SIZE,\n",
    "    class_mode=\"categorical\",\n",
    ")\n",
    "\n",
    "test_generator = val_test_datagen.flow_from_directory(\n",
    "    TEST_DIR,\n",
    "    target_size=(IMG_HEIGHT, IMG_WIDTH),\n",
    "    batch_size=BATCH_SIZE,\n",
    "    class_mode=\"categorical\",\n",
    "    shuffle=False,\n",
    ")\n",
    "\n",
    "# Build a model using ResNet50\n",
    "def build_resnet_model():\n",
    "    base_model = ResNet50(weights=\"imagenet\", include_top=False, input_shape=(IMG_HEIGHT, IMG_WIDTH, 3))\n",
    "    model = Sequential([\n",
    "        base_model,\n",
    "        GlobalAveragePooling2D(),\n",
    "        Dense(256, activation=\"relu\"),\n",
    "        Dropout(0.5),\n",
    "        Dense(NUM_CLASSES, activation=\"softmax\"),\n",
    "    ])\n",
    "    base_model.trainable = False  # Freeze the base model\n",
    "    return model\n",
    "\n",
    "# Build a model using VGG16\n",
    "def build_vgg16_model():\n",
    "    base_model = VGG16(weights=\"imagenet\", include_top=False, input_shape=(IMG_HEIGHT, IMG_WIDTH, 3))\n",
    "    model = Sequential([\n",
    "        base_model,\n",
    "        Flatten(),\n",
    "        Dense(256, activation=\"relu\"),\n",
    "        Dropout(0.5),\n",
    "        Dense(NUM_CLASSES, activation=\"softmax\"),\n",
    "    ])\n",
    "    base_model.trainable = False  # Freeze the base model\n",
    "    return model\n",
    "\n",
    "# Compile and train the models\n",
    "def compile_and_train(model, train_data, val_data, optimizer, loss, epochs, model_name):\n",
    "    model.compile(optimizer=optimizer, loss=loss, metrics=[\"accuracy\"])\n",
    "    history = model.fit(\n",
    "        train_data,\n",
    "        validation_data=val_data,\n",
    "        epochs=epochs,\n",
    "        steps_per_epoch=len(train_data),\n",
    "        validation_steps=len(val_data),\n",
    "    )\n",
    "    model.save(f\"{model_name}.h5\")\n",
    "    return history\n",
    "\n",
    "# Train ResNet50 model\n",
    "resnet_model = build_resnet_model()\n",
    "print(\"Training ResNet50 model...\")\n",
    "compile_and_train(\n",
    "    resnet_model,\n",
    "    train_generator,\n",
    "    val_generator,\n",
    "    optimizer=Adam(learning_rate=0.001),\n",
    "    loss=\"categorical_crossentropy\",\n",
    "    epochs=EPOCHS,\n",
    "    model_name=\"resnet50_alzheimers\",\n",
    ")\n",
    "\n",
    "# Train VGG16 model\n",
    "vgg16_model = build_vgg16_model()\n",
    "print(\"Training VGG16 model...\")\n",
    "compile_and_train(\n",
    "    vgg16_model,\n",
    "    train_generator,\n",
    "    val_generator,\n",
    "    optimizer=Adam(learning_rate=0.001),\n",
    "    loss=\"categorical_crossentropy\",\n",
    "    epochs=EPOCHS,\n",
    "    model_name=\"vgg16_alzheimers\",\n",
    ")\n",
    "\n",
    "# Evaluate the models on the test set\n",
    "print(\"Evaluating ResNet50 model...\")\n",
    "resnet_eval = resnet_model.evaluate(test_generator)\n",
    "print(f\"ResNet50 Test Accuracy: {resnet_eval[1] * 100:.2f}%\")\n",
    "\n",
    "print(\"Evaluating VGG16 model...\")\n",
    "vgg16_eval = vgg16_model.evaluate(test_generator)\n",
    "print(f\"VGG16 Test Accuracy: {vgg16_eval[1] * 100:.2f}%\")\n"
   ]
  },
  {
   "cell_type": "markdown",
   "metadata": {},
   "source": [
    "# Hyperparameters"
   ]
  },
  {
   "cell_type": "code",
   "execution_count": 2,
   "metadata": {},
   "outputs": [],
   "source": [
    "random_state=37\n",
    "max_epoch = 30\n",
    "batch_size = 6400\n",
    "image_size = 128\n",
    "early_stopping_monitor = \"val_loss\"\n",
    "\n",
    "\n",
    "# EACH LINK CONTAINS AVAILABLE OPTIONS\n",
    "# Link: https://www.tensorflow.org/api_docs/python/tf/keras/optimizers#classes\n",
    "optimizer = \"adam\"\n",
    "# Link: https://www.tensorflow.org/api_docs/python/tf/keras/metrics#classes\n",
    "metrics = [\"Accuracy\", \"Recall\", \"Precision\"]\n",
    "# Link: https://www.tensorflow.org/api_docs/python/tf/keras/losses#functions\n",
    "loss_function = \"categorical_crossentropy\"\n",
    "# Link: https://keras.io/api/applications/\n",
    "model_name=\"ResNet50\"\n",
    "\n",
    "# dataset selection\n",
    "SMALL_DATASET = 0\n",
    "FULL_DATASET = 1\n",
    "datasetdir =[r'./smalldataset', r'C:\\Users\\HP\\Downloads\\PhdNotebook\\OASIS dataset\\OASIS dataset/Data'][SMALL_DATASET]\n",
    "\n",
    "# add a comment about what changes you have done just now before running the training\n",
    "what_changed = \"additing option links, json format\"\n",
    "\n",
    "\n",
    "\n",
    "def save_hparams():\n",
    "    \n",
    "    hyprams = dict(\n",
    "            timestamp = now.strftime(\"%H%M%S_%d%m%Y\"),\n",
    "            what_changed=what_changed,\n",
    "            random_state=random_state,\n",
    "            max_epoch=max_epoch,\n",
    "            batch_size=batch_size,\n",
    "            image_size=image_size,\n",
    "            metrics=metrics,\n",
    "            loss_function=loss_function,\n",
    "            early_stopping_monitor=early_stopping_monitor,\n",
    "            model_name=model_name,\n",
    "            dataset=datasetdir,\n",
    "            train=X_train.shape,\n",
    "            validation=X_val.shape,\n",
    "            test=X_test.shape,\n",
    "        )\n",
    "    import json \n",
    "    log(\"Saving hyperparameters.\")\n",
    "    # Convert and write JSON object to file\n",
    "    with open(f\"{artifact_root}/hyperparams.json\", \"w\") as outfile: \n",
    "        json.dump(hyprams, outfile, indent=4)"
   ]
  },
  {
   "cell_type": "markdown",
   "metadata": {},
   "source": [
    "# Prepare artifcat directory"
   ]
  },
  {
   "cell_type": "code",
   "execution_count": 3,
   "metadata": {},
   "outputs": [],
   "source": [
    "import pathlib\n",
    "import datetime\n",
    "now = datetime.datetime.now()\n",
    "artifact_root  = f\"results/{model_name}/\" + now.strftime(\"%H%M%S_%d%m%Y\")\n",
    "pathlib.Path(artifact_root).mkdir(parents=True, exist_ok=True)\n",
    "\n",
    "\n",
    "stdout = open(f\"{artifact_root}/additional_logs.txt\", \"w\")\n",
    "def log(*args, **kwargs):\n",
    "    time = False\n",
    "    if \"time\" in kwargs.keys():\n",
    "        time = kwargs[\"time\"]\n",
    "        del kwargs[\"time\"]\n",
    "    if time:\n",
    "        time = datetime.datetime.now().strftime(\"%H:%M:%S %d/%m/%Y\")\n",
    "        a = list(args)\n",
    "        a.append(time)\n",
    "        args = tuple(a)\n",
    "    print(*args, **kwargs)\n",
    "    kwargs[\"file\"] = stdout\n",
    "    kwargs[\"flush\"] = True\n",
    "    print(*args, **kwargs)"
   ]
  },
  {
   "cell_type": "code",
   "execution_count": 4,
   "metadata": {
    "id": "D6HlWjJDFnvy"
   },
   "outputs": [],
   "source": [
    "import tensorflow as tf\n",
    "from tensorflow.keras import Model\n",
    "from tensorflow.keras.models import Sequential\n",
    "from tensorflow.keras.layers import Conv2D, MaxPooling2D, Flatten, Dense, GlobalAveragePooling2D\n",
    "#   DataGenerator to read images and rescale images\n",
    "from tensorflow.keras.preprocessing.image import ImageDataGenerator\n",
    "from sklearn.model_selection import train_test_split\n",
    "from collections import Counter\n",
    "import numpy as np\n",
    "import matplotlib.pyplot as plt\n",
    "from tensorflow.keras.callbacks import EarlyStopping\n",
    "import os"
   ]
  },
  {
   "cell_type": "code",
   "execution_count": 5,
   "metadata": {
    "id": "J3Sl7lgXFy-l"
   },
   "outputs": [
    {
     "name": "stdout",
     "output_type": "stream",
     "text": [
      "Reading datafile names...1...2...3...4...DONE\n"
     ]
    }
   ],
   "source": [
    "non_demented = []\n",
    "very_mild_demented = []\n",
    "mild_demented = []\n",
    "moderate_demented = []\n",
    "\n",
    "# Download per category\n",
    "log(\"Reading datafile names...1\", end=\"\")\n",
    "for dirname, _, filenames in os.walk(datasetdir+r'/Non Demented'):\n",
    "    for filename in filenames:\n",
    "        if filename.endswith(\".jpg\"):\n",
    "            non_demented.append(os.path.join(dirname, filename))\n",
    "log(\"...2\", end=\"\")\n",
    "for dirname, _, filenames in os.walk(datasetdir+r'/Very mild Dementia'):\n",
    "    for filename in filenames:\n",
    "        if filename.endswith(\".jpg\"):\n",
    "            very_mild_demented.append(os.path.join(dirname, filename))\n",
    "log(\"...3\", end=\"\")\n",
    "for dirname, _, filenames in os.walk(datasetdir+r'/Mild Dementia'):\n",
    "    for filename in filenames:\n",
    "        if filename.endswith(\".jpg\"):\n",
    "            mild_demented.append(os.path.join(dirname, filename))\n",
    "log(\"...4\", end=\"\")\n",
    "for dirname, _, filenames in os.walk(datasetdir+r'/Moderate Dementia'):\n",
    "    for filename in filenames:\n",
    "        if filename.endswith(\".jpg\"):\n",
    "            moderate_demented.append(os.path.join(dirname, filename))\n",
    "log(\"...DONE\")"
   ]
  },
  {
   "cell_type": "code",
   "execution_count": 6,
   "metadata": {
    "colab": {
     "base_uri": "https://localhost:8080/",
     "height": 265
    },
    "id": "_MP8lmX7HLAL",
    "outputId": "a95ac397-0c3e-489d-bc8e-7f6f4f429ada"
   },
   "outputs": [
    {
     "data": {
      "image/jpeg": "[encoded data removed]",
      "image/png": "[encoded data removed]",
      "text/plain": [
       "<PIL.JpegImagePlugin.JpegImageFile image mode=RGB size=496x248>"
      ]
     },
     "execution_count": 6,
     "metadata": {},
     "output_type": "execute_result"
    }
   ],
   "source": [
    "import PIL\n",
    "from PIL import Image\n",
    "PIL.Image.open(str(non_demented[0]))"
   ]
  },
  {
   "cell_type": "code",
   "execution_count": 7,
   "metadata": {
    "colab": {
     "base_uri": "https://localhost:8080/",
     "height": 193
    },
    "id": "_YWwr-3BHLWJ",
    "outputId": "832df755-5d18-4eff-8810-70e272fd99b7"
   },
   "outputs": [
    {
     "name": "stdout",
     "output_type": "stream",
     "text": [
      "file count non_demented= 6\n",
      "file count mild_demented= 6\n",
      "file count moderate_demented= 6\n",
      "file count very_mild_demented= 7\n"
     ]
    }
   ],
   "source": [
    "log(\"file count non_demented=\",len(non_demented))\n",
    "log(\"file count mild_demented=\",len(mild_demented))\n",
    "log(\"file count moderate_demented=\",len(moderate_demented))\n",
    "log(\"file count very_mild_demented=\", len(very_mild_demented))"
   ]
  },
  {
   "cell_type": "code",
   "execution_count": 8,
   "metadata": {
    "colab": {
     "base_uri": "https://localhost:8080/",
     "height": 80
    },
    "id": "w_7QXxdYIUlf",
    "outputId": "e54df3da-5832-4602-e919-2f3994f555e0"
   },
   "outputs": [
    {
     "data": {
      "text/html": [
       "<style>#sk-container-id-1 {color: black;}#sk-container-id-1 pre{padding: 0;}#sk-container-id-1 div.sk-toggleable {background-color: white;}#sk-container-id-1 label.sk-toggleable__label {cursor: pointer;display: block;width: 100%;margin-bottom: 0;padding: 0.3em;box-sizing: border-box;text-align: center;}#sk-container-id-1 label.sk-toggleable__label-arrow:before {content: \"▸\";float: left;margin-right: 0.25em;color: #696969;}#sk-container-id-1 label.sk-toggleable__label-arrow:hover:before {color: black;}#sk-container-id-1 div.sk-estimator:hover label.sk-toggleable__label-arrow:before {color: black;}#sk-container-id-1 div.sk-toggleable__content {max-height: 0;max-width: 0;overflow: hidden;text-align: left;background-color: #f0f8ff;}#sk-container-id-1 div.sk-toggleable__content pre {margin: 0.2em;color: black;border-radius: 0.25em;background-color: #f0f8ff;}#sk-container-id-1 input.sk-toggleable__control:checked~div.sk-toggleable__content {max-height: 200px;max-width: 100%;overflow: auto;}#sk-container-id-1 input.sk-toggleable__control:checked~label.sk-toggleable__label-arrow:before {content: \"▾\";}#sk-container-id-1 div.sk-estimator input.sk-toggleable__control:checked~label.sk-toggleable__label {background-color: #d4ebff;}#sk-container-id-1 div.sk-label input.sk-toggleable__control:checked~label.sk-toggleable__label {background-color: #d4ebff;}#sk-container-id-1 input.sk-hidden--visually {border: 0;clip: rect(1px 1px 1px 1px);clip: rect(1px, 1px, 1px, 1px);height: 1px;margin: -1px;overflow: hidden;padding: 0;position: absolute;width: 1px;}#sk-container-id-1 div.sk-estimator {font-family: monospace;background-color: #f0f8ff;border: 1px dotted black;border-radius: 0.25em;box-sizing: border-box;margin-bottom: 0.5em;}#sk-container-id-1 div.sk-estimator:hover {background-color: #d4ebff;}#sk-container-id-1 div.sk-parallel-item::after {content: \"\";width: 100%;border-bottom: 1px solid gray;flex-grow: 1;}#sk-container-id-1 div.sk-label:hover label.sk-toggleable__label {background-color: #d4ebff;}#sk-container-id-1 div.sk-serial::before {content: \"\";position: absolute;border-left: 1px solid gray;box-sizing: border-box;top: 0;bottom: 0;left: 50%;z-index: 0;}#sk-container-id-1 div.sk-serial {display: flex;flex-direction: column;align-items: center;background-color: white;padding-right: 0.2em;padding-left: 0.2em;position: relative;}#sk-container-id-1 div.sk-item {position: relative;z-index: 1;}#sk-container-id-1 div.sk-parallel {display: flex;align-items: stretch;justify-content: center;background-color: white;position: relative;}#sk-container-id-1 div.sk-item::before, #sk-container-id-1 div.sk-parallel-item::before {content: \"\";position: absolute;border-left: 1px solid gray;box-sizing: border-box;top: 0;bottom: 0;left: 50%;z-index: -1;}#sk-container-id-1 div.sk-parallel-item {display: flex;flex-direction: column;z-index: 1;position: relative;background-color: white;}#sk-container-id-1 div.sk-parallel-item:first-child::after {align-self: flex-end;width: 50%;}#sk-container-id-1 div.sk-parallel-item:last-child::after {align-self: flex-start;width: 50%;}#sk-container-id-1 div.sk-parallel-item:only-child::after {width: 0;}#sk-container-id-1 div.sk-dashed-wrapped {border: 1px dashed gray;margin: 0 0.4em 0.5em 0.4em;box-sizing: border-box;padding-bottom: 0.4em;background-color: white;}#sk-container-id-1 div.sk-label label {font-family: monospace;font-weight: bold;display: inline-block;line-height: 1.2em;}#sk-container-id-1 div.sk-label-container {text-align: center;}#sk-container-id-1 div.sk-container {/* jupyter's `normalize.less` sets `[hidden] { display: none; }` but bootstrap.min.css set `[hidden] { display: none !important; }` so we also need the `!important` here to be able to override the default hidden behavior on the sphinx rendered scikit-learn.org. See: https://github.com/scikit-learn/scikit-learn/issues/21755 */display: inline-block !important;position: relative;}#sk-container-id-1 div.sk-text-repr-fallback {display: none;}</style><div id=\"sk-container-id-1\" class=\"sk-top-container\"><div class=\"sk-text-repr-fallback\"><pre>OneHotEncoder()</pre><b>In a Jupyter environment, please rerun this cell to show the HTML representation or trust the notebook. <br />On GitHub, the HTML representation is unable to render, please try loading this page with nbviewer.org.</b></div><div class=\"sk-container\" hidden><div class=\"sk-item\"><div class=\"sk-estimator sk-toggleable\"><input class=\"sk-toggleable__control sk-hidden--visually\" id=\"sk-estimator-id-1\" type=\"checkbox\" checked><label for=\"sk-estimator-id-1\" class=\"sk-toggleable__label sk-toggleable__label-arrow\">OneHotEncoder</label><div class=\"sk-toggleable__content\"><pre>OneHotEncoder()</pre></div></div></div></div></div>"
      ],
      "text/plain": [
       "OneHotEncoder()"
      ]
     },
     "execution_count": 8,
     "metadata": {},
     "output_type": "execute_result"
    }
   ],
   "source": [
    "from sklearn.preprocessing import OneHotEncoder\n",
    "encoder= OneHotEncoder()\n",
    "encoder.fit([[0],[1],[2],[3]])"
   ]
  },
  {
   "cell_type": "code",
   "execution_count": 9,
   "metadata": {
    "colab": {
     "base_uri": "https://localhost:8080/",
     "height": 106
    },
    "id": "JNXZOYSkIUnP",
    "outputId": "1b170b83-65a5-4d9b-89e3-bfd064beafc0"
   },
   "outputs": [
    {
     "name": "stdout",
     "output_type": "stream",
     "text": [
      "Reading images and encoding target ...1...2...3...4...DONE\n"
     ]
    }
   ],
   "source": [
    "data = []\n",
    "result = []\n",
    "log(\"Reading images and encoding target ...1\", end=\"\")\n",
    "for s in non_demented:\n",
    "    img = Image.open(s)\n",
    "    img = img.resize((128,128))\n",
    "    img = np.array(img)\n",
    "    if(img.shape == (128,128,3)):\n",
    "        data.append(np.array(img))\n",
    "        result.append(encoder.transform([[0]]).toarray())\n",
    "log(\"...2\", end=\"\")\n",
    "for s in mild_demented:\n",
    "    img = Image.open(s)\n",
    "    img = img.resize((128,128))\n",
    "    img = np.array(img)\n",
    "    if(img.shape == (128,128,3)):\n",
    "        data.append(np.array(img))\n",
    "        result.append(encoder.transform([[1]]).toarray())\n",
    "log(\"...3\", end=\"\")\n",
    "for s in moderate_demented:\n",
    "    img = Image.open(s)\n",
    "    img = img.resize((128,128))\n",
    "    img = np.array(img)\n",
    "    if(img.shape == (128,128,3)):\n",
    "        data.append(np.array(img))\n",
    "        result.append(encoder.transform([[2]]).toarray())\n",
    "log(\"...4\", end=\"\")\n",
    "for s in very_mild_demented:\n",
    "    img = Image.open(s)\n",
    "    img = img.resize((128,128))\n",
    "    img = np.array(img)\n",
    "    if(img.shape == (128,128,3)):\n",
    "        data.append(np.array(img))\n",
    "        result.append(encoder.transform([[3]]).toarray())\n",
    "log(\"...DONE\")"
   ]
  },
  {
   "cell_type": "code",
   "execution_count": 10,
   "metadata": {
    "colab": {
     "base_uri": "https://localhost:8080/",
     "height": 141
    },
    "id": "aEq7V1fNIUqm",
    "outputId": "010a32ef-b01e-4d32-f4e9-ca2a06a6fa44"
   },
   "outputs": [],
   "source": [
    "X=np.array(data)"
   ]
  },
  {
   "cell_type": "code",
   "execution_count": 11,
   "metadata": {
    "colab": {
     "base_uri": "https://localhost:8080/",
     "height": 141
    },
    "id": "SDw3rOBsIiwb",
    "outputId": "34f07c8b-3e42-43b3-e6ff-79eb3c06d0ad"
   },
   "outputs": [
    {
     "data": {
      "text/plain": [
       "(25, 128, 128, 3)"
      ]
     },
     "execution_count": 11,
     "metadata": {},
     "output_type": "execute_result"
    }
   ],
   "source": [
    "X.shape"
   ]
  },
  {
   "cell_type": "code",
   "execution_count": 12,
   "metadata": {
    "colab": {
     "base_uri": "https://localhost:8080/"
    },
    "id": "zVg-Dmc6Im3Z",
    "outputId": "6678d8e8-4a1a-46ed-d218-91f267c11bfb"
   },
   "outputs": [],
   "source": [
    "y=np.array(result)\n",
    "y=y.reshape(X.shape[0],4)\n",
    "y=np.argmax(y, axis=1)"
   ]
  },
  {
   "cell_type": "code",
   "execution_count": 13,
   "metadata": {
    "id": "KCPR2G4AIqOD"
   },
   "outputs": [
    {
     "name": "stdout",
     "output_type": "stream",
     "text": [
      "Splitting dataset into train, validation & testing...\n"
     ]
    }
   ],
   "source": [
    "log(\"Splitting dataset into train, validation & testing...\")\n",
    "X_train, X_test, y_train, y_test = train_test_split(X, y, test_size=0.2, random_state=random_state)\n",
    "\n",
    "# Further splitting training data into training and validation sets\n",
    "X_train, X_val, y_train, y_val = train_test_split(X_train, y_train, test_size=0.25, random_state=random_state)"
   ]
  },
  {
   "cell_type": "code",
   "execution_count": 14,
   "metadata": {
    "colab": {
     "base_uri": "https://localhost:8080/"
    },
    "id": "OsQO5sCPIq1D",
    "outputId": "95e3ea61-d153-401c-dc27-5bea489847ab"
   },
   "outputs": [
    {
     "data": {
      "text/plain": [
       "(15, 128, 128, 3)"
      ]
     },
     "execution_count": 14,
     "metadata": {},
     "output_type": "execute_result"
    }
   ],
   "source": [
    "X_train.shape\n"
   ]
  },
  {
   "cell_type": "code",
   "execution_count": 15,
   "metadata": {
    "colab": {
     "base_uri": "https://localhost:8080/"
    },
    "id": "Uwx5nafVIwXf",
    "outputId": "ddd6a4e4-d5b3-4011-dc54-b699a547df5f"
   },
   "outputs": [
    {
     "data": {
      "text/plain": [
       "(5, 128, 128, 3)"
      ]
     },
     "execution_count": 15,
     "metadata": {},
     "output_type": "execute_result"
    }
   ],
   "source": [
    "X_test.shape\n"
   ]
  },
  {
   "cell_type": "code",
   "execution_count": 16,
   "metadata": {
    "colab": {
     "base_uri": "https://localhost:8080/"
    },
    "id": "tB2oVjk9I3cG",
    "outputId": "e704c038-44c9-4ae5-cfa4-d1d764643534"
   },
   "outputs": [
    {
     "data": {
      "text/plain": [
       "(5, 128, 128, 3)"
      ]
     },
     "execution_count": 16,
     "metadata": {},
     "output_type": "execute_result"
    }
   ],
   "source": [
    "X_val.shape\n"
   ]
  },
  {
   "cell_type": "code",
   "execution_count": null,
   "metadata": {},
   "outputs": [],
   "source": []
  },
  {
   "cell_type": "code",
   "execution_count": null,
   "metadata": {},
   "outputs": [],
   "source": []
  },
  {
   "cell_type": "code",
   "execution_count": null,
   "metadata": {},
   "outputs": [],
   "source": []
  },
  {
   "cell_type": "markdown",
   "metadata": {},
   "source": [
    "# Earlystopping"
   ]
  },
  {
   "cell_type": "code",
   "execution_count": 17,
   "metadata": {},
   "outputs": [],
   "source": [
    "# Create EarlyStopping callback\n",
    "early_stopping = EarlyStopping(monitor='val_loss', patience=3, restore_best_weights=True)"
   ]
  },
  {
   "cell_type": "code",
   "execution_count": 18,
   "metadata": {
    "colab": {
     "base_uri": "https://localhost:8080/",
     "height": 211
    },
    "id": "422-4FV2I3fc",
    "outputId": "302edc0a-3d72-411d-96d3-f491243b826f"
   },
   "outputs": [
    {
     "name": "stdout",
     "output_type": "stream",
     "text": [
      "Building model...\n"
     ]
    },
    {
     "name": "stderr",
     "output_type": "stream",
     "text": [
      "2024-11-28 00:30:08.371951: I metal_plugin/src/device/metal_device.cc:1154] Metal device set to: Apple M2\n",
      "2024-11-28 00:30:08.371970: I metal_plugin/src/device/metal_device.cc:296] systemMemory: 8.00 GB\n",
      "2024-11-28 00:30:08.371975: I metal_plugin/src/device/metal_device.cc:313] maxCacheSize: 2.67 GB\n",
      "2024-11-28 00:30:08.372074: I tensorflow/core/common_runtime/pluggable_device/pluggable_device_factory.cc:303] Could not identify NUMA node of platform GPU ID 0, defaulting to 0. Your kernel may not have been built with NUMA support.\n",
      "2024-11-28 00:30:08.372318: I tensorflow/core/common_runtime/pluggable_device/pluggable_device_factory.cc:269] Created TensorFlow device (/job:localhost/replica:0/task:0/device:GPU:0 with 0 MB memory) -> physical PluggableDevice (device: 0, name: METAL, pci bus id: <undefined>)\n"
     ]
    },
    {
     "name": "stdout",
     "output_type": "stream",
     "text": [
      "Saving hyperparameters.\n"
     ]
    }
   ],
   "source": [
    "# Define the model architecture (ResNet50)\n",
    "# import tensorflow.keras as K\n",
    "log(\"Building model...\")\n",
    "import keras as K\n",
    "input_t= K.Input(shape=(image_size,image_size,3))\n",
    "res_model= getattr(K.applications, model_name)(include_top=False, weights=\"imagenet\", input_tensor=input_t)\n",
    "model_lenet = K.models.Sequential()\n",
    "model_lenet.add(res_model)\n",
    "model_lenet.add(K.layers.Flatten())\n",
    "model_lenet.add(K.layers.Dense(4, activation='softmax'))\n",
    "\n",
    "save_hparams()"
   ]
  },
  {
   "cell_type": "markdown",
   "metadata": {},
   "source": [
    "# Training"
   ]
  },
  {
   "cell_type": "code",
   "execution_count": 19,
   "metadata": {
    "colab": {
     "base_uri": "https://localhost:8080/",
     "height": 211
    },
    "id": "ngUGLapkJJTS",
    "outputId": "ac1af57f-8bc0-4507-d1ab-60a63d33881b"
   },
   "outputs": [
    {
     "name": "stdout",
     "output_type": "stream",
     "text": [
      "Encoding target to ONE_HOT format\n",
      "Compile model\n",
      "Experiment: Started 00:30:09 28/11/2024\n",
      "Starting training model=ResNet50\n",
      "Epoch 1/30\n"
     ]
    },
    {
     "name": "stderr",
     "output_type": "stream",
     "text": [
      "2024-11-28 00:30:11.179209: I tensorflow/core/grappler/optimizers/custom_graph_optimizer_registry.cc:114] Plugin optimizer for device_type GPU is enabled.\n"
     ]
    },
    {
     "name": "stdout",
     "output_type": "stream",
     "text": [
      "1/1 [==============================] - ETA: 0s - loss: 1.7322 - accuracy: 0.0000e+00 - recall: 0.2667 - precision: 0.3333"
     ]
    },
    {
     "name": "stderr",
     "output_type": "stream",
     "text": [
      "2024-11-28 00:30:13.653685: I tensorflow/core/grappler/optimizers/custom_graph_optimizer_registry.cc:114] Plugin optimizer for device_type GPU is enabled.\n"
     ]
    },
    {
     "name": "stdout",
     "output_type": "stream",
     "text": [
      "1/1 [==============================] - 4s 4s/step - loss: 1.7322 - accuracy: 0.0000e+00 - recall: 0.2667 - precision: 0.3333 - val_loss: 2.7294 - val_accuracy: 0.0000e+00 - val_recall: 0.2000 - val_precision: 0.2000\n",
      "Epoch 2/30\n",
      "1/1 [==============================] - 0s 373ms/step - loss: 6.8424e-06 - accuracy: 0.1833 - recall: 1.0000 - precision: 1.0000 - val_loss: 1.9285 - val_accuracy: 0.0500 - val_recall: 0.4000 - val_precision: 0.4000\n",
      "Epoch 3/30\n",
      "1/1 [==============================] - 0s 193ms/step - loss: 2.1775e-06 - accuracy: 0.1833 - recall: 1.0000 - precision: 1.0000 - val_loss: 7.6831 - val_accuracy: 0.0500 - val_recall: 0.2000 - val_precision: 0.2000\n",
      "Epoch 4/30\n",
      "1/1 [==============================] - 0s 190ms/step - loss: 3.3378e-06 - accuracy: 0.2000 - recall: 1.0000 - precision: 1.0000 - val_loss: 13.9799 - val_accuracy: 0.0500 - val_recall: 0.2000 - val_precision: 0.2000\n",
      "Epoch 5/30\n",
      "1/1 [==============================] - 0s 184ms/step - loss: 5.8172e-06 - accuracy: 0.2000 - recall: 1.0000 - precision: 1.0000 - val_loss: 19.5425 - val_accuracy: 0.0500 - val_recall: 0.2000 - val_precision: 0.2000\n",
      "Epoch 6/30\n",
      "1/1 [==============================] - 0s 178ms/step - loss: 3.2345e-06 - accuracy: 0.2000 - recall: 1.0000 - precision: 1.0000 - val_loss: 22.5300 - val_accuracy: 0.0500 - val_recall: 0.2000 - val_precision: 0.2000\n",
      "Epoch 7/30\n",
      "1/1 [==============================] - 0s 183ms/step - loss: 1.1206e-06 - accuracy: 0.2000 - recall: 1.0000 - precision: 1.0000 - val_loss: 23.8895 - val_accuracy: 0.0500 - val_recall: 0.2000 - val_precision: 0.2000\n",
      "Epoch 8/30\n",
      "1/1 [==============================] - 0s 189ms/step - loss: 5.4836e-07 - accuracy: 0.2000 - recall: 1.0000 - precision: 1.0000 - val_loss: 23.9449 - val_accuracy: 0.0500 - val_recall: 0.2000 - val_precision: 0.2000\n",
      "Epoch 9/30\n",
      "1/1 [==============================] - 0s 185ms/step - loss: 3.8147e-07 - accuracy: 0.2000 - recall: 1.0000 - precision: 1.0000 - val_loss: 23.4572 - val_accuracy: 0.0500 - val_recall: 0.2000 - val_precision: 0.2000\n",
      "Epoch 10/30\n",
      "1/1 [==============================] - 0s 180ms/step - loss: 2.7815e-07 - accuracy: 0.2000 - recall: 1.0000 - precision: 1.0000 - val_loss: 22.8484 - val_accuracy: 0.0500 - val_recall: 0.2000 - val_precision: 0.2000\n",
      "Epoch 11/30\n",
      "1/1 [==============================] - 0s 181ms/step - loss: 2.1458e-07 - accuracy: 0.2000 - recall: 1.0000 - precision: 1.0000 - val_loss: 21.7331 - val_accuracy: 0.0500 - val_recall: 0.2000 - val_precision: 0.2000\n",
      "Epoch 12/30\n",
      "1/1 [==============================] - 0s 183ms/step - loss: 1.6689e-07 - accuracy: 0.2000 - recall: 1.0000 - precision: 1.0000 - val_loss: 20.5291 - val_accuracy: 0.0500 - val_recall: 0.2000 - val_precision: 0.2000\n",
      "Epoch 13/30\n",
      "1/1 [==============================] - 0s 178ms/step - loss: 1.2716e-07 - accuracy: 0.2000 - recall: 1.0000 - precision: 1.0000 - val_loss: 19.3029 - val_accuracy: 0.0500 - val_recall: 0.2000 - val_precision: 0.2000\n",
      "Epoch 14/30\n",
      "1/1 [==============================] - 0s 180ms/step - loss: 1.0331e-07 - accuracy: 0.2000 - recall: 1.0000 - precision: 1.0000 - val_loss: 18.0763 - val_accuracy: 0.1000 - val_recall: 0.2000 - val_precision: 0.2000\n",
      "Epoch 15/30\n",
      "1/1 [==============================] - 0s 183ms/step - loss: 7.9473e-08 - accuracy: 0.2000 - recall: 1.0000 - precision: 1.0000 - val_loss: 16.6400 - val_accuracy: 0.1000 - val_recall: 0.4000 - val_precision: 0.4000\n",
      "Epoch 16/30\n",
      "1/1 [==============================] - 0s 182ms/step - loss: 6.3578e-08 - accuracy: 0.2000 - recall: 1.0000 - precision: 1.0000 - val_loss: 15.8608 - val_accuracy: 0.1000 - val_recall: 0.6000 - val_precision: 0.6000\n",
      "Epoch 17/30\n",
      "1/1 [==============================] - 0s 185ms/step - loss: 5.5631e-08 - accuracy: 0.2000 - recall: 1.0000 - precision: 1.0000 - val_loss: 15.8090 - val_accuracy: 0.1000 - val_recall: 0.8000 - val_precision: 0.8000\n",
      "Epoch 18/30\n",
      "1/1 [==============================] - 0s 185ms/step - loss: 5.5631e-08 - accuracy: 0.2000 - recall: 1.0000 - precision: 1.0000 - val_loss: 16.0263 - val_accuracy: 0.1000 - val_recall: 0.8000 - val_precision: 0.8000\n",
      "Epoch 19/30\n",
      "1/1 [==============================] - 0s 181ms/step - loss: 4.7684e-08 - accuracy: 0.2000 - recall: 1.0000 - precision: 1.0000 - val_loss: 16.2388 - val_accuracy: 0.1000 - val_recall: 0.8000 - val_precision: 0.8000\n",
      "Epoch 20/30\n",
      "1/1 [==============================] - 0s 177ms/step - loss: 4.7684e-08 - accuracy: 0.2000 - recall: 1.0000 - precision: 1.0000 - val_loss: 16.5438 - val_accuracy: 0.1000 - val_recall: 0.8000 - val_precision: 0.8000\n",
      "Epoch 21/30\n",
      "1/1 [==============================] - 0s 181ms/step - loss: 3.9736e-08 - accuracy: 0.2167 - recall: 1.0000 - precision: 1.0000 - val_loss: 16.9236 - val_accuracy: 0.1000 - val_recall: 0.8000 - val_precision: 0.8000\n",
      "Epoch 22/30\n",
      "1/1 [==============================] - 0s 182ms/step - loss: 3.1789e-08 - accuracy: 0.2167 - recall: 1.0000 - precision: 1.0000 - val_loss: 17.2725 - val_accuracy: 0.1500 - val_recall: 0.8000 - val_precision: 0.8000\n",
      "Epoch 23/30\n",
      "1/1 [==============================] - 0s 180ms/step - loss: 3.1789e-08 - accuracy: 0.2167 - recall: 1.0000 - precision: 1.0000 - val_loss: 17.5991 - val_accuracy: 0.2000 - val_recall: 0.8000 - val_precision: 0.8000\n",
      "Epoch 24/30\n",
      "1/1 [==============================] - 0s 182ms/step - loss: 3.1789e-08 - accuracy: 0.2167 - recall: 1.0000 - precision: 1.0000 - val_loss: 17.8918 - val_accuracy: 0.3000 - val_recall: 0.8000 - val_precision: 0.8000\n",
      "Epoch 25/30\n",
      "1/1 [==============================] - 0s 186ms/step - loss: 2.3842e-08 - accuracy: 0.2167 - recall: 1.0000 - precision: 1.0000 - val_loss: 18.1436 - val_accuracy: 0.2500 - val_recall: 0.8000 - val_precision: 0.8000\n",
      "Epoch 26/30\n",
      "1/1 [==============================] - 0s 205ms/step - loss: 2.3842e-08 - accuracy: 0.2167 - recall: 1.0000 - precision: 1.0000 - val_loss: 18.3115 - val_accuracy: 0.3000 - val_recall: 0.8000 - val_precision: 0.8000\n",
      "Epoch 27/30\n",
      "1/1 [==============================] - 0s 190ms/step - loss: 2.3842e-08 - accuracy: 0.2167 - recall: 1.0000 - precision: 1.0000 - val_loss: 18.3815 - val_accuracy: 0.3000 - val_recall: 0.8000 - val_precision: 0.8000\n",
      "Epoch 28/30\n",
      "1/1 [==============================] - 0s 192ms/step - loss: 2.3842e-08 - accuracy: 0.2167 - recall: 1.0000 - precision: 1.0000 - val_loss: 18.3904 - val_accuracy: 0.3000 - val_recall: 0.8000 - val_precision: 0.8000\n",
      "Epoch 29/30\n",
      "1/1 [==============================] - 0s 189ms/step - loss: 2.3842e-08 - accuracy: 0.2167 - recall: 1.0000 - precision: 1.0000 - val_loss: 18.3731 - val_accuracy: 0.3000 - val_recall: 0.8000 - val_precision: 0.8000\n",
      "Epoch 30/30\n",
      "1/1 [==============================] - 0s 191ms/step - loss: 7.9473e-09 - accuracy: 0.2333 - recall: 1.0000 - precision: 1.0000 - val_loss: 18.2901 - val_accuracy: 0.3000 - val_recall: 0.8000 - val_precision: 0.8000\n"
     ]
    }
   ],
   "source": [
    "from keras.utils import to_categorical\n",
    "from tensorflow.keras.callbacks import CSVLogger\n",
    "\n",
    "# Ensure input data has correct shape\n",
    "X_train = X_train.reshape(-1, image_size, image_size, 3)\n",
    "X_test = X_test.reshape(-1, image_size, image_size, 3)\n",
    "X_val = X_val.reshape(-1, image_size, image_size, 3)\n",
    "\n",
    "# Ensure target labels are one-hot encoded\n",
    "log(\"Encoding target to ONE_HOT format\")\n",
    "y_train_encoded = to_categorical(y_train, num_classes=4)\n",
    "y_test_encoded = to_categorical(y_test, num_classes=4)\n",
    "y_val_encoded = to_categorical(y_val, num_classes=4)\n",
    "\n",
    "# Compile the model\n",
    "log(\"Compile model\")\n",
    "metrics_o = [getattr(tf.keras.metrics, m)() for m in metrics]\n",
    "model_lenet.compile(optimizer=optimizer, loss=loss_function, metrics=metrics_o)\n",
    "\n",
    "csv_logger = CSVLogger(artifact_root + '/metrics.csv')\n",
    "\n",
    "# Train the model\n",
    "log(\"Experiment: Started\", time=True)\n",
    "log(f\"Starting training model={model_name}\")\n",
    "history = model_lenet.fit(X_train, y_train_encoded, epochs=max_epoch, batch_size=batch_size, \n",
    "                          callbacks = [csv_logger],\n",
    "                          validation_data=(X_val, y_val_encoded))"
   ]
  },
  {
   "cell_type": "code",
   "execution_count": 20,
   "metadata": {
    "colab": {
     "base_uri": "https://localhost:8080/",
     "height": 158
    },
    "id": "5wxWcmISJaLB",
    "outputId": "4c5daded-5a68-4990-c8d2-bc1b4ba85d89"
   },
   "outputs": [
    {
     "name": "stdout",
     "output_type": "stream",
     "text": [
      "Experiment: Evaluating 00:30:19 28/11/2024\n",
      "Evaluating model=ResNet50...\n",
      "1/1 [==============================] - 0s 32ms/step - loss: 55.2062 - accuracy: 0.0000e+00 - recall: 0.4000 - precision: 0.4000\n"
     ]
    }
   ],
   "source": [
    "# Evaluate the model on the test set\n",
    "log(\"Experiment: Evaluating\", time=True)\n",
    "log(f\"Evaluating model={model_name}...\")\n",
    "x = model_lenet.evaluate(X_test, y_test_encoded)\n",
    "metrics.append(\"test_loss\")"
   ]
  },
  {
   "cell_type": "code",
   "execution_count": 21,
   "metadata": {
    "colab": {
     "base_uri": "https://localhost:8080/",
     "height": 141
    },
    "id": "sYKD-JQrJaOn",
    "outputId": "780d0265-f3b2-43bf-9cf6-de99785400ed"
   },
   "outputs": [
    {
     "name": "stdout",
     "output_type": "stream",
     "text": [
      "ResNet50 {'test_Accuracy': 55.206207275390625, 'test_Recall': 0.0, 'test_Precision': 0.4000000059604645, 'test_test_loss': 0.4000000059604645}\n"
     ]
    }
   ],
   "source": [
    "log(f\"{model_name}\", {f\"test_{k}\":v for v,k in zip(x, metrics)})"
   ]
  },
  {
   "cell_type": "code",
   "execution_count": 22,
   "metadata": {
    "colab": {
     "base_uri": "https://localhost:8080/",
     "height": 141
    },
    "id": "GneaI99kJd78",
    "outputId": "26dc0109-ee85-4dd0-8d86-eabdf9d3cd5e"
   },
   "outputs": [
    {
     "name": "stdout",
     "output_type": "stream",
     "text": [
      "Saving best model=ResNet50\n"
     ]
    }
   ],
   "source": [
    "log(f\"Saving best model={model_name}\")\n",
    "model_lenet.save(artifact_root + f\"/model_{model_name}.keras\")"
   ]
  },
  {
   "cell_type": "code",
   "execution_count": 23,
   "metadata": {
    "colab": {
     "base_uri": "https://localhost:8080/",
     "height": 332
    },
    "id": "Y_AmXWIKJpgw",
    "outputId": "406d1461-664c-4991-a208-dbebad70e3b3"
   },
   "outputs": [
    {
     "name": "stdout",
     "output_type": "stream",
     "text": [
      "Shape of preprocessed image array: (1, 128, 128, 3)\n",
      "Experiment: Testing 00:30:20 28/11/2024\n"
     ]
    },
    {
     "name": "stderr",
     "output_type": "stream",
     "text": [
      "2024-11-28 00:30:20.610920: I tensorflow/core/grappler/optimizers/custom_graph_optimizer_registry.cc:114] Plugin optimizer for device_type GPU is enabled.\n"
     ]
    },
    {
     "name": "stdout",
     "output_type": "stream",
     "text": [
      "1/1 [==============================] - 1s 590ms/step\n",
      "Predicted class: non_demented\n",
      "Experiment: Completed 00:30:21 28/11/2024\n"
     ]
    }
   ],
   "source": [
    "def preprocess_image(image_path, target_size=(128, 128)):\n",
    "    # Open the image file\n",
    "    img = Image.open(image_path)\n",
    "    # Resize the image\n",
    "    img = img.resize(target_size)\n",
    "    # Convert the image to a NumPy array\n",
    "    img_array = np.array(img)\n",
    "    # Expand dimensions to match the shape expected by the model (if necessary)\n",
    "    img_array = np.expand_dims(img_array, axis=0)\n",
    "    return img_array\n",
    "\n",
    "\n",
    "# Example usage:\n",
    "image_path = r'C:\\Users\\HP\\Downloads\\PhdNotebook\\OASIS dataset\\OASIS dataset/Data/Non Demented/OAS1_0001_MR1_mpr-1_115.jpg'\n",
    "if not os.path.exists(image_path):\n",
    "    image_path = datasetdir+r'/Non Demented/OAS1_0001_MR1_mpr-1_100.jpg'\n",
    "image_array = preprocess_image(image_path)\n",
    "log(\"Shape of preprocessed image array:\", image_array.shape)\n",
    "\n",
    "# Predict probabilities\n",
    "log(\"Experiment: Testing\", time=True)\n",
    "prediction_probabilities = model_lenet.predict(image_array)\n",
    "\n",
    "# Get the index of the highest probability\n",
    "predicted_class_index = np.argmax(prediction_probabilities)\n",
    "\n",
    "# Define your class labels\n",
    "class_labels = ['non_demented', 'mild_demented', 'moderate_demented', 'very_mild_demented']\n",
    "\n",
    "# Map the index to the corresponding class label\n",
    "predicted_class = class_labels[predicted_class_index]\n",
    "\n",
    "log(\"Predicted class:\", predicted_class)\n",
    "log(\"Experiment: Completed\", time=True)"
   ]
  },
  {
   "cell_type": "code",
   "execution_count": null,
   "metadata": {},
   "outputs": [],
   "source": []
  },
  {
   "cell_type": "code",
   "execution_count": 24,
   "metadata": {
    "colab": {
     "base_uri": "https://localhost:8080/"
    },
    "id": "7pUMNYCQIPY9",
    "outputId": "f60fe963-231b-4d58-a237-a03cb98cc434"
   },
   "outputs": [],
   "source": [
    "# prompt: unzip in colab to specific folder\n",
    "\n",
    "#!unzip ./OASIS dataset.zip -d ./OASIS/\n"
   ]
  },
  {
   "cell_type": "code",
   "execution_count": 25,
   "metadata": {
    "colab": {
     "base_uri": "https://localhost:8080/",
     "height": 176
    },
    "id": "2zgAzsqRIfrj",
    "outputId": "49358af6-d3af-40d2-ead1-ef6700c83c20"
   },
   "outputs": [],
   "source": [
    "# prompt: set path to my drive in colab\n",
    "\n",
    "# import os\n",
    "# path = \"/drive/MyDrive\" #You can change this path\n",
    "# os.chdir(path)\n"
   ]
  },
  {
   "cell_type": "code",
   "execution_count": 26,
   "metadata": {
    "colab": {
     "base_uri": "https://localhost:8080/"
    },
    "id": "UG4gggDFIyaf",
    "outputId": "772b5f67-6493-4801-db05-853b52ee7e64"
   },
   "outputs": [],
   "source": [
    "# %cd /Drive/My Drive/"
   ]
  },
  {
   "cell_type": "code",
   "execution_count": 27,
   "metadata": {
    "colab": {
     "base_uri": "https://localhost:8080/"
    },
    "id": "zrVV54yRI2kK",
    "outputId": "7cac6c95-f44d-458e-fa7f-0457a95e5b3a"
   },
   "outputs": [],
   "source": [
    "# %cd /content/drive/MyDrive/\n"
   ]
  },
  {
   "cell_type": "code",
   "execution_count": 28,
   "metadata": {
    "colab": {
     "base_uri": "https://localhost:8080/",
     "height": 106
    },
    "id": "BX_C2wocLkdI",
    "outputId": "3c8e7004-b13e-4790-e214-6c8a1b67af6e"
   },
   "outputs": [],
   "source": [
    "# https://www.kaggle.com/datasets/ninadaithal/imagesoasis/code"
   ]
  },
  {
   "cell_type": "code",
   "execution_count": 29,
   "metadata": {},
   "outputs": [],
   "source": [
    "stdout.close()"
   ]
  },
  {
   "cell_type": "code",
   "execution_count": null,
   "metadata": {},
   "outputs": [],
   "source": []
  }
 ],
 "metadata": {
  "colab": {
   "provenance": []
  },
  "kernelspec": {
   "display_name": "Python 3 (ipykernel)",
   "language": "python",
   "name": "python3"
  },
  "language_info": {
   "codemirror_mode": {
    "name": "ipython",
    "version": 3
   },
   "file_extension": ".py",
   "mimetype": "text/x-python",
   "name": "python",
   "nbconvert_exporter": "python",
   "pygments_lexer": "ipython3",
   "version": "3.8.18"
  }
 },
 "nbformat": 4,
 "nbformat_minor": 4
}
