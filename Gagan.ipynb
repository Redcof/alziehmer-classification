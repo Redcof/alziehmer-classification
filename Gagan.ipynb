{
 "cells": [
  {
   "cell_type": "code",
<<<<<<< HEAD
   "execution_count": 23,
   "metadata": {},
=======
   "execution_count": 1,
   "metadata": {
    "scrolled": true
   },
>>>>>>> origin/colab-mvcnn
   "outputs": [
    {
     "name": "stdout",
     "output_type": "stream",
     "text": [
      "Requirement already satisfied: keras==2.13.1 in /Users/soumensardar/miniconda3/envs/tf/lib/python3.8/site-packages (2.13.1)\n",
      "Requirement already satisfied: tensorflow==2.13.0 in /Users/soumensardar/miniconda3/envs/tf/lib/python3.8/site-packages (2.13.0)\n",
      "Requirement already satisfied: tensorflow-datasets==4.9.2 in /Users/soumensardar/miniconda3/envs/tf/lib/python3.8/site-packages (4.9.2)\n",
      "Requirement already satisfied: tensorflow-macos==2.13.0 in /Users/soumensardar/miniconda3/envs/tf/lib/python3.8/site-packages (from tensorflow==2.13.0) (2.13.0)\n",
      "Requirement already satisfied: absl-py in /Users/soumensardar/miniconda3/envs/tf/lib/python3.8/site-packages (from tensorflow-datasets==4.9.2) (1.4.0)\n",
      "Requirement already satisfied: array-record in /Users/soumensardar/miniconda3/envs/tf/lib/python3.8/site-packages (from tensorflow-datasets==4.9.2) (0.4.0)\n",
      "Requirement already satisfied: click in /Users/soumensardar/miniconda3/envs/tf/lib/python3.8/site-packages (from tensorflow-datasets==4.9.2) (8.1.7)\n",
      "Requirement already satisfied: dm-tree in /Users/soumensardar/miniconda3/envs/tf/lib/python3.8/site-packages (from tensorflow-datasets==4.9.2) (0.1.8)\n",
      "Requirement already satisfied: etils>=0.9.0 in /Users/soumensardar/miniconda3/envs/tf/lib/python3.8/site-packages (from etils[enp,epath]>=0.9.0->tensorflow-datasets==4.9.2) (1.3.0)\n",
      "Requirement already satisfied: numpy in /Users/soumensardar/miniconda3/envs/tf/lib/python3.8/site-packages (from tensorflow-datasets==4.9.2) (1.24.3)\n",
      "Requirement already satisfied: promise in /Users/soumensardar/miniconda3/envs/tf/lib/python3.8/site-packages (from tensorflow-datasets==4.9.2) (2.3)\n",
      "Requirement already satisfied: protobuf>=3.20 in /Users/soumensardar/miniconda3/envs/tf/lib/python3.8/site-packages (from tensorflow-datasets==4.9.2) (3.20.3)\n",
      "Requirement already satisfied: psutil in /Users/soumensardar/miniconda3/envs/tf/lib/python3.8/site-packages (from tensorflow-datasets==4.9.2) (6.1.0)\n",
      "Requirement already satisfied: requests>=2.19.0 in /Users/soumensardar/miniconda3/envs/tf/lib/python3.8/site-packages (from tensorflow-datasets==4.9.2) (2.31.0)\n",
      "Requirement already satisfied: tensorflow-metadata in /Users/soumensardar/miniconda3/envs/tf/lib/python3.8/site-packages (from tensorflow-datasets==4.9.2) (1.14.0)\n",
      "Requirement already satisfied: termcolor in /Users/soumensardar/miniconda3/envs/tf/lib/python3.8/site-packages (from tensorflow-datasets==4.9.2) (2.4.0)\n",
      "Requirement already satisfied: toml in /Users/soumensardar/miniconda3/envs/tf/lib/python3.8/site-packages (from tensorflow-datasets==4.9.2) (0.10.2)\n",
      "Requirement already satisfied: tqdm in /Users/soumensardar/miniconda3/envs/tf/lib/python3.8/site-packages (from tensorflow-datasets==4.9.2) (4.66.1)\n",
      "Requirement already satisfied: wrapt in /Users/soumensardar/miniconda3/envs/tf/lib/python3.8/site-packages (from tensorflow-datasets==4.9.2) (1.16.0)\n",
      "Requirement already satisfied: importlib-resources in /Users/soumensardar/miniconda3/envs/tf/lib/python3.8/site-packages (from tensorflow-datasets==4.9.2) (6.1.1)\n",
      "Requirement already satisfied: astunparse>=1.6.0 in /Users/soumensardar/miniconda3/envs/tf/lib/python3.8/site-packages (from tensorflow-macos==2.13.0->tensorflow==2.13.0) (1.6.3)\n",
      "Requirement already satisfied: flatbuffers>=23.1.21 in /Users/soumensardar/miniconda3/envs/tf/lib/python3.8/site-packages (from tensorflow-macos==2.13.0->tensorflow==2.13.0) (23.5.26)\n",
      "Requirement already satisfied: gast<=0.4.0,>=0.2.1 in /Users/soumensardar/miniconda3/envs/tf/lib/python3.8/site-packages (from tensorflow-macos==2.13.0->tensorflow==2.13.0) (0.4.0)\n",
      "Requirement already satisfied: google-pasta>=0.1.1 in /Users/soumensardar/miniconda3/envs/tf/lib/python3.8/site-packages (from tensorflow-macos==2.13.0->tensorflow==2.13.0) (0.2.0)\n",
      "Requirement already satisfied: h5py>=2.9.0 in /Users/soumensardar/miniconda3/envs/tf/lib/python3.8/site-packages (from tensorflow-macos==2.13.0->tensorflow==2.13.0) (3.10.0)\n",
      "Requirement already satisfied: libclang>=13.0.0 in /Users/soumensardar/miniconda3/envs/tf/lib/python3.8/site-packages (from tensorflow-macos==2.13.0->tensorflow==2.13.0) (16.0.6)\n",
      "Requirement already satisfied: opt-einsum>=2.3.2 in /Users/soumensardar/miniconda3/envs/tf/lib/python3.8/site-packages (from tensorflow-macos==2.13.0->tensorflow==2.13.0) (3.3.0)\n",
      "Requirement already satisfied: packaging in /Users/soumensardar/miniconda3/envs/tf/lib/python3.8/site-packages (from tensorflow-macos==2.13.0->tensorflow==2.13.0) (23.2)\n",
      "Requirement already satisfied: setuptools in /Users/soumensardar/miniconda3/envs/tf/lib/python3.8/site-packages (from tensorflow-macos==2.13.0->tensorflow==2.13.0) (68.2.2)\n",
      "Requirement already satisfied: six>=1.12.0 in /Users/soumensardar/miniconda3/envs/tf/lib/python3.8/site-packages (from tensorflow-macos==2.13.0->tensorflow==2.13.0) (1.16.0)\n",
      "Requirement already satisfied: typing-extensions<4.6.0,>=3.6.6 in /Users/soumensardar/miniconda3/envs/tf/lib/python3.8/site-packages (from tensorflow-macos==2.13.0->tensorflow==2.13.0) (4.5.0)\n",
      "Requirement already satisfied: grpcio<2.0,>=1.24.3 in /Users/soumensardar/miniconda3/envs/tf/lib/python3.8/site-packages (from tensorflow-macos==2.13.0->tensorflow==2.13.0) (1.60.0)\n",
      "Requirement already satisfied: tensorboard<2.14,>=2.13 in /Users/soumensardar/miniconda3/envs/tf/lib/python3.8/site-packages (from tensorflow-macos==2.13.0->tensorflow==2.13.0) (2.13.0)\n",
      "Requirement already satisfied: tensorflow-estimator<2.14,>=2.13.0 in /Users/soumensardar/miniconda3/envs/tf/lib/python3.8/site-packages (from tensorflow-macos==2.13.0->tensorflow==2.13.0) (2.13.0)\n",
      "Requirement already satisfied: zipp in /Users/soumensardar/miniconda3/envs/tf/lib/python3.8/site-packages (from etils[enp,epath]>=0.9.0->tensorflow-datasets==4.9.2) (3.17.0)\n",
      "Requirement already satisfied: charset-normalizer<4,>=2 in /Users/soumensardar/miniconda3/envs/tf/lib/python3.8/site-packages (from requests>=2.19.0->tensorflow-datasets==4.9.2) (3.3.2)\n",
      "Requirement already satisfied: idna<4,>=2.5 in /Users/soumensardar/miniconda3/envs/tf/lib/python3.8/site-packages (from requests>=2.19.0->tensorflow-datasets==4.9.2) (3.6)\n",
      "Requirement already satisfied: urllib3<3,>=1.21.1 in /Users/soumensardar/miniconda3/envs/tf/lib/python3.8/site-packages (from requests>=2.19.0->tensorflow-datasets==4.9.2) (2.1.0)\n",
      "Requirement already satisfied: certifi>=2017.4.17 in /Users/soumensardar/miniconda3/envs/tf/lib/python3.8/site-packages (from requests>=2.19.0->tensorflow-datasets==4.9.2) (2023.11.17)\n",
      "Requirement already satisfied: googleapis-common-protos<2,>=1.52.0 in /Users/soumensardar/miniconda3/envs/tf/lib/python3.8/site-packages (from tensorflow-metadata->tensorflow-datasets==4.9.2) (1.66.0)\n",
      "Requirement already satisfied: wheel<1.0,>=0.23.0 in /Users/soumensardar/miniconda3/envs/tf/lib/python3.8/site-packages (from astunparse>=1.6.0->tensorflow-macos==2.13.0->tensorflow==2.13.0) (0.41.2)\n",
      "Requirement already satisfied: google-auth<3,>=1.6.3 in /Users/soumensardar/miniconda3/envs/tf/lib/python3.8/site-packages (from tensorboard<2.14,>=2.13->tensorflow-macos==2.13.0->tensorflow==2.13.0) (2.27.0)\n",
      "Requirement already satisfied: google-auth-oauthlib<1.1,>=0.5 in /Users/soumensardar/miniconda3/envs/tf/lib/python3.8/site-packages (from tensorboard<2.14,>=2.13->tensorflow-macos==2.13.0->tensorflow==2.13.0) (1.0.0)\n",
      "Requirement already satisfied: markdown>=2.6.8 in /Users/soumensardar/miniconda3/envs/tf/lib/python3.8/site-packages (from tensorboard<2.14,>=2.13->tensorflow-macos==2.13.0->tensorflow==2.13.0) (3.5.2)\n",
      "Requirement already satisfied: tensorboard-data-server<0.8.0,>=0.7.0 in /Users/soumensardar/miniconda3/envs/tf/lib/python3.8/site-packages (from tensorboard<2.14,>=2.13->tensorflow-macos==2.13.0->tensorflow==2.13.0) (0.7.2)\n",
      "Requirement already satisfied: werkzeug>=1.0.1 in /Users/soumensardar/miniconda3/envs/tf/lib/python3.8/site-packages (from tensorboard<2.14,>=2.13->tensorflow-macos==2.13.0->tensorflow==2.13.0) (3.0.1)\n",
      "Requirement already satisfied: cachetools<6.0,>=2.0.0 in /Users/soumensardar/miniconda3/envs/tf/lib/python3.8/site-packages (from google-auth<3,>=1.6.3->tensorboard<2.14,>=2.13->tensorflow-macos==2.13.0->tensorflow==2.13.0) (5.3.2)\n",
      "Requirement already satisfied: pyasn1-modules>=0.2.1 in /Users/soumensardar/miniconda3/envs/tf/lib/python3.8/site-packages (from google-auth<3,>=1.6.3->tensorboard<2.14,>=2.13->tensorflow-macos==2.13.0->tensorflow==2.13.0) (0.3.0)\n",
      "Requirement already satisfied: rsa<5,>=3.1.4 in /Users/soumensardar/miniconda3/envs/tf/lib/python3.8/site-packages (from google-auth<3,>=1.6.3->tensorboard<2.14,>=2.13->tensorflow-macos==2.13.0->tensorflow==2.13.0) (4.9)\n",
      "Requirement already satisfied: requests-oauthlib>=0.7.0 in /Users/soumensardar/miniconda3/envs/tf/lib/python3.8/site-packages (from google-auth-oauthlib<1.1,>=0.5->tensorboard<2.14,>=2.13->tensorflow-macos==2.13.0->tensorflow==2.13.0) (1.3.1)\n",
      "Requirement already satisfied: importlib-metadata>=4.4 in /Users/soumensardar/miniconda3/envs/tf/lib/python3.8/site-packages (from markdown>=2.6.8->tensorboard<2.14,>=2.13->tensorflow-macos==2.13.0->tensorflow==2.13.0) (7.0.1)\n",
      "Requirement already satisfied: MarkupSafe>=2.1.1 in /Users/soumensardar/miniconda3/envs/tf/lib/python3.8/site-packages (from werkzeug>=1.0.1->tensorboard<2.14,>=2.13->tensorflow-macos==2.13.0->tensorflow==2.13.0) (2.1.4)\n",
      "Requirement already satisfied: pyasn1<0.6.0,>=0.4.6 in /Users/soumensardar/miniconda3/envs/tf/lib/python3.8/site-packages (from pyasn1-modules>=0.2.1->google-auth<3,>=1.6.3->tensorboard<2.14,>=2.13->tensorflow-macos==2.13.0->tensorflow==2.13.0) (0.5.1)\n",
      "Requirement already satisfied: oauthlib>=3.0.0 in /Users/soumensardar/miniconda3/envs/tf/lib/python3.8/site-packages (from requests-oauthlib>=0.7.0->google-auth-oauthlib<1.1,>=0.5->tensorboard<2.14,>=2.13->tensorflow-macos==2.13.0->tensorflow==2.13.0) (3.2.2)\n",
      "Requirement already satisfied: opendatasets in /Users/soumensardar/miniconda3/envs/tf/lib/python3.8/site-packages (0.1.22)\n",
      "Requirement already satisfied: tqdm in /Users/soumensardar/miniconda3/envs/tf/lib/python3.8/site-packages (from opendatasets) (4.66.1)\n",
      "Requirement already satisfied: kaggle in /Users/soumensardar/miniconda3/envs/tf/lib/python3.8/site-packages (from opendatasets) (1.6.17)\n",
      "Requirement already satisfied: click in /Users/soumensardar/miniconda3/envs/tf/lib/python3.8/site-packages (from opendatasets) (8.1.7)\n",
      "Requirement already satisfied: six>=1.10 in /Users/soumensardar/miniconda3/envs/tf/lib/python3.8/site-packages (from kaggle->opendatasets) (1.16.0)\n",
      "Requirement already satisfied: certifi>=2023.7.22 in /Users/soumensardar/miniconda3/envs/tf/lib/python3.8/site-packages (from kaggle->opendatasets) (2023.11.17)\n",
      "Requirement already satisfied: python-dateutil in /Users/soumensardar/miniconda3/envs/tf/lib/python3.8/site-packages (from kaggle->opendatasets) (2.8.2)\n",
      "Requirement already satisfied: requests in /Users/soumensardar/miniconda3/envs/tf/lib/python3.8/site-packages (from kaggle->opendatasets) (2.31.0)\n",
      "Requirement already satisfied: python-slugify in /Users/soumensardar/miniconda3/envs/tf/lib/python3.8/site-packages (from kaggle->opendatasets) (8.0.4)\n",
      "Requirement already satisfied: urllib3 in /Users/soumensardar/miniconda3/envs/tf/lib/python3.8/site-packages (from kaggle->opendatasets) (2.1.0)\n",
      "Requirement already satisfied: bleach in /Users/soumensardar/miniconda3/envs/tf/lib/python3.8/site-packages (from kaggle->opendatasets) (6.1.0)\n",
      "Requirement already satisfied: webencodings in /Users/soumensardar/miniconda3/envs/tf/lib/python3.8/site-packages (from bleach->kaggle->opendatasets) (0.5.1)\n",
      "Requirement already satisfied: text-unidecode>=1.3 in /Users/soumensardar/miniconda3/envs/tf/lib/python3.8/site-packages (from python-slugify->kaggle->opendatasets) (1.3)\n",
      "Requirement already satisfied: charset-normalizer<4,>=2 in /Users/soumensardar/miniconda3/envs/tf/lib/python3.8/site-packages (from requests->kaggle->opendatasets) (3.3.2)\n",
      "Requirement already satisfied: idna<4,>=2.5 in /Users/soumensardar/miniconda3/envs/tf/lib/python3.8/site-packages (from requests->kaggle->opendatasets) (3.6)\n"
<<<<<<< HEAD
=======
     ]
    },
    {
     "name": "stderr",
     "output_type": "stream",
     "text": [
      "/Users/soumensardar/miniconda3/envs/tf/lib/python3.8/site-packages/tqdm/auto.py:21: TqdmWarning: IProgress not found. Please update jupyter and ipywidgets. See https://ipywidgets.readthedocs.io/en/stable/user_install.html\n",
      "  from .autonotebook import tqdm as notebook_tqdm\n"
>>>>>>> origin/colab-mvcnn
     ]
    }
   ],
   "source": [
    "!pip install keras==2.13.1 tensorflow==2.13.0 tensorflow-datasets==4.9.2\n",
    "!pip install opendatasets\n",
<<<<<<< HEAD
=======
    "\n",
>>>>>>> origin/colab-mvcnn
    "import gc\n",
    "gc.collect()\n",
    "try:\n",
    "    from rich import print\n",
    "except:\n",
<<<<<<< HEAD
    "    !pip install rich\n",
=======
    "    !pip -q install rich\n",
>>>>>>> origin/colab-mvcnn
    "    from rich import print\n",
    "\n",
    "try:\n",
    "    import tensorflow_datasets, tensorflow, matplotlib, numpy, PIL, sklearn\n",
    "except:\n",
<<<<<<< HEAD
    "    !pip install keras==2.13.1 tensorflow==2.13.0 tensorflow-datasets==4.9.2 matplotlib numpy pillow scikit-learn\n",
=======
    "    !pip -q install keras==2.13.1 tensorflow==2.13.0 tensorflow-datasets==4.9.2 matplotlib numpy pillow scikit-learn\n",
>>>>>>> origin/colab-mvcnn
    "    import tensorflow_datasets, tensorflow, matplotlib, numpy, PIL, sklearn\n",
    "\n",
    "try:\n",
    "    import cv2\n",
    "except:\n",
<<<<<<< HEAD
    "    !pip install opencv-python\n",
=======
    "    !pip -q install opencv-python\n",
>>>>>>> origin/colab-mvcnn
    "    import cv2\n",
    "import os\n",
    "import pandas as pd\n",
    "import numpy as np\n",
    "try:\n",
    "    import torch\n",
    "    import torchvision.transforms\n",
    "except:\n",
    "    !pip install torch torchvision\n",
    "    import torch\n",
    "    import torchvision.transforms\n",
    "\n",
    "import platform"
   ]
  },
  {
   "cell_type": "code",
   "execution_count": 2,
   "metadata": {},
   "outputs": [
    {
     "data": {
      "text/html": [
       "<pre style=\"white-space:pre;overflow-x:auto;line-height:normal;font-family:Menlo,'DejaVu Sans Mono',consolas,'Courier New',monospace\">Not running in Colab\n",
       "</pre>\n"
      ],
      "text/plain": [
       "Not running in Colab\n"
      ]
     },
     "metadata": {},
     "output_type": "display_data"
    }
   ],
   "source": [
    "import sys\n",
<<<<<<< HEAD
    "\n",
=======
    "log_root = \".\"\n",
>>>>>>> origin/colab-mvcnn
    "def is_running_in_colab():\n",
    "  return 'google.colab' in sys.modules\n",
    "\n",
    "if is_running_in_colab():\n",
    "    print(\"Running in Colab\")\n",
    "    \n",
    "\n",
    "    # Upload the kaggle.json file\n",
    "    if not os.path.exists('~/.kaggle/kaggle.json'):\n",
    "      print(\"\\nUpload 'kaggle.json' file:\")\n",
    "      from google.colab import files\n",
    "      files.upload()\n",
    "      \n",
    "      # Make directory named kaggle and copy kaggle.json file there\n",
    "      !mkdir -p ~/.kaggle\n",
    "      !cp kaggle.json ~/.kaggle/\n",
    "      \n",
    "      # Change the permissions of the file\n",
    "      !chmod 600 ~/.kaggle/kaggle.json\n",
    "    \n",
    "    # Download the dataset\n",
    "    import opendatasets as od\n",
    "\n",
    "    # Replace with the actual Kaggle dataset URL\n",
    "    print(\"Downloading OASIS dataset...\")\n",
    "    dataset_url = 'https://www.kaggle.com/datasets/ninadaithal/imagesoasis' \n",
    "    od.download(dataset_url)\n",
<<<<<<< HEAD
    "    !ls -al\n",
    "    \n",
    "    # Unzip the dataset (if it's a zip file)\n",
    "    # print(\"Downloading OASIS dataset...\")\n",
    "    # !unzip -o -u -q imagesoasis.zip -d /content/OASIS_Dataset\n",
    "    \n",
    "    if not os.path.exists(r\"/content/imagesoasis\"):\n",
    "        print(\"Dataset '/content/imagesoasis' not found. exiting...\")\n",
=======
    "    if not os.path.exists(r\"/content/imagesoasis\"):\n",
    "        print(\"Dataset '/content/imagesoasis' not found. exiting...\")\n",
    "    # connect google drive\n",
    "    from google.colab import drive\n",
    "    drive.mount('/content/gdrive')\n",
    "    log_root = '/content/gdrive/MyDrive/OASIS_results'\n",
>>>>>>> origin/colab-mvcnn
    "else:\n",
    "    print(\"Not running in Colab\")\n"
   ]
  },
  {
   "cell_type": "markdown",
   "metadata": {},
   "source": [
    "# Dataset Selection"
   ]
  },
  {
   "cell_type": "code",
   "execution_count": 3,
   "metadata": {},
   "outputs": [
    {
     "data": {
      "text/html": [
       "<pre style=\"white-space:pre;overflow-x:auto;line-height:normal;font-family:Menlo,'DejaVu Sans Mono',consolas,'Courier New',monospace\">Selecting dataset automatically based on platform = <span style=\"color: #008000; text-decoration-color: #008000\">'Darwin'</span><span style=\"color: #808000; text-decoration-color: #808000\">...</span>\n",
       "</pre>\n"
      ],
      "text/plain": [
       "Selecting dataset automatically based on platform = \u001b[32m'Darwin'\u001b[0m\u001b[33m...\u001b[0m\n"
      ]
     },
     "metadata": {},
     "output_type": "display_data"
    },
    {
     "data": {
      "text/html": [
       "<pre style=\"white-space:pre;overflow-x:auto;line-height:normal;font-family:Menlo,'DejaVu Sans Mono',consolas,'Courier New',monospace\">DONE\n",
       "</pre>\n"
      ],
      "text/plain": [
       "DONE\n"
      ]
     },
     "metadata": {},
     "output_type": "display_data"
    },
    {
     "data": {
      "text/plain": [
       "('/Users/soumensardar/Downloads/OASIS/', 'tflogs_mvcnn')"
      ]
     },
     "execution_count": 3,
     "metadata": {},
     "output_type": "execute_result"
    }
   ],
   "source": [
    "# DO NOT TOUCH BELOW ==================================\n",
    "AUTO_SELECT = -1\n",
    "FULL_DATASET = 0\n",
    "FULL_BINARY_DATASET = 1\n",
    "MY_DATASET = 2\n",
    "MY_BIN_DATASET = 3\n",
    "# DO NOT TOUCH - END ===================================\n",
    "\n",
    "# select dataset\n",
    "SELECTED_DATASET = AUTO_SELECT # CHANGE HERE\n",
    "\n",
    "if SELECTED_DATASET == AUTO_SELECT:\n",
    "    print(f\"Selecting dataset automatically based on platform = '{platform.system()}'...\")\n",
    "    if platform.system() == \"Windows\":\n",
    "        SELECTED_DATASET = FULL_DATASET\n",
    "    elif platform.system() == \"Darwin\":\n",
    "        SELECTED_DATASET = MY_DATASET\n",
    "    else:\n",
    "        if is_running_in_colab():\n",
    "            print(\"Google collab is detected, running on full scale dataset.\")\n",
    "            SELECTED_DATASET = FULL_DATASET\n",
    "        else:\n",
    "            raise Exception(\"{SELECTED_DATASET=AUTO_SELECT} is not supported for this platform.\")\n",
    "    print(\"DONE\")\n",
    "\n",
    "\n",
    "# DO NOT TOUCH BELOW ==================================\n",
    "if is_running_in_colab():\n",
    "    FULL_DATASET_PATH = r\"/content/imagesoasis/Data\"\n",
    "else:\n",
    "    FULL_DATASET_PATH = r'D:\\CGC work\\Alziehmer Disease\\PhdNotebook\\OASIS dataset\\OASIS dataset\\Data'\n",
    "FULL_BINARY_DATASET_PATH = r'D:\\CGC work\\Alziehmer Disease\\PhdNotebook\\OASIS dataset Binary\\OASIS dataset\\Data'\n",
    "MY_DATASET_PATH = r'/Users/soumensardar/Downloads/OASIS/'\n",
    "MY_DATASET_BINARY_PATH = r'/Users/soumensardar/Downloads/OASIS-binary/'\n",
    "\n",
    "# while adding more datasets, make sure to add tflog directory\n",
    "datasetdir, dataset_name =[  (FULL_DATASET_PATH, 'tflogs_mvcnn'),\n",
    "                             (FULL_BINARY_DATASET_PATH, 'tflogs_binary_mvcnn'),\n",
    "                             (MY_DATASET_PATH, 'tflogs_mvcnn'),\n",
    "                             (MY_DATASET_BINARY_PATH, 'tflogs_binary_mvcnn'),\n",
    "                    ][SELECTED_DATASET]\n",
    "# DO NOT TOUCH - END ===================================\n",
    "assert os.path.exists(datasetdir), f\"Dataset path is incorrect {datasetdir}\"\n",
    "datasetdir, dataset_name"
   ]
  },
  {
   "cell_type": "markdown",
   "metadata": {},
   "source": [
    "# Test Image selection"
   ]
  },
  {
   "cell_type": "code",
   "execution_count": 4,
   "metadata": {},
   "outputs": [
    {
     "data": {
      "text/plain": [
       "('/Users/soumensardar/Downloads/OASIS//Mild Dementia/OAS1_0028_MR1_mpr-1_127.jpg',\n",
       " 'Mild Dementia')"
      ]
     },
     "execution_count": 4,
     "metadata": {},
     "output_type": "execute_result"
    }
   ],
   "source": [
    "TEST_IMG_PATH, TEST_IMG_LABEL = [\n",
    "(f'{datasetdir}/Mild Dementia/OAS1_0028_MR1_mpr-1_127.jpg', 'Mild_Dementia'),\n",
    "(f'{datasetdir}/1. Mild Dementia/OAS1_0028_MR1_mpr-1_127.jpg', '1. Mild_Dementia'),\n",
    "(f'{datasetdir}/Mild Dementia/OAS1_0028_MR1_mpr-1_127.jpg', 'Mild Dementia'),\n",
    "(f'{datasetdir}/Mild Dementia/OAS1_0028_MR1_mpr-1_127.jpg', '1. Mild Dementia'),\n",
    "][SELECTED_DATASET]\n",
    "import os\n",
    "assert os.path.exists(TEST_IMG_PATH), f\"Test image path is incorrect {TEST_IMG_PATH}\"\n",
    "TEST_IMG_PATH, TEST_IMG_LABEL"
   ]
  },
  {
   "cell_type": "code",
   "execution_count": 5,
   "metadata": {},
   "outputs": [],
   "source": [
    "import os, json\n",
    "def get_experiment_details(dataset, model, ts):\n",
    "    exp_asset_dir = f\"{log_root}/results/{dataset}/{model}/{ts}\"\n",
    "    assert os.path.exists(exp_asset_dir), f\"Experiment does not exist '{exp_asset_dir}'\"\n",
    "    checkpoint_model_dir = None\n",
    "    with open(exp_asset_dir + \"/currentepoch.txt\") as fp:\n",
    "        last_epoch = int(fp.read().strip())\n",
    "        checkpoint_model_dir = exp_asset_dir + f\"/models/epoch=%02d{model_ext}\"%last_epoch\n",
    "        assert os.path.exists(checkpoint_model_dir), f\"Unable to find the last checkpoint file {checkpoint_model_dir}\"\n",
    "    best_model_dir = exp_asset_dir + f\"/models/best-model{model_ext}\"\n",
    "    if not os.path.exists(best_model_dir):\n",
    "        best_model_dir = None\n",
    "\n",
    "    best_model_info = None\n",
    "    if os.path.exists(exp_asset_dir + \"/bestvalue.json\"):\n",
    "        with open(exp_asset_dir + \"/bestvalue.json\") as fp:\n",
    "            best_model_info = json.load(fp)\n",
    "        \n",
    "    return dict(last_epoch=last_epoch, \n",
    "                best_checkpoint=best_model_dir, \n",
    "                last_checkpoint=checkpoint_model_dir,\n",
    "                best_model_info=best_model_info,\n",
    "                project_dir=exp_asset_dir)"
   ]
  },
  {
   "cell_type": "markdown",
   "metadata": {},
   "source": [
    "# <font color='red'>Hyperparameters"
   ]
  },
  {
   "cell_type": "code",
   "execution_count": 6,
   "metadata": {},
   "outputs": [
    {
     "data": {
      "text/html": [
       "<pre style=\"white-space:pre;overflow-x:auto;line-height:normal;font-family:Menlo,'DejaVu Sans Mono',consolas,'Courier New',monospace\"><span style=\"color: #808000; text-decoration-color: #808000\">what_changed</span>=<span style=\"color: #008000; text-decoration-color: #008000\">\"Training with model_name='MultiViewMobileNet' task_type='categorical' lr_schedular=False </span>\n",
<<<<<<< HEAD
       "<span style=\"color: #008000; text-decoration-color: #008000\">activation='softmax' loss_function='categorical_crossentropy'\"</span>\n",
=======
       "<span style=\"color: #008000; text-decoration-color: #008000\">activation='softmax' loss_function='categorical_crossentropy' ablation_study_size=40\"</span>\n",
>>>>>>> origin/colab-mvcnn
       "</pre>\n"
      ],
      "text/plain": [
       "\u001b[33mwhat_changed\u001b[0m=\u001b[32m\"Training\u001b[0m\u001b[32m with \u001b[0m\u001b[32mmodel_name\u001b[0m\u001b[32m='MultiViewMobileNet' \u001b[0m\u001b[32mtask_type\u001b[0m\u001b[32m='categorical' \u001b[0m\u001b[32mlr_schedular\u001b[0m\u001b[32m=\u001b[0m\u001b[32mFalse\u001b[0m\u001b[32m \u001b[0m\n",
<<<<<<< HEAD
       "\u001b[32mactivation\u001b[0m\u001b[32m='softmax' \u001b[0m\u001b[32mloss_function\u001b[0m\u001b[32m='categorical_crossentropy'\"\u001b[0m\n"
=======
       "\u001b[32mactivation\u001b[0m\u001b[32m='softmax' \u001b[0m\u001b[32mloss_function\u001b[0m\u001b[32m='categorical_crossentropy' \u001b[0m\u001b[32mablation_study_size\u001b[0m\u001b[32m=\u001b[0m\u001b[32m40\"\u001b[0m\n"
>>>>>>> origin/colab-mvcnn
      ]
     },
     "metadata": {},
     "output_type": "display_data"
    }
   ],
   "source": [
    "random_seed=37\n",
    "resume_training_timestamp = None # CHANGE HERE\n",
    "max_epoch = 50 # CHANGE HERE\n",
    "batch_size = 13\n",
<<<<<<< HEAD
=======
    "ablation_study_size = 0 # batch_size * 10 # CHANGE HERE\n",
>>>>>>> origin/colab-mvcnn
    "image_size = 224\n",
    "color_mode = 'rgb'\n",
    "n_ch = dict(rgb=3, grayscale=1)[color_mode]\n",
    "volume_depth = 61\n",
    "monitor = \"accuracy\"\n",
    "initial_threshold = 0.5\n",
    "mode=\"max\"\n",
    "freq=\"epoch\"\n",
    "initial_epoch=0\n",
    "precision = 32 # 16 bits or 32 bits\n",
    "trainable = True\n",
    "distributed = False\n",
    "devices = ['CPU:0', 'GPU:0']\n",
    "learning_rate = 0.001\n",
    "lr_schedular = False\n",
    "early_stop = True\n",
    "enable_class_weight = False\n",
<<<<<<< HEAD
    "ablation_study_size = 0 # batch_size * 10 # CHANGE HERE\n",
=======
    "model_ext = \".tf\"\n",
>>>>>>> origin/colab-mvcnn
    "\n",
    "if not is_running_in_colab():\n",
    "    distributed = False\n",
    "\n",
    "task_type = \"categorical\" # \"binary\"\n",
    "# Link: https://www.tensorflow.org/api_docs/python/tf/keras/losses#functions\n",
    "if task_type == \"binary\":\n",
    "    activation = \"sigmoid\"\n",
    "    loss_function = \"binary_crossentropy\"\n",
    "else:\n",
    "    activation = \"softmax\"\n",
    "    loss_function = \"categorical_crossentropy\"\n",
    "\n",
    "resume_checkpoint_path = None\n",
    "# Link: https://keras.io/api/applications/\n",
    "model_name=\"MultiViewMobileNet\" # CHANGE HERE !!!!!!!\n",
    "# add a comment about what changes you have done just now before running the training\n",
<<<<<<< HEAD
    "what_changed = f\"Training with {model_name=} {task_type=} {lr_schedular=} {activation=} {loss_function=}\"\n",
=======
    "what_changed = f\"Training with {model_name=} {task_type=} {lr_schedular=} {activation=} {loss_function=} {ablation_study_size=}\"\n",
>>>>>>> origin/colab-mvcnn
    "print(f\"{what_changed=}\")"
   ]
  },
  {
   "cell_type": "code",
   "execution_count": 7,
   "metadata": {},
   "outputs": [],
   "source": [
    "# Learning rate schedular callback\n",
    "def lr_schedule(epoch):\n",
    "  \"\"\"\n",
    "  Returns a custom learning rate that decreases as epochs progress.\n",
    "  \"\"\"\n",
    "  learning_rate = 0.02\n",
    "  if epoch > 5:\n",
    "    learning_rate = 0.01\n",
    "  if epoch > 10:\n",
    "    learning_rate = 0.0001\n",
    "  if epoch > 15:\n",
    "    learning_rate = 0.00001\n",
    "\n",
    "  tf.summary.scalar('learning rate', data=learning_rate, step=epoch)\n",
    "  return learning_rate"
   ]
  },
  {
   "cell_type": "code",
   "execution_count": 8,
   "metadata": {},
   "outputs": [
    {
     "data": {
      "text/html": [
       "<pre style=\"white-space:pre;overflow-x:auto;line-height:normal;font-family:Menlo,'DejaVu Sans Mono',consolas,'Courier New',monospace\">Trying to resume from checkpoint<span style=\"color: #808000; text-decoration-color: #808000\">...</span> <span style=\"color: #008080; text-decoration-color: #008080; font-weight: bold\">20250108</span>-<span style=\"color: #008080; text-decoration-color: #008080; font-weight: bold\">234344</span>\n",
       "</pre>\n"
      ],
      "text/plain": [
       "Trying to resume from checkpoint\u001b[33m...\u001b[0m \u001b[1;36m20250108\u001b[0m-\u001b[1;36m234344\u001b[0m\n"
      ]
     },
     "metadata": {},
     "output_type": "display_data"
    },
    {
     "data": {
      "text/html": [
       "<pre style=\"white-space:pre;overflow-x:auto;line-height:normal;font-family:Menlo,'DejaVu Sans Mono',consolas,'Courier New',monospace\">Updating the metric monitoring parameters before resuming the checkpoint\n",
       "</pre>\n"
      ],
      "text/plain": [
       "Updating the metric monitoring parameters before resuming the checkpoint\n"
      ]
     },
     "metadata": {},
     "output_type": "display_data"
    },
    {
     "data": {
      "text/html": [
       "<pre style=\"white-space:pre;overflow-x:auto;line-height:normal;font-family:Menlo,'DejaVu Sans Mono',consolas,'Courier New',monospace\">Resuming checkpoint form <span style=\"color: #808000; text-decoration-color: #808000\">epoch</span>=<span style=\"color: #008080; text-decoration-color: #008080; font-weight: bold\">2</span>.\n",
       "</pre>\n"
      ],
      "text/plain": [
       "Resuming checkpoint form \u001b[33mepoch\u001b[0m=\u001b[1;36m2\u001b[0m.\n"
      ]
     },
     "metadata": {},
     "output_type": "display_data"
    }
   ],
   "source": [
    "if resume_training_timestamp:\n",
    "    print(f\"Trying to resume from checkpoint... {resume_training_timestamp}\")\n",
    "    d = get_experiment_details(dataset_name, model_name, resume_training_timestamp)\n",
    "    initial_epoch = d['last_epoch']\n",
    "    resume_checkpoint_path = d['last_checkpoint']\n",
    "    assert os.path.exists(resume_checkpoint_path), f\"Unable to resume training from '{d['project_dir']}'.\"\n",
    "    best_model_info = d['best_model_info']\n",
    "    if best_model_info:\n",
    "        print(\"Updating the metric monitoring parameters before resuming the checkpoint\")\n",
    "        monitor = best_model_info['monitor']\n",
    "        initial_threshold = best_model_info['value']\n",
    "        mode=best_model_info['mode']\n",
    "        freq=best_model_info['frequency']\n",
    "    print(f\"Resuming checkpoint form epoch={initial_epoch}.\")\n",
    "# =====================================================\n",
    "\n",
    "\n",
    "def save_hparams():\n",
    "    hyprams = dict(\n",
    "            timestamp = timestamp,\n",
    "            what_changed=what_changed,\n",
    "            random_state=random_seed,\n",
    "            max_epoch=max_epoch,\n",
    "            batch_size=batch_size,\n",
    "            image_size=image_size,\n",
    "            num_channels=n_ch,\n",
    "            metrics=str(metrics),\n",
    "            loss_function=loss_function,\n",
    "            monitoring=dict(monitor = monitor, initial_threshold = initial_threshold, mode=mode),\n",
    "            resume_training_timestamp=resume_training_timestamp,\n",
    "            initial_epoch=initial_epoch,\n",
    "            model_name=model_name,\n",
    "            optimizer=optimizer.name,\n",
    "            learning_rate=learning_rate,\n",
    "            lr_schedular=lr_schedular,\n",
    "        )\n",
    "    import json \n",
    "    log(\"Saving hyperparameters.\")\n",
    "    print(hyprams)\n",
    "    # Convert and write JSON object to file\n",
    "    with open(f\"{artifact_root}/hyperparams.json\", \"w\") as outfile: \n",
    "        json.dump(hyprams, outfile, indent=4)\n",
    "    file_writer = tf.summary.create_file_writer(tf_log_dir + \"/hparams\")\n",
    "    with file_writer.as_default():\n",
    "        tf.summary.text(\"hyperparams.json\", f\"{artifact_root}/hyperparams.json\", step=0)\n",
    "        for k, v in hyprams.items():\n",
    "            if isinstance(v, int):\n",
    "                tf.summary.scalar(k, v, step=0)\n",
    "            elif isinstance(v, float):\n",
    "                tf.summary.scalar(k, v, step=0)\n",
    "            else:\n",
    "                tf.summary.text(k, str(v), step=0)"
   ]
  },
  {
   "cell_type": "markdown",
   "metadata": {},
   "source": [
    "# Prepare `log-artifact` directory"
   ]
  },
  {
   "cell_type": "code",
   "execution_count": 9,
   "metadata": {},
   "outputs": [
    {
     "data": {
      "text/html": [
<<<<<<< HEAD
       "<pre style=\"white-space:pre;overflow-x:auto;line-height:normal;font-family:Menlo,'DejaVu Sans Mono',consolas,'Courier New',monospace\">Experiment path: <span style=\"color: #008000; text-decoration-color: #008000\">'results/tflogs_mvcnn/MultiViewMobileNet/20250108-191452'</span>\n",
       "</pre>\n"
      ],
      "text/plain": [
       "Experiment path: \u001b[32m'results/tflogs_mvcnn/MultiViewMobileNet/20250108-191452'\u001b[0m\n"
=======
       "<pre style=\"white-space:pre;overflow-x:auto;line-height:normal;font-family:Menlo,'DejaVu Sans Mono',consolas,'Courier New',monospace\">Resume timestamp <span style=\"color: #008080; text-decoration-color: #008080; font-weight: bold\">20250108</span>-<span style=\"color: #008080; text-decoration-color: #008080; font-weight: bold\">234344</span>\n",
       "</pre>\n"
      ],
      "text/plain": [
       "Resume timestamp \u001b[1;36m20250108\u001b[0m-\u001b[1;36m234344\u001b[0m\n"
>>>>>>> origin/colab-mvcnn
      ]
     },
     "metadata": {},
     "output_type": "display_data"
    },
    {
     "data": {
      "text/html": [
<<<<<<< HEAD
       "<pre style=\"white-space:pre;overflow-x:auto;line-height:normal;font-family:Menlo,'DejaVu Sans Mono',consolas,'Courier New',monospace\">Experiment path: <span style=\"color: #008000; text-decoration-color: #008000\">'results/tflogs_mvcnn/MultiViewMobileNet/20250108-191452'</span>\n",
       "</pre>\n"
      ],
      "text/plain": [
       "Experiment path: \u001b[32m'results/tflogs_mvcnn/MultiViewMobileNet/20250108-191452'\u001b[0m\n"
=======
       "<pre style=\"white-space:pre;overflow-x:auto;line-height:normal;font-family:Menlo,'DejaVu Sans Mono',consolas,'Courier New',monospace\">Experiment path: <span style=\"color: #008000; text-decoration-color: #008000\">'./results/tflogs_mvcnn/MultiViewMobileNet/20250108-234344'</span>\n",
       "</pre>\n"
      ],
      "text/plain": [
       "Experiment path: \u001b[32m'./results/tflogs_mvcnn/MultiViewMobileNet/20250108-234344'\u001b[0m\n"
      ]
     },
     "metadata": {},
     "output_type": "display_data"
    },
    {
     "data": {
      "text/html": [
       "<pre style=\"white-space:pre;overflow-x:auto;line-height:normal;font-family:Menlo,'DejaVu Sans Mono',consolas,'Courier New',monospace\">Experiment path: <span style=\"color: #008000; text-decoration-color: #008000\">'./results/tflogs_mvcnn/MultiViewMobileNet/20250108-234344'</span>\n",
       "</pre>\n"
      ],
      "text/plain": [
       "Experiment path: \u001b[32m'./results/tflogs_mvcnn/MultiViewMobileNet/20250108-234344'\u001b[0m\n"
>>>>>>> origin/colab-mvcnn
      ]
     },
     "metadata": {},
     "output_type": "display_data"
    }
   ],
   "source": [
    "import pathlib\n",
    "import datetime\n",
    "\n",
    "timestamp = datetime.datetime.now().strftime(\"%Y%m%d-%H%M%S\")\n",
    "if resume_training_timestamp:\n",
    "    print(\"Resume timestamp\", resume_training_timestamp)\n",
    "    timestamp = resume_training_timestamp\n",
    "unique_dir = f\"{model_name}/{timestamp}\"\n",
    "tf_log_dir = f\"{log_root}/results/{dataset_name}/{unique_dir}\"\n",
    "tf_log_img_dir = f\"{log_root}/results/{dataset_name}/images\"\n",
    "artifact_root  = f\"{log_root}/results/{dataset_name}/{unique_dir}\"\n",
    "pathlib.Path(artifact_root).mkdir(parents=True, exist_ok=True)\n",
    "pathlib.Path(tf_log_dir).mkdir(parents=True, exist_ok=True)\n",
    "\n",
    "def log(*args, **kwargs):\n",
    "    time = False\n",
    "    if \"time\" in kwargs.keys():\n",
    "        time = kwargs[\"time\"]\n",
    "        del kwargs[\"time\"]\n",
    "    if time:\n",
    "        time = datetime.datetime.now().strftime(\"%H:%M:%S %d/%m/%Y\")\n",
    "        a = list(args)\n",
    "        a.append(time)\n",
    "        args = tuple(a)\n",
    "    print(*args, **kwargs)\n",
    "    with open(f\"{artifact_root}/additional_logs.txt\", \"a\") as fp:\n",
    "        kwargs[\"file\"] = fp\n",
    "        kwargs[\"flush\"] = True\n",
    "        print(*args, **kwargs)\n",
    "log(f\"Experiment path: '{artifact_root}'\")"
   ]
  },
  {
   "cell_type": "markdown",
   "metadata": {},
   "source": [
    "# <font color='red'>Training Resume Timestamp\n",
    "## Use this `timestamp` to update `resume_training_timestamp` variable"
   ]
  },
  {
   "cell_type": "code",
   "execution_count": 10,
   "metadata": {},
   "outputs": [
    {
     "data": {
      "text/html": [
<<<<<<< HEAD
       "<pre style=\"white-space:pre;overflow-x:auto;line-height:normal;font-family:Menlo,'DejaVu Sans Mono',consolas,'Courier New',monospace\">Resume timestamp: <span style=\"color: #008080; text-decoration-color: #008080; font-weight: bold\">20250108</span>-<span style=\"color: #008080; text-decoration-color: #008080; font-weight: bold\">191452</span>\n",
       "</pre>\n"
      ],
      "text/plain": [
       "Resume timestamp: \u001b[1;36m20250108\u001b[0m-\u001b[1;36m191452\u001b[0m\n"
=======
       "<pre style=\"white-space:pre;overflow-x:auto;line-height:normal;font-family:Menlo,'DejaVu Sans Mono',consolas,'Courier New',monospace\">Resume timestamp: <span style=\"color: #008000; text-decoration-color: #008000\">'20250108-234344'</span>\n",
       "</pre>\n"
      ],
      "text/plain": [
       "Resume timestamp: \u001b[32m'20250108-234344'\u001b[0m\n"
>>>>>>> origin/colab-mvcnn
      ]
     },
     "metadata": {},
     "output_type": "display_data"
    },
    {
     "data": {
      "text/html": [
<<<<<<< HEAD
       "<pre style=\"white-space:pre;overflow-x:auto;line-height:normal;font-family:Menlo,'DejaVu Sans Mono',consolas,'Courier New',monospace\">Resume timestamp: <span style=\"color: #008080; text-decoration-color: #008080; font-weight: bold\">20250108</span>-<span style=\"color: #008080; text-decoration-color: #008080; font-weight: bold\">191452</span>\n",
       "</pre>\n"
      ],
      "text/plain": [
       "Resume timestamp: \u001b[1;36m20250108\u001b[0m-\u001b[1;36m191452\u001b[0m\n"
=======
       "<pre style=\"white-space:pre;overflow-x:auto;line-height:normal;font-family:Menlo,'DejaVu Sans Mono',consolas,'Courier New',monospace\">Resume timestamp: <span style=\"color: #008000; text-decoration-color: #008000\">'20250108-234344'</span>\n",
       "</pre>\n"
      ],
      "text/plain": [
       "Resume timestamp: \u001b[32m'20250108-234344'\u001b[0m\n"
>>>>>>> origin/colab-mvcnn
      ]
     },
     "metadata": {},
     "output_type": "display_data"
    }
   ],
   "source": [
    "log(f\"Resume timestamp: '{timestamp}'\")"
   ]
  },
  {
   "cell_type": "code",
   "execution_count": 11,
   "metadata": {
    "id": "D6HlWjJDFnvy"
   },
   "outputs": [],
   "source": [
    "import tensorflow as tf\n",
    "from tensorflow.keras import Model\n",
    "from tensorflow.keras.models import Sequential\n",
    "from tensorflow.keras.layers import Conv2D, MaxPooling2D, Flatten, Dense, GlobalAveragePooling2D\n",
    "#   DataGenerator to read images and rescale images\n",
    "from tensorflow.keras.preprocessing.image import ImageDataGenerator\n",
    "from sklearn.model_selection import train_test_split\n",
    "from collections import Counter\n",
    "import numpy as np\n",
    "import matplotlib.pyplot as plt\n",
    "from tensorflow.keras.callbacks import EarlyStopping\n",
    "import os\n",
    "import random\n",
    "tf.random.set_seed(random_seed)\n",
    "random.seed(random_seed)\n",
    "np.random.seed(random_seed)"
   ]
  },
  {
   "cell_type": "markdown",
   "metadata": {},
   "source": [
<<<<<<< HEAD
    "# Loading 3D datasets"
=======
    "# Loading multiview-datasets"
>>>>>>> origin/colab-mvcnn
   ]
  },
  {
   "cell_type": "code",
   "execution_count": 12,
   "metadata": {},
   "outputs": [],
   "source": [
    "import os\n",
    "import pathlib\n",
    "import random\n",
    "import warnings\n",
    "\n",
    "import cv2\n",
    "import numpy as np\n",
    "import tensorflow as tf\n",
    "import torchvision.transforms\n",
    "from torch.utils.data import Dataset\n",
    "\n",
    "\n",
    "class OASISTorchDataset(Dataset):\n",
    "    BINARY_TASK = \"binary\"\n",
    "    CATEGORY_TASK = \"categorical\"\n",
    "    VOLUME_DEPTH = 61  # KNOWN DURING EDA: per patient we have 61 MRI slices\n",
    "\n",
    "    def get_volume_for_image(self, oasis_image_path):\n",
    "        \"\"\"\n",
    "        For a given image this function automatically determine the slices and return the volume and actual label\n",
    "        :param oasis_image_path:\n",
    "        :return:\n",
    "        \"\"\"\n",
    "\n",
    "        oasis_image_path = pathlib.Path(oasis_image_path)\n",
    "        class_name = oasis_image_path.parent.name\n",
    "        # OAS1_0001_MR1_mpr-1_101.jpg\n",
    "        fp, sp = oasis_image_path.name.split(\"-\")  # [OAS1_0001_MR1_mpr, 1_101.jpg]\n",
    "        spfp, spsp = sp.split(\"_\")  # [1, 101.jpg]\n",
    "        pattern = fp + \"-\" + spfp + \"*\"\n",
    "        images = list(oasis_image_path.parent.glob(pattern))\n",
    "        images = self._sample_from(images, OASISTorchDataset.VOLUME_DEPTH)\n",
    "        lbl = self.encode_labels(class_name)\n",
    "        return self.load_volume(images), class_name, lbl\n",
    "\n",
    "    def __init__(self, path, task_type, image_size, transforms, split_name, batch_size, ablation=0, nch=3, seed=37,\n",
    "                 splits=(70, 20, 10),\n",
    "                 class_names=None,\n",
    "                 dtype=\"float32\", verbose=0):\n",
    "        assert len(image_size) == 2, \"Image size must be a tuple of two integers\"\n",
    "        assert split_name in (\"train\", \"validation\", \"test\")\n",
    "        assert nch in (1, 3), \"Supported channels are 1(greyscale) and 3(rgb)\"\n",
    "        assert len(splits) == 3 and sum(\n",
    "            splits) == 100, f\"train-validation-test splits must accumulate to 100, but {splits=} given.\"\n",
    "        self.path = pathlib.Path(path)\n",
    "        self.verbose = verbose\n",
    "        # get class names\n",
    "        self.classnames = self._load_class_names()\n",
    "        if class_names is not None:\n",
    "            self.classnames = [c for c in self.classnames if c in class_names]\n",
    "        if task_type == self.BINARY_TASK and len(self.classnames) >= 2 and class_names is None:\n",
    "            raise Exception(f\"When `class_names` is not specified, \"\n",
    "                            f\"only 2 classes are allowed in the data-directory, but {len(self.classnames)} found.\")\n",
    "        self.num_classes = len(self.classnames)\n",
    "        if task_type == self.BINARY_TASK:\n",
    "            self.num_classes = 1\n",
    "\n",
    "        self.image_size = image_size\n",
    "        self.dtype = dtype\n",
    "        self.batch_size = batch_size\n",
    "        self.transforms = transforms if transforms else torchvision.transforms.Compose([\n",
    "            torchvision.transforms.ToTensor(),\n",
    "            torchvision.transforms.Normalize(mean=0., std=1.),\n",
    "        ])\n",
    "        self.split_name = split_name\n",
    "        self.task_type = task_type\n",
    "        self.nch = nch\n",
    "        self.splits = splits\n",
    "        self.items = []\n",
    "        self.ablation = ablation\n",
    "        # load dataset\n",
    "        self._load(seed)\n",
    "\n",
    "    def _load_class_names(self):\n",
    "        return [i for i in os.listdir(self.path) if i != \".DS_Store\"]\n",
    "\n",
    "    def _group_images_by_subject(self, image_dir):\n",
    "        \"\"\"Groups images by subject ID based on their filenames.\n",
    "        Args:\n",
    "            image_dir: Path to the directory containing the images.\n",
    "        Returns:\n",
    "            A dictionary where keys are subject IDs and values are lists of image filenames.\n",
    "        \"\"\"\n",
    "        image_files = os.listdir(image_dir)\n",
    "        subject_groups = {}\n",
    "        for filename in image_files:\n",
    "            # Extract subject ID from the filename (adjust the pattern as needed)\n",
    "            # OAS1_0001_MR1_mpr-1_101.jpg\n",
    "            subject_id = \"_\".join(filename.split('_')[0:-1])\n",
    "            if subject_id not in subject_groups:\n",
    "                subject_groups[subject_id] = []\n",
    "            subject_groups[subject_id].append(os.path.join(image_dir, filename))\n",
    "        if self.verbose:\n",
    "            print(\"For\", len(subject_groups.keys()), \"patients,\", len(image_files),\n",
    "                  f\"images scanned from '{image_dir}'\")\n",
    "        return subject_groups\n",
    "\n",
    "    def item_generator(self):\n",
    "        \"\"\"\n",
    "        :return: yield MRI slices as list and encoded label\n",
    "        \"\"\"\n",
    "        for class_dir in self.classnames:\n",
    "            grouped_files = self._group_images_by_subject((self.path / class_dir).resolve())\n",
    "            for slices, label in zip(grouped_files.values(), [class_dir] * len(grouped_files.values())):\n",
    "                lbl = self.encode_labels(label)\n",
    "                yield self._sample_from(slices, OASISTorchDataset.VOLUME_DEPTH), lbl\n",
    "\n",
    "    @staticmethod\n",
    "    def _sample_from(lst, n):\n",
    "        if n > len(lst):\n",
    "            raise ValueError(\"Sample size cannot be greater than the list size.\")\n",
    "\n",
    "            # Calculate step size for approximately even distribution\n",
    "        step_size = len(lst) // n\n",
    "\n",
    "        # Generate indices with approximately even spacing\n",
    "        indices = [i * step_size for i in range(n)]\n",
    "\n",
    "        # Adjust last index to ensure it's within bounds\n",
    "        indices[-1] = min(indices[-1], len(lst) - 1)\n",
    "        return [lst[i] for i in indices]\n",
    "\n",
    "    def encode_labels(self, labels):\n",
    "        \"\"\"\n",
    "        :param labels: this could be a string or list of strings\n",
    "        :return: encoded binary tensor of [1,0,1,...] or [[0,1],[1,0],[0,1],...]\n",
    "                for categorical\n",
    "        \"\"\"\n",
    "        is_one_element = False\n",
    "        if isinstance(labels, str):\n",
    "            labels = [labels]\n",
    "            is_one_element = True\n",
    "        enc_label = []\n",
    "        for lbl in labels:\n",
    "            if lbl not in self.classnames:\n",
    "                warnings.warn(f\"'{lbl}' label is unknown\")\n",
    "            if self.task_type == self.BINARY_TASK:\n",
    "                enc_label.append(self.classnames.index(lbl))\n",
    "            else:\n",
    "                enc_label.append([lbl == cls_nm for cls_nm in self.classnames])\n",
    "        if is_one_element:\n",
    "            return np.array(enc_label[0]).astype(self.dtype)\n",
    "        else:\n",
    "            return np.array(enc_label).astype(self.dtype)\n",
    "\n",
    "    def decode_labels(self, probabilities: np.ndarray, probability_threshold=0.5):\n",
    "        \"\"\"\n",
    "        :param probabilities: batch of the network output(probabilities)\n",
    "        :param probability_threshold: to decide the class\n",
    "        :return: decode [probas1, probas2, ...] to tensor of [cls1, cls2,...]\n",
    "        \"\"\"\n",
    "        assert len(probabilities.shape) == 2, f\"`probabilities` shape must be two dimensional\"\n",
    "        if self.task_type == self.BINARY_TASK:\n",
    "            assert probabilities.shape[1] == 1, f\"`probabilities` shape must be (batch_size, 1)\"\n",
    "            binaries = probabilities >= probability_threshold\n",
    "            return list(map(lambda oi: self.classnames[int(oi)], binaries))\n",
    "        else:\n",
    "            assert probabilities.shape[1] == len(self.classnames), (f\"`probabilities` shape must be\"\n",
    "                                                                    f\" (batch_size, num_classes)\")\n",
    "            probability_threshold = [probability_threshold] * len(self.classnames)\n",
    "            indices = (probabilities >= probability_threshold).argmax(axis=1)\n",
    "            string_array = np.array(self.classnames)\n",
    "            return string_array[indices].tolist()\n",
    "\n",
    "    def load_volume(self, image_files: list, label=None):\n",
    "        \"\"\"Loads a 3D volume from a directory of JPEG images.\n",
    "        Args:\n",
    "            image_files: list of files\n",
    "        Returns:\n",
    "            A 3D representing the 3D volume\n",
    "        \"\"\"\n",
    "        image_volume = []\n",
    "        for image_path in image_files:\n",
    "            image_data = cv2.imread(image_path)\n",
    "            if self.nch == 1:\n",
    "                image_data = cv2.cvtColor(image_data, cv2.COLOR_BGR2GRAY)\n",
    "            else:\n",
    "                image_data = cv2.cvtColor(image_data, cv2.COLOR_BGR2RGB)\n",
    "            # resize\n",
    "            image_data = cv2.resize(image_data, self.image_size)\n",
    "            # transforming images\n",
    "            if self.transforms is not None:\n",
    "                image_data = self.transforms(image_data.astype(\"uint8\"))\n",
    "            # creating volume\n",
    "            image_volume.append(image_data)\n",
    "        volume = np.stack(image_volume, axis=0).astype(self.dtype).reshape((OASISTorchDataset.VOLUME_DEPTH,\n",
    "                                                                            *self.image_size, self.nch))\n",
    "        if label is None:\n",
    "            return volume\n",
    "        else:\n",
    "            return volume, label\n",
    "\n",
    "    def _collect_items(self):\n",
    "        return list(self.item_generator())\n",
    "\n",
    "    def _get_split_sizes(self, total_items):\n",
    "        size = total_items\n",
    "        # convert [0,100] scale to [0,1]\n",
    "        train_ratio = self.splits[0] / 100\n",
    "        val_ratio = self.splits[1] / 100\n",
    "        test_ratio = self.splits[2] / 100\n",
    "        # calculate no. of batches possible\n",
    "        no_batches = (size // self.batch_size)\n",
    "        # calculate no. of batches per split\n",
    "        train_batches = int(round(no_batches * train_ratio))\n",
    "        val_batches = int(round(no_batches * val_ratio))\n",
    "        test_batches = int(round(no_batches * test_ratio))\n",
    "        # calculate residual batches\n",
    "        residual_batches = train_batches + val_batches + test_batches - no_batches\n",
    "        # adjust residual batches to/from train_batches\n",
    "        if residual_batches < 0:\n",
    "            # if not all batches are used, add remaining batches to train set\n",
    "            test_batches += -residual_batches\n",
    "        if residual_batches > 0:\n",
    "            # if more batches are used, remove extra batches from train set\n",
    "            test_batches -= residual_batches\n",
    "        # now calculate item count per split form batch count\n",
    "        train_size = train_batches * self.batch_size\n",
    "        val_size = val_batches * self.batch_size\n",
    "        test_size = test_batches * self.batch_size\n",
    "        if self.verbose:\n",
    "            print(f\"Dataset {train_size=}, {val_size=}, and {test_size=}\")\n",
    "        return train_size, val_size, test_size\n",
    "\n",
    "    def _split(self, items):\n",
    "        train_size, val_size, test_size = self._get_split_sizes(len(items))\n",
    "        if self.split_name == \"train\":\n",
    "            # train\n",
    "            self.items = items[:train_size]\n",
    "        elif self.split_name == \"validation\":\n",
    "            # validation\n",
    "            self.items = items[train_size: train_size + val_size]\n",
    "        else:\n",
    "            # test\n",
    "            self.items = items[train_size + val_size:]\n",
    "        if self.ablation == 0:\n",
    "            if len(self.items) % self.batch_size != 0:\n",
    "                warnings.warn(f\"For {self.split_name=} {len(self.items) % self.batch_size} patient(s) MRI(s) \"\n",
    "                              f\"({(len(self.items) % self.batch_size) * OASISTorchDataset.VOLUME_DEPTH}) slices are\"\n",
    "                              f\" not in use\")\n",
    "\n",
    "        return self.items\n",
    "\n",
    "    def _load(self, seed):\n",
    "        items = self._collect_items()\n",
    "        # shuffle\n",
    "        random.seed(seed)\n",
    "        random.shuffle(items)\n",
    "        # ablation\n",
    "        if self.ablation:\n",
<<<<<<< HEAD
=======
    "            print(\"It is an abalation study. Reducing dataset\")\n",
>>>>>>> origin/colab-mvcnn
    "            items = items[:self.ablation]\n",
    "        # split\n",
    "        self.items = self._split(items)\n",
    "        return self\n",
    "\n",
    "    def __len__(self, ):\n",
    "        return len(self.items)\n",
    "\n",
    "    def __getitem__(self, idx):\n",
    "        return self.load_volume(*self.items[idx])\n",
    "\n",
    "\n",
    "class OASISTFDataset:\n",
    "    def __init__(self):\n",
    "        self.sample_dataset: OASISTorchDataset = None\n",
    "        self.classnames = None\n",
    "        self.num_classes = None\n",
    "        self.num_items = None\n",
    "        self.recommended_batches = None\n",
    "\n",
    "    @staticmethod\n",
    "    def torch_to_tf(torch_dataset):\n",
    "        def torch_data_gen():\n",
    "            for img, lbl in torch_dataset:\n",
    "                yield tf.convert_to_tensor(img), tf.convert_to_tensor(lbl)\n",
    "\n",
    "        input_shape = (torch_dataset.VOLUME_DEPTH, *torch_dataset.image_size, torch_dataset.nch)\n",
    "        label_shape = (torch_dataset.num_classes,)\n",
    "        input_datatype = (getattr(tf, torch_dataset.dtype), getattr(tf, torch_dataset.dtype))\n",
    "        dataset = tf.data.Dataset.from_generator(torch_data_gen,\n",
    "                                                 output_types=input_datatype,\n",
    "                                                 output_shapes=(input_shape, label_shape)\n",
    "                                                 )\n",
    "        return dataset\n",
    "\n",
    "    def tf_oasis_load_dataset(\n",
    "            self,\n",
    "            directory,\n",
    "            transforms,\n",
    "            label_mode=\"category\",\n",
    "            class_names=None,\n",
    "            color_mode=\"rgb\",\n",
    "            batch_size=32,\n",
    "            ablation=0,\n",
    "            image_size=(256, 256),\n",
    "            seed=None,\n",
    "            split_ratio_100=(70, 20, 10),\n",
    "            dtype=\"float32\",\n",
    "    ):\n",
    "        assert color_mode in (\"grayscale\", \"rgb\"), color_mode\n",
    "        assert label_mode in (OASISTorchDataset.BINARY_TASK, OASISTorchDataset.CATEGORY_TASK), label_mode\n",
    "        assert len(split_ratio_100) == 3 and sum(\n",
    "            split_ratio_100) == 100, f\"train-validation-test splits must accumulate to 100, but {split_ratio_100} given\"\n",
    "        # determine number of channels\n",
    "        nch = 3 if color_mode == \"rgb\" else 1\n",
    "        # load torch dataset\n",
    "        torch_data_train = OASISTorchDataset(directory,\n",
    "                                             task_type=label_mode,\n",
    "                                             image_size=image_size,\n",
    "                                             transforms=transforms,\n",
    "                                             batch_size=batch_size,\n",
    "                                             ablation=ablation,\n",
    "                                             split_name=\"train\",\n",
    "                                             nch=nch,\n",
    "                                             seed=seed,\n",
    "                                             splits=split_ratio_100,\n",
    "                                             class_names=class_names,\n",
    "                                             dtype=dtype,\n",
    "                                             verbose=1)\n",
    "        self.sample_dataset = torch_data_train\n",
    "        torch_data_val = OASISTorchDataset(directory,\n",
    "                                           task_type=label_mode,\n",
    "                                           image_size=image_size,\n",
    "                                           transforms=None,\n",
    "                                           batch_size=batch_size,\n",
    "                                           ablation=ablation,\n",
    "                                           split_name=\"validation\",\n",
    "                                           nch=nch,\n",
    "                                           seed=seed,\n",
    "                                           splits=split_ratio_100,\n",
    "                                           class_names=class_names,\n",
    "                                           dtype=dtype)\n",
    "        torch_data_test = OASISTorchDataset(directory,\n",
    "                                            task_type=label_mode,\n",
    "                                            image_size=image_size,\n",
    "                                            transforms=None,\n",
    "                                            batch_size=batch_size,\n",
    "                                            ablation=ablation,\n",
    "                                            split_name=\"test\",\n",
    "                                            nch=nch,\n",
    "                                            seed=seed,\n",
    "                                            splits=split_ratio_100,\n",
    "                                            class_names=class_names,\n",
    "                                            dtype=dtype)\n",
    "        self.classnames = torch_data_train.classnames\n",
    "        self.num_classes = torch_data_train.num_classes\n",
    "        self.num_items = len(torch_data_train) + len(torch_data_val) + len(torch_data_test)\n",
    "        print(\"Number of patients:\", self.num_items)\n",
    "        print(\"Class Names:\", self.classnames)\n",
    "        print(\"Number of classes:\", self.num_classes)\n",
    "        print(f\"Minimum MRI waste for {batch_size=} is\", self.num_items % batch_size)\n",
    "        print(f\"Minimum MRI slices waste for {batch_size=} is\",\n",
    "              self.num_items % batch_size * torch_data_train.VOLUME_DEPTH)\n",
    "        self.recommended_batches = [i for i in range(2, self.num_items + 1) if self.num_items % i == 0]\n",
    "        print(f\"0 waste batch recommendations:\", self.recommended_batches)\n",
    "        # convert torch to tf dataset\n",
    "        train_dataset = self.torch_to_tf(torch_data_train).cache('oasis_cache_train.tfrecord').prefetch(buffer_size=tf.data.AUTOTUNE)\n",
    "        val_dataset = self.torch_to_tf(torch_data_val).cache('oasis_cache_val.tfrecord').prefetch(buffer_size=tf.data.AUTOTUNE)\n",
    "        test_dataset = self.torch_to_tf(torch_data_test).cache('oasis_cache_test.tfrecord').prefetch(buffer_size=tf.data.AUTOTUNE)\n",
    "        return train_dataset.batch(batch_size), val_dataset.batch(batch_size), test_dataset.batch(batch_size)\n",
    "\n",
    "    def encode_label(self, labels):\n",
    "        return self.sample_dataset.encode_labels(labels)\n",
    "\n",
    "    def decode_labels(self, probabilities: np.ndarray, probability_threshold=0.5):\n",
    "        return self.sample_dataset.decode_labels(probabilities, probability_threshold)\n"
   ]
  },
  {
   "cell_type": "markdown",
   "metadata": {},
   "source": [
    "## Dataset loading optimization and normalization"
   ]
  },
  {
   "cell_type": "code",
   "execution_count": 13,
   "metadata": {},
   "outputs": [],
   "source": [
    " def bilateral_filter(pil_image):\n",
    "        return cv2.bilateralFilter(np.array(pil_image), 15, 75, 75)\n",
    "\n",
    "\n",
    "def img_reshape(tensor):\n",
    "    return tensor.view(image_size, image_size, n_ch)\n",
    "\n",
    "\n",
    "transforms = torchvision.transforms.Compose([\n",
    "    torchvision.transforms.ToTensor(),\n",
    "    torchvision.transforms.RandomVerticalFlip(),\n",
    "    torchvision.transforms.RandomHorizontalFlip(),\n",
    "    torchvision.transforms.ToPILImage(),\n",
    "    torchvision.transforms.Lambda(bilateral_filter),\n",
    "    torchvision.transforms.ToPILImage(),\n",
    "    torchvision.transforms.ToTensor(),\n",
    "    torchvision.transforms.Lambda(img_reshape),\n",
    "    torchvision.transforms.Normalize(mean=0., std=1.),\n",
    "])"
   ]
  },
  {
   "cell_type": "code",
   "execution_count": 14,
   "metadata": {},
   "outputs": [
    {
     "data": {
      "text/html": [
       "<pre style=\"white-space:pre;overflow-x:auto;line-height:normal;font-family:Menlo,'DejaVu Sans Mono',consolas,'Courier New',monospace\">For <span style=\"color: #008080; text-decoration-color: #008080; font-weight: bold\">82</span> patients, <span style=\"color: #008080; text-decoration-color: #008080; font-weight: bold\">5002</span> images scanned from <span style=\"color: #008000; text-decoration-color: #008000\">'/Users/soumensardar/Downloads/OASIS/Mild Dementia'</span>\n",
       "</pre>\n"
      ],
      "text/plain": [
       "For \u001b[1;36m82\u001b[0m patients, \u001b[1;36m5002\u001b[0m images scanned from \u001b[32m'/Users/soumensardar/Downloads/OASIS/Mild Dementia'\u001b[0m\n"
      ]
     },
     "metadata": {},
     "output_type": "display_data"
    },
    {
     "data": {
      "text/html": [
       "<pre style=\"white-space:pre;overflow-x:auto;line-height:normal;font-family:Menlo,'DejaVu Sans Mono',consolas,'Courier New',monospace\">For <span style=\"color: #008080; text-decoration-color: #008080; font-weight: bold\">225</span> patients, <span style=\"color: #008080; text-decoration-color: #008080; font-weight: bold\">13725</span> images scanned from <span style=\"color: #008000; text-decoration-color: #008000\">'/Users/soumensardar/Downloads/OASIS/Very mild Dementia'</span>\n",
       "</pre>\n"
      ],
      "text/plain": [
       "For \u001b[1;36m225\u001b[0m patients, \u001b[1;36m13725\u001b[0m images scanned from \u001b[32m'/Users/soumensardar/Downloads/OASIS/Very mild Dementia'\u001b[0m\n"
      ]
     },
     "metadata": {},
     "output_type": "display_data"
    },
    {
     "data": {
      "text/html": [
       "<pre style=\"white-space:pre;overflow-x:auto;line-height:normal;font-family:Menlo,'DejaVu Sans Mono',consolas,'Courier New',monospace\">For <span style=\"color: #008080; text-decoration-color: #008080; font-weight: bold\">8</span> patients, <span style=\"color: #008080; text-decoration-color: #008080; font-weight: bold\">488</span> images scanned from <span style=\"color: #008000; text-decoration-color: #008000\">'/Users/soumensardar/Downloads/OASIS/Moderate Dementia'</span>\n",
       "</pre>\n"
      ],
      "text/plain": [
       "For \u001b[1;36m8\u001b[0m patients, \u001b[1;36m488\u001b[0m images scanned from \u001b[32m'/Users/soumensardar/Downloads/OASIS/Moderate Dementia'\u001b[0m\n"
      ]
     },
     "metadata": {},
     "output_type": "display_data"
    },
    {
     "data": {
      "text/html": [
       "<pre style=\"white-space:pre;overflow-x:auto;line-height:normal;font-family:Menlo,'DejaVu Sans Mono',consolas,'Courier New',monospace\">For <span style=\"color: #008080; text-decoration-color: #008080; font-weight: bold\">1102</span> patients, <span style=\"color: #008080; text-decoration-color: #008080; font-weight: bold\">67222</span> images scanned from <span style=\"color: #008000; text-decoration-color: #008000\">'/Users/soumensardar/Downloads/OASIS/Non Demented'</span>\n",
       "</pre>\n"
      ],
      "text/plain": [
       "For \u001b[1;36m1102\u001b[0m patients, \u001b[1;36m67222\u001b[0m images scanned from \u001b[32m'/Users/soumensardar/Downloads/OASIS/Non Demented'\u001b[0m\n"
      ]
     },
     "metadata": {},
     "output_type": "display_data"
    },
    {
     "data": {
      "text/html": [
<<<<<<< HEAD
       "<pre style=\"white-space:pre;overflow-x:auto;line-height:normal;font-family:Menlo,'DejaVu Sans Mono',consolas,'Courier New',monospace\">Dataset <span style=\"color: #808000; text-decoration-color: #808000\">train_size</span>=<span style=\"color: #008080; text-decoration-color: #008080; font-weight: bold\">988</span>, <span style=\"color: #808000; text-decoration-color: #808000\">val_size</span>=<span style=\"color: #008080; text-decoration-color: #008080; font-weight: bold\">286</span>, and <span style=\"color: #808000; text-decoration-color: #808000\">test_size</span>=<span style=\"color: #008080; text-decoration-color: #008080; font-weight: bold\">143</span>\n",
       "</pre>\n"
      ],
      "text/plain": [
       "Dataset \u001b[33mtrain_size\u001b[0m=\u001b[1;36m988\u001b[0m, \u001b[33mval_size\u001b[0m=\u001b[1;36m286\u001b[0m, and \u001b[33mtest_size\u001b[0m=\u001b[1;36m143\u001b[0m\n"
=======
       "<pre style=\"white-space:pre;overflow-x:auto;line-height:normal;font-family:Menlo,'DejaVu Sans Mono',consolas,'Courier New',monospace\">It is an abalation study. Reducing dataset\n",
       "</pre>\n"
      ],
      "text/plain": [
       "It is an abalation study. Reducing dataset\n"
>>>>>>> origin/colab-mvcnn
      ]
     },
     "metadata": {},
     "output_type": "display_data"
    },
    {
     "data": {
      "text/html": [
<<<<<<< HEAD
       "<pre style=\"white-space:pre;overflow-x:auto;line-height:normal;font-family:Menlo,'DejaVu Sans Mono',consolas,'Courier New',monospace\">Number of patients: <span style=\"color: #008080; text-decoration-color: #008080; font-weight: bold\">1417</span>\n",
       "</pre>\n"
      ],
      "text/plain": [
       "Number of patients: \u001b[1;36m1417\u001b[0m\n"
=======
       "<pre style=\"white-space:pre;overflow-x:auto;line-height:normal;font-family:Menlo,'DejaVu Sans Mono',consolas,'Courier New',monospace\">Dataset <span style=\"color: #808000; text-decoration-color: #808000\">train_size</span>=<span style=\"color: #008080; text-decoration-color: #008080; font-weight: bold\">28</span>, <span style=\"color: #808000; text-decoration-color: #808000\">val_size</span>=<span style=\"color: #008080; text-decoration-color: #008080; font-weight: bold\">8</span>, and <span style=\"color: #808000; text-decoration-color: #808000\">test_size</span>=<span style=\"color: #008080; text-decoration-color: #008080; font-weight: bold\">4</span>\n",
       "</pre>\n"
      ],
      "text/plain": [
       "Dataset \u001b[33mtrain_size\u001b[0m=\u001b[1;36m28\u001b[0m, \u001b[33mval_size\u001b[0m=\u001b[1;36m8\u001b[0m, and \u001b[33mtest_size\u001b[0m=\u001b[1;36m4\u001b[0m\n"
      ]
     },
     "metadata": {},
     "output_type": "display_data"
    },
    {
     "data": {
      "text/html": [
       "<pre style=\"white-space:pre;overflow-x:auto;line-height:normal;font-family:Menlo,'DejaVu Sans Mono',consolas,'Courier New',monospace\">It is an abalation study. Reducing dataset\n",
       "</pre>\n"
      ],
      "text/plain": [
       "It is an abalation study. Reducing dataset\n"
      ]
     },
     "metadata": {},
     "output_type": "display_data"
    },
    {
     "data": {
      "text/html": [
       "<pre style=\"white-space:pre;overflow-x:auto;line-height:normal;font-family:Menlo,'DejaVu Sans Mono',consolas,'Courier New',monospace\">It is an abalation study. Reducing dataset\n",
       "</pre>\n"
      ],
      "text/plain": [
       "It is an abalation study. Reducing dataset\n"
      ]
     },
     "metadata": {},
     "output_type": "display_data"
    },
    {
     "data": {
      "text/html": [
       "<pre style=\"white-space:pre;overflow-x:auto;line-height:normal;font-family:Menlo,'DejaVu Sans Mono',consolas,'Courier New',monospace\">Number of patients: <span style=\"color: #008080; text-decoration-color: #008080; font-weight: bold\">40</span>\n",
       "</pre>\n"
      ],
      "text/plain": [
       "Number of patients: \u001b[1;36m40\u001b[0m\n"
>>>>>>> origin/colab-mvcnn
      ]
     },
     "metadata": {},
     "output_type": "display_data"
    },
    {
     "data": {
      "text/html": [
       "<pre style=\"white-space:pre;overflow-x:auto;line-height:normal;font-family:Menlo,'DejaVu Sans Mono',consolas,'Courier New',monospace\">Class Names:\n",
       "<span style=\"font-weight: bold\">[</span><span style=\"color: #008000; text-decoration-color: #008000\">'Mild Dementia'</span>, <span style=\"color: #008000; text-decoration-color: #008000\">'Very mild Dementia'</span>, <span style=\"color: #008000; text-decoration-color: #008000\">'Moderate Dementia'</span>, <span style=\"color: #008000; text-decoration-color: #008000\">'Non Demented'</span><span style=\"font-weight: bold\">]</span>\n",
       "</pre>\n"
      ],
      "text/plain": [
       "Class Names:\n",
       "\u001b[1m[\u001b[0m\u001b[32m'Mild Dementia'\u001b[0m, \u001b[32m'Very mild Dementia'\u001b[0m, \u001b[32m'Moderate Dementia'\u001b[0m, \u001b[32m'Non Demented'\u001b[0m\u001b[1m]\u001b[0m\n"
      ]
     },
     "metadata": {},
     "output_type": "display_data"
    },
    {
     "data": {
      "text/html": [
       "<pre style=\"white-space:pre;overflow-x:auto;line-height:normal;font-family:Menlo,'DejaVu Sans Mono',consolas,'Courier New',monospace\">Number of classes: <span style=\"color: #008080; text-decoration-color: #008080; font-weight: bold\">4</span>\n",
       "</pre>\n"
      ],
      "text/plain": [
       "Number of classes: \u001b[1;36m4\u001b[0m\n"
      ]
     },
     "metadata": {},
     "output_type": "display_data"
    },
    {
     "data": {
      "text/html": [
<<<<<<< HEAD
       "<pre style=\"white-space:pre;overflow-x:auto;line-height:normal;font-family:Menlo,'DejaVu Sans Mono',consolas,'Courier New',monospace\">Minimum MRI waste for <span style=\"color: #808000; text-decoration-color: #808000\">batch_size</span>=<span style=\"color: #008080; text-decoration-color: #008080; font-weight: bold\">13</span> is <span style=\"color: #008080; text-decoration-color: #008080; font-weight: bold\">0</span>\n",
       "</pre>\n"
      ],
      "text/plain": [
       "Minimum MRI waste for \u001b[33mbatch_size\u001b[0m=\u001b[1;36m13\u001b[0m is \u001b[1;36m0\u001b[0m\n"
=======
       "<pre style=\"white-space:pre;overflow-x:auto;line-height:normal;font-family:Menlo,'DejaVu Sans Mono',consolas,'Courier New',monospace\">Minimum MRI waste for <span style=\"color: #808000; text-decoration-color: #808000\">batch_size</span>=<span style=\"color: #008080; text-decoration-color: #008080; font-weight: bold\">4</span> is <span style=\"color: #008080; text-decoration-color: #008080; font-weight: bold\">0</span>\n",
       "</pre>\n"
      ],
      "text/plain": [
       "Minimum MRI waste for \u001b[33mbatch_size\u001b[0m=\u001b[1;36m4\u001b[0m is \u001b[1;36m0\u001b[0m\n"
>>>>>>> origin/colab-mvcnn
      ]
     },
     "metadata": {},
     "output_type": "display_data"
    },
    {
     "data": {
      "text/html": [
<<<<<<< HEAD
       "<pre style=\"white-space:pre;overflow-x:auto;line-height:normal;font-family:Menlo,'DejaVu Sans Mono',consolas,'Courier New',monospace\">Minimum MRI slices waste for <span style=\"color: #808000; text-decoration-color: #808000\">batch_size</span>=<span style=\"color: #008080; text-decoration-color: #008080; font-weight: bold\">13</span> is <span style=\"color: #008080; text-decoration-color: #008080; font-weight: bold\">0</span>\n",
       "</pre>\n"
      ],
      "text/plain": [
       "Minimum MRI slices waste for \u001b[33mbatch_size\u001b[0m=\u001b[1;36m13\u001b[0m is \u001b[1;36m0\u001b[0m\n"
=======
       "<pre style=\"white-space:pre;overflow-x:auto;line-height:normal;font-family:Menlo,'DejaVu Sans Mono',consolas,'Courier New',monospace\">Minimum MRI slices waste for <span style=\"color: #808000; text-decoration-color: #808000\">batch_size</span>=<span style=\"color: #008080; text-decoration-color: #008080; font-weight: bold\">4</span> is <span style=\"color: #008080; text-decoration-color: #008080; font-weight: bold\">0</span>\n",
       "</pre>\n"
      ],
      "text/plain": [
       "Minimum MRI slices waste for \u001b[33mbatch_size\u001b[0m=\u001b[1;36m4\u001b[0m is \u001b[1;36m0\u001b[0m\n"
>>>>>>> origin/colab-mvcnn
      ]
     },
     "metadata": {},
     "output_type": "display_data"
    },
    {
     "data": {
      "text/html": [
       "<pre style=\"white-space:pre;overflow-x:auto;line-height:normal;font-family:Menlo,'DejaVu Sans Mono',consolas,'Courier New',monospace\"><span style=\"color: #008080; text-decoration-color: #008080; font-weight: bold\">0</span> waste batch recommendations:\n",
<<<<<<< HEAD
       "<span style=\"font-weight: bold\">[</span><span style=\"color: #008080; text-decoration-color: #008080; font-weight: bold\">13</span>, <span style=\"color: #008080; text-decoration-color: #008080; font-weight: bold\">109</span>, <span style=\"color: #008080; text-decoration-color: #008080; font-weight: bold\">1417</span><span style=\"font-weight: bold\">]</span>\n",
=======
       "<span style=\"font-weight: bold\">[</span><span style=\"color: #008080; text-decoration-color: #008080; font-weight: bold\">2</span>, <span style=\"color: #008080; text-decoration-color: #008080; font-weight: bold\">4</span>, <span style=\"color: #008080; text-decoration-color: #008080; font-weight: bold\">5</span>, <span style=\"color: #008080; text-decoration-color: #008080; font-weight: bold\">8</span>, <span style=\"color: #008080; text-decoration-color: #008080; font-weight: bold\">10</span>, <span style=\"color: #008080; text-decoration-color: #008080; font-weight: bold\">20</span>, <span style=\"color: #008080; text-decoration-color: #008080; font-weight: bold\">40</span><span style=\"font-weight: bold\">]</span>\n",
>>>>>>> origin/colab-mvcnn
       "</pre>\n"
      ],
      "text/plain": [
       "\u001b[1;36m0\u001b[0m waste batch recommendations:\n",
<<<<<<< HEAD
       "\u001b[1m[\u001b[0m\u001b[1;36m13\u001b[0m, \u001b[1;36m109\u001b[0m, \u001b[1;36m1417\u001b[0m\u001b[1m]\u001b[0m\n"
=======
       "\u001b[1m[\u001b[0m\u001b[1;36m2\u001b[0m, \u001b[1;36m4\u001b[0m, \u001b[1;36m5\u001b[0m, \u001b[1;36m8\u001b[0m, \u001b[1;36m10\u001b[0m, \u001b[1;36m20\u001b[0m, \u001b[1;36m40\u001b[0m\u001b[1m]\u001b[0m\n"
>>>>>>> origin/colab-mvcnn
      ]
     },
     "metadata": {},
     "output_type": "display_data"
    },
    {
     "name": "stderr",
     "output_type": "stream",
     "text": [
<<<<<<< HEAD
      "2025-01-08 19:14:53.249451: I metal_plugin/src/device/metal_device.cc:1154] Metal device set to: Apple M2\n",
      "2025-01-08 19:14:53.249470: I metal_plugin/src/device/metal_device.cc:296] systemMemory: 8.00 GB\n",
      "2025-01-08 19:14:53.249477: I metal_plugin/src/device/metal_device.cc:313] maxCacheSize: 2.67 GB\n",
      "2025-01-08 19:14:53.249558: I tensorflow/core/common_runtime/pluggable_device/pluggable_device_factory.cc:303] Could not identify NUMA node of platform GPU ID 0, defaulting to 0. Your kernel may not have been built with NUMA support.\n",
      "2025-01-08 19:14:53.249580: I tensorflow/core/common_runtime/pluggable_device/pluggable_device_factory.cc:269] Created TensorFlow device (/job:localhost/replica:0/task:0/device:GPU:0 with 0 MB memory) -> physical PluggableDevice (device: 0, name: METAL, pci bus id: <undefined>)\n"
=======
      "2025-01-09 00:03:08.026876: I metal_plugin/src/device/metal_device.cc:1154] Metal device set to: Apple M2\n",
      "2025-01-09 00:03:08.026896: I metal_plugin/src/device/metal_device.cc:296] systemMemory: 8.00 GB\n",
      "2025-01-09 00:03:08.026901: I metal_plugin/src/device/metal_device.cc:313] maxCacheSize: 2.67 GB\n",
      "2025-01-09 00:03:08.027295: I tensorflow/core/common_runtime/pluggable_device/pluggable_device_factory.cc:303] Could not identify NUMA node of platform GPU ID 0, defaulting to 0. Your kernel may not have been built with NUMA support.\n",
      "2025-01-09 00:03:08.027876: I tensorflow/core/common_runtime/pluggable_device/pluggable_device_factory.cc:269] Created TensorFlow device (/job:localhost/replica:0/task:0/device:GPU:0 with 0 MB memory) -> physical PluggableDevice (device: 0, name: METAL, pci bus id: <undefined>)\n"
>>>>>>> origin/colab-mvcnn
     ]
    }
   ],
   "source": [
    "OASISTorchDataset.VOLUME_DEPTH = volume_depth\n",
    "odd = OASISTFDataset()\n",
    "train_ds, val_ds, test_ds = odd.tf_oasis_load_dataset(\n",
    "    datasetdir,\n",
    "    transforms=transforms,\n",
    "    label_mode=task_type,\n",
    "    class_names=None,\n",
    "    color_mode=color_mode,\n",
    "    batch_size=batch_size,\n",
    "    ablation=ablation_study_size,\n",
    "    image_size=(image_size, image_size),\n",
    "    seed=random_seed,\n",
    "    split_ratio_100=(70, 20, 10),\n",
    "    dtype = f\"float{precision}\",\n",
    ")\n",
    "\n",
    "CLASS_NAMES = odd.classnames\n",
    "num_classes = odd.num_classes"
   ]
  },
  {
   "cell_type": "code",
   "execution_count": 15,
   "metadata": {},
   "outputs": [
    {
     "data": {
      "text/plain": [
       "('class_weights', None, '==============')"
      ]
     },
     "execution_count": 15,
     "metadata": {},
     "output_type": "execute_result"
    }
   ],
   "source": [
    "class_weights = None\n",
    "\"class_weights\", class_weights, \"==============\""
   ]
  },
  {
   "cell_type": "markdown",
   "metadata": {},
   "source": [
    "# Logger and Callbacks"
   ]
  },
  {
   "cell_type": "code",
   "execution_count": 16,
   "metadata": {},
   "outputs": [],
   "source": [
    "# CSV Logger\n",
    "from tensorflow.keras.callbacks import CSVLogger, EarlyStopping\n",
    "from tensorflow.keras.callbacks import LambdaCallback, Callback, LearningRateScheduler\n",
    "import shutil, glob\n",
    "\n",
    "# Create EarlyStopping callback\n",
    "early_stopping = EarlyStopping(monitor=\"val_loss\", \n",
    "                               mode=\"min\", \n",
    "                               patience=7, \n",
    "                               min_delta=0.001,\n",
    "                               verbose=1,\n",
    "                               start_from_epoch=9,\n",
    "                               restore_best_weights=True)\n",
    "\n",
    "csv_logger = CSVLogger(artifact_root + '/metrics.csv')\n",
    "# Tensorboard Logger\n",
    "tensorboard_callback = tf.keras.callbacks.TensorBoard(\n",
    "    log_dir=tf_log_dir,\n",
    "    histogram_freq=0,\n",
    "    write_graph=False,\n",
    "    write_images=False,\n",
    "    write_steps_per_second=False,\n",
    "    update_freq='epoch',\n",
    "    profile_batch=0,\n",
    "    embeddings_freq=0,\n",
    "    embeddings_metadata=None    \n",
    ")\n",
    "\n",
    "model_ckpt = tf.keras.callbacks.ModelCheckpoint(\n",
    "    artifact_root + \"/models/epoch={epoch:02d}%s\"%model_ext,\n",
    "    monitor=monitor,\n",
    "    verbose=0,\n",
    "    save_best_only=False,\n",
    "    save_weights_only=False,\n",
    "    mode=mode,\n",
    "    save_freq=freq,\n",
    "    initial_value_threshold=initial_threshold,\n",
    ")\n",
    "\n",
    "model_best_ckpt = tf.keras.callbacks.ModelCheckpoint(\n",
    "    artifact_root + f\"/models/best-model{model_ext}\",\n",
    "    monitor=monitor,\n",
    "    verbose=1,\n",
    "    save_best_only=True,\n",
    "    save_weights_only=False,\n",
    "    mode=mode,\n",
    "    save_freq=freq,\n",
    "    initial_value_threshold=initial_threshold,\n",
    ")\n",
    "\n",
    "class BestModelEpochTrackerCallback(Callback):\n",
    "    \"\"\"\n",
    "    This callback monitor best values and updates in a json file project_dir/bestvalue.json\n",
    "    \"\"\"\n",
    "    def __init__(self, monitor, mode, initial_value_threshold=None, verbose=0):\n",
    "        assert mode in (\"min\", \"max\")\n",
    "        initial_thresh = initial_value_threshold\n",
    "        self.monitor = monitor\n",
    "        self.mode = mode\n",
    "        self.best_value = initial_thresh\n",
    "        if mode == \"min\":\n",
    "            self.is_better = np.less\n",
    "            if self.best_value is None:\n",
    "                self.best_value = np.Inf\n",
    "        elif mode == \"max\":\n",
    "            self.is_better = np.greater\n",
    "            if self.best_value is None:\n",
    "                self.best_value = -np.Inf \n",
    "        self.verbose = verbose\n",
    "        \n",
    "    def on_epoch_end(self, epoch, metrics=None):\n",
    "        curr_val = metrics.get(self.monitor, None)\n",
    "        assert curr_val is not None, f\"Unable to find the metric to monitor: {self.monitor}\"\n",
    "        if self.is_better(curr_val, self.best_value):\n",
    "            update_path = artifact_root + \"/bestvalue.json\"\n",
    "            if self.verbose:\n",
    "                print(f\"Epoch {epoch+1}: {self.monitor} improved form {self.best_value:.5f} to {curr_val:.5f} and saving updates to {update_path}\")\n",
    "            self.best_value = curr_val\n",
    "            with open(update_path, \"w\") as fp:\n",
    "                json.dump(dict(epoch=epoch+1, \n",
    "                               monitor=self.monitor, \n",
    "                               value=curr_val, \n",
    "                               mode=self.mode, \n",
    "                               frequency=\"epoch\"\n",
    "                              ), fp, indent=4)\n",
    "        else:\n",
    "            if self.verbose:\n",
    "                self.print(f\"Epoch {epoch+1}: {self.monitor} did not improved form {self.best_value}\")\n",
    "            \n",
    "                \n",
    "\n",
    "bestval_monitor_callback = BestModelEpochTrackerCallback(\n",
    "    monitor=monitor,\n",
    "    mode=mode,\n",
    "    initial_value_threshold=initial_threshold,\n",
    ")\n",
    "\n",
    "\n",
    "class CleanupCallback(Callback):\n",
    "    def on_epoch_end(self, epoch, metrics=None):\n",
    "        return\n",
    "        import gc\n",
    "        gc.collect()\n",
    "        \n",
    "    def on_epoch_begin(self, epoch, metrics=None):\n",
    "        # clean last checkpoint assets\n",
    "        last_epoch = epoch - 1\n",
    "        # update current\n",
    "        with open(artifact_root + \"/currentepoch.txt\", \"w\") as fp:\n",
    "            fp.write(f\"{epoch}\")\n",
    "        # look for last epoch checkpoint and delete\n",
<<<<<<< HEAD
    "        pattern = artifact_root + \"/models/epoch=%02d.h5\" % (last_epoch)\n",
    "        if os.path.exists(pattern):\n",
    "            os.remove(pattern)\n",
=======
    "        pattern = artifact_root + f\"/models/epoch=%02d{model_ext}\" % (last_epoch)\n",
    "        try:\n",
    "            if os.path.exists(pattern):\n",
    "                os.remove(pattern)\n",
    "        except:\n",
    "            pass\n",
>>>>>>> origin/colab-mvcnn
    "       \n",
    "        \n",
    "        \n",
    "cleanup_callback = CleanupCallback()\n",
    "lr_callback = LearningRateScheduler(lr_schedule)\n",
    "\n",
    "callbacks = []\n",
    "if lr_schedular:\n",
    "    callbacks.extend([lr_callback])\n",
    "\n",
    "callbacks.extend([csv_logger, tensorboard_callback, model_ckpt, model_best_ckpt, bestval_monitor_callback, cleanup_callback])\n",
    "\n",
    "if early_stop:\n",
    "    callbacks.extend([early_stopping])\n"
   ]
  },
  {
   "cell_type": "code",
   "execution_count": 17,
   "metadata": {},
   "outputs": [],
   "source": [
    "import keras.applications\n",
    "\n",
    "\n",
    "def create_multiview_mobilenet(input_shape, num_views, num_classes, trainable=False):\n",
    "    \"\"\"\n",
    "    Creates a multiview CNN model using MobileNet as the base.\n",
    "\n",
    "    Args:\n",
    "        input_shape: Tuple, shape of each input image (e.g., (224, 224, 3)).\n",
    "        num_views: Integer, number of input views.\n",
    "        num_classes: Integer, number of output classes.\n",
    "\n",
    "    Returns:\n",
    "        A Keras Model instance.\n",
    "    \"\"\"\n",
    "    input_tensor = keras.Input(shape=(num_views, *input_shape), name=\"multi_view_input\")\n",
    "\n",
    "    # Distribute the input to different branches for each view\n",
    "    def distribute_views(views):\n",
    "        unstacked_views = tf.split(views, num_views, axis=1, name=\"view_input_\")\n",
    "        unstacked_views = [tf.squeeze(t, axis=1) for t in unstacked_views]\n",
    "        return unstacked_views\n",
    "\n",
    "    distributed_input = keras.layers.Lambda(distribute_views, name=\"distribute_view_input\")(input_tensor)\n",
    "    # distributed_input = [keras.Input(shape=input_shape) for _ in range(num_views)]\n",
    "\n",
    "    # Create a list to store the outputs of each view's MobileNet\n",
    "    mobilenet_outputs = []\n",
    "\n",
    "    # Create and apply MobileNet to each view\n",
    "    for i in range(num_views):\n",
    "        base_model = keras.applications.MobileNet(weights='imagenet', include_top=False, input_shape=input_shape)\n",
    "        setattr(base_model, '_name', f\"{base_model.name}_view_{i}\")\n",
    "        base_model.trainable = trainable  # Freeze base model weights\n",
    "        x = base_model(distributed_input[i])\n",
    "        mobilenet_outputs.append(x)\n",
    "\n",
    "    # Concatenate the outputs of all views\n",
    "    merged_features = keras.layers.Concatenate(axis=-1)(mobilenet_outputs)\n",
    "\n",
    "    # Add custom layers on top of the concatenated features\n",
    "    x = keras.layers.Conv2D(256, (3, 3), activation='relu')(merged_features)\n",
    "    x = keras.layers.MaxPooling2D(pool_size=(2, 2))(x)\n",
    "    x = keras.layers.GlobalAveragePooling2D()(x)\n",
    "    x = keras.layers.Dropout(0.5)(x)\n",
    "    outputs = keras.layers.Dense(num_classes, activation='softmax')(x)\n",
    "\n",
    "    # Create and compile the final model\n",
    "    model = keras.Model(inputs=input_tensor, outputs=outputs)\n",
    "    return model"
   ]
  },
  {
   "cell_type": "markdown",
   "metadata": {},
   "source": [
    "# Model Multiview build"
   ]
  },
  {
   "cell_type": "code",
<<<<<<< HEAD
   "execution_count": 18,
=======
   "execution_count": 37,
>>>>>>> origin/colab-mvcnn
   "metadata": {
    "colab": {
     "base_uri": "https://localhost:8080/",
     "height": 211
    },
    "id": "422-4FV2I3fc",
    "outputId": "302edc0a-3d72-411d-96d3-f491243b826f",
    "scrolled": true
   },
   "outputs": [
    {
     "name": "stderr",
     "output_type": "stream",
     "text": [
      "WARNING:absl:At this time, the v2.11+ optimizer `tf.keras.optimizers.Adam` runs slowly on M1/M2 Macs, please use the legacy Keras optimizer instead, located at `tf.keras.optimizers.legacy.Adam`.\n"
     ]
    },
    {
     "data": {
      "text/html": [
       "<pre style=\"white-space:pre;overflow-x:auto;line-height:normal;font-family:Menlo,'DejaVu Sans Mono',consolas,'Courier New',monospace\">Building model<span style=\"color: #808000; text-decoration-color: #808000\">...</span>\n",
       "</pre>\n"
      ],
      "text/plain": [
       "Building model\u001b[33m...\u001b[0m\n"
      ]
     },
     "metadata": {},
     "output_type": "display_data"
    },
    {
     "data": {
      "text/html": [
       "<pre style=\"white-space:pre;overflow-x:auto;line-height:normal;font-family:Menlo,'DejaVu Sans Mono',consolas,'Courier New',monospace\">Building model<span style=\"color: #808000; text-decoration-color: #808000\">...</span>\n",
       "</pre>\n"
      ],
      "text/plain": [
       "Building model\u001b[33m...\u001b[0m\n"
      ]
     },
     "metadata": {},
     "output_type": "display_data"
    },
    {
     "data": {
      "text/html": [
       "<pre style=\"white-space:pre;overflow-x:auto;line-height:normal;font-family:Menlo,'DejaVu Sans Mono',consolas,'Courier New',monospace\">Compile model\n",
       "</pre>\n"
      ],
      "text/plain": [
       "Compile model\n"
      ]
     },
     "metadata": {},
     "output_type": "display_data"
    },
    {
     "data": {
      "text/html": [
       "<pre style=\"white-space:pre;overflow-x:auto;line-height:normal;font-family:Menlo,'DejaVu Sans Mono',consolas,'Courier New',monospace\">Compile model\n",
       "</pre>\n"
      ],
      "text/plain": [
       "Compile model\n"
      ]
     },
     "metadata": {},
     "output_type": "display_data"
    },
    {
     "name": "stderr",
     "output_type": "stream",
     "text": [
      "WARNING:absl:There is a known slowdown when using v2.11+ Keras optimizers on M1/M2 Macs. Falling back to the legacy Keras optimizer, i.e., `tf.keras.optimizers.legacy.Adam`.\n"
     ]
    },
    {
     "data": {
      "text/html": [
       "<pre style=\"white-space:pre;overflow-x:auto;line-height:normal;font-family:Menlo,'DejaVu Sans Mono',consolas,'Courier New',monospace\">Printing model summary<span style=\"color: #808000; text-decoration-color: #808000\">...</span>\n",
       "</pre>\n"
      ],
      "text/plain": [
       "Printing model summary\u001b[33m...\u001b[0m\n"
      ]
     },
     "metadata": {},
     "output_type": "display_data"
    },
    {
<<<<<<< HEAD
     "name": "stdout",
     "output_type": "stream",
     "text": [
      "Model: \"model\"\n",
      "__________________________________________________________________________________________________\n",
      " Layer (type)                Output Shape                 Param #   Connected to                  \n",
      "==================================================================================================\n",
      " multi_view_input (InputLay  [(None, 61, 224, 224, 3)]    0         []                            \n",
      " er)                                                                                              \n",
      "                                                                                                  \n",
      " distribute_view_input (Lam  [(None, 224, 224, 3),        0         ['multi_view_input[0][0]']    \n",
      " bda)                         (None, 224, 224, 3),                                                \n",
      "                              (None, 224, 224, 3),                                                \n",
      "                              (None, 224, 224, 3),                                                \n",
      "                              (None, 224, 224, 3),                                                \n",
      "                              (None, 224, 224, 3),                                                \n",
      "                              (None, 224, 224, 3),                                                \n",
      "                              (None, 224, 224, 3),                                                \n",
      "                              (None, 224, 224, 3),                                                \n",
      "                              (None, 224, 224, 3),                                                \n",
      "                              (None, 224, 224, 3),                                                \n",
      "                              (None, 224, 224, 3),                                                \n",
      "                              (None, 224, 224, 3),                                                \n",
      "                              (None, 224, 224, 3),                                                \n",
      "                              (None, 224, 224, 3),                                                \n",
      "                              (None, 224, 224, 3),                                                \n",
      "                              (None, 224, 224, 3),                                                \n",
      "                              (None, 224, 224, 3),                                                \n",
      "                              (None, 224, 224, 3),                                                \n",
      "                              (None, 224, 224, 3),                                                \n",
      "                              (None, 224, 224, 3),                                                \n",
      "                              (None, 224, 224, 3),                                                \n",
      "                              (None, 224, 224, 3),                                                \n",
      "                              (None, 224, 224, 3),                                                \n",
      "                              (None, 224, 224, 3),                                                \n",
      "                              (None, 224, 224, 3),                                                \n",
      "                              (None, 224, 224, 3),                                                \n",
      "                              (None, 224, 224, 3),                                                \n",
      "                              (None, 224, 224, 3),                                                \n",
      "                              (None, 224, 224, 3),                                                \n",
      "                              (None, 224, 224, 3),                                                \n",
      "                              (None, 224, 224, 3),                                                \n",
      "                              (None, 224, 224, 3),                                                \n",
      "                              (None, 224, 224, 3),                                                \n",
      "                              (None, 224, 224, 3),                                                \n",
      "                              (None, 224, 224, 3),                                                \n",
      "                              (None, 224, 224, 3),                                                \n",
      "                              (None, 224, 224, 3),                                                \n",
      "                              (None, 224, 224, 3),                                                \n",
      "                              (None, 224, 224, 3),                                                \n",
      "                              (None, 224, 224, 3),                                                \n",
      "                              (None, 224, 224, 3),                                                \n",
      "                              (None, 224, 224, 3),                                                \n",
      "                              (None, 224, 224, 3),                                                \n",
      "                              (None, 224, 224, 3),                                                \n",
      "                              (None, 224, 224, 3),                                                \n",
      "                              (None, 224, 224, 3),                                                \n",
      "                              (None, 224, 224, 3),                                                \n",
      "                              (None, 224, 224, 3),                                                \n",
      "                              (None, 224, 224, 3),                                                \n",
      "                              (None, 224, 224, 3),                                                \n",
      "                              (None, 224, 224, 3),                                                \n",
      "                              (None, 224, 224, 3),                                                \n",
      "                              (None, 224, 224, 3),                                                \n",
      "                              (None, 224, 224, 3),                                                \n",
      "                              (None, 224, 224, 3),                                                \n",
      "                              (None, 224, 224, 3),                                                \n",
      "                              (None, 224, 224, 3),                                                \n",
      "                              (None, 224, 224, 3),                                                \n",
      "                              (None, 224, 224, 3),                                                \n",
      "                              (None, 224, 224, 3)]                                                \n",
      "                                                                                                  \n",
      " mobilenet_1.00_224_view_0   (None, 7, 7, 1024)           3228864   ['distribute_view_input[0][0]'\n",
      " (Functional)                                                       ]                             \n",
      "                                                                                                  \n",
      " mobilenet_1.00_224_view_1   (None, 7, 7, 1024)           3228864   ['distribute_view_input[0][1]'\n",
      " (Functional)                                                       ]                             \n",
      "                                                                                                  \n",
      " mobilenet_1.00_224_view_2   (None, 7, 7, 1024)           3228864   ['distribute_view_input[0][2]'\n",
      " (Functional)                                                       ]                             \n",
      "                                                                                                  \n",
      " mobilenet_1.00_224_view_3   (None, 7, 7, 1024)           3228864   ['distribute_view_input[0][3]'\n",
      " (Functional)                                                       ]                             \n",
      "                                                                                                  \n",
      " mobilenet_1.00_224_view_4   (None, 7, 7, 1024)           3228864   ['distribute_view_input[0][4]'\n",
      " (Functional)                                                       ]                             \n",
      "                                                                                                  \n",
      " mobilenet_1.00_224_view_5   (None, 7, 7, 1024)           3228864   ['distribute_view_input[0][5]'\n",
      " (Functional)                                                       ]                             \n",
      "                                                                                                  \n",
      " mobilenet_1.00_224_view_6   (None, 7, 7, 1024)           3228864   ['distribute_view_input[0][6]'\n",
      " (Functional)                                                       ]                             \n",
      "                                                                                                  \n",
      " mobilenet_1.00_224_view_7   (None, 7, 7, 1024)           3228864   ['distribute_view_input[0][7]'\n",
      " (Functional)                                                       ]                             \n",
      "                                                                                                  \n",
      " mobilenet_1.00_224_view_8   (None, 7, 7, 1024)           3228864   ['distribute_view_input[0][8]'\n",
      " (Functional)                                                       ]                             \n",
      "                                                                                                  \n",
      " mobilenet_1.00_224_view_9   (None, 7, 7, 1024)           3228864   ['distribute_view_input[0][9]'\n",
      " (Functional)                                                       ]                             \n",
      "                                                                                                  \n",
      " mobilenet_1.00_224_view_10  (None, 7, 7, 1024)           3228864   ['distribute_view_input[0][10]\n",
      "  (Functional)                                                      ']                            \n",
      "                                                                                                  \n",
      " mobilenet_1.00_224_view_11  (None, 7, 7, 1024)           3228864   ['distribute_view_input[0][11]\n",
      "  (Functional)                                                      ']                            \n",
      "                                                                                                  \n",
      " mobilenet_1.00_224_view_12  (None, 7, 7, 1024)           3228864   ['distribute_view_input[0][12]\n",
      "  (Functional)                                                      ']                            \n",
      "                                                                                                  \n",
      " mobilenet_1.00_224_view_13  (None, 7, 7, 1024)           3228864   ['distribute_view_input[0][13]\n",
      "  (Functional)                                                      ']                            \n",
      "                                                                                                  \n",
      " mobilenet_1.00_224_view_14  (None, 7, 7, 1024)           3228864   ['distribute_view_input[0][14]\n",
      "  (Functional)                                                      ']                            \n",
      "                                                                                                  \n",
      " mobilenet_1.00_224_view_15  (None, 7, 7, 1024)           3228864   ['distribute_view_input[0][15]\n",
      "  (Functional)                                                      ']                            \n",
      "                                                                                                  \n",
      " mobilenet_1.00_224_view_16  (None, 7, 7, 1024)           3228864   ['distribute_view_input[0][16]\n",
      "  (Functional)                                                      ']                            \n",
      "                                                                                                  \n",
      " mobilenet_1.00_224_view_17  (None, 7, 7, 1024)           3228864   ['distribute_view_input[0][17]\n",
      "  (Functional)                                                      ']                            \n",
      "                                                                                                  \n",
      " mobilenet_1.00_224_view_18  (None, 7, 7, 1024)           3228864   ['distribute_view_input[0][18]\n",
      "  (Functional)                                                      ']                            \n",
      "                                                                                                  \n",
      " mobilenet_1.00_224_view_19  (None, 7, 7, 1024)           3228864   ['distribute_view_input[0][19]\n",
      "  (Functional)                                                      ']                            \n",
      "                                                                                                  \n",
      " mobilenet_1.00_224_view_20  (None, 7, 7, 1024)           3228864   ['distribute_view_input[0][20]\n",
      "  (Functional)                                                      ']                            \n",
      "                                                                                                  \n",
      " mobilenet_1.00_224_view_21  (None, 7, 7, 1024)           3228864   ['distribute_view_input[0][21]\n",
      "  (Functional)                                                      ']                            \n",
      "                                                                                                  \n",
      " mobilenet_1.00_224_view_22  (None, 7, 7, 1024)           3228864   ['distribute_view_input[0][22]\n",
      "  (Functional)                                                      ']                            \n",
      "                                                                                                  \n",
      " mobilenet_1.00_224_view_23  (None, 7, 7, 1024)           3228864   ['distribute_view_input[0][23]\n",
      "  (Functional)                                                      ']                            \n",
      "                                                                                                  \n",
      " mobilenet_1.00_224_view_24  (None, 7, 7, 1024)           3228864   ['distribute_view_input[0][24]\n",
      "  (Functional)                                                      ']                            \n",
      "                                                                                                  \n",
      " mobilenet_1.00_224_view_25  (None, 7, 7, 1024)           3228864   ['distribute_view_input[0][25]\n",
      "  (Functional)                                                      ']                            \n",
      "                                                                                                  \n",
      " mobilenet_1.00_224_view_26  (None, 7, 7, 1024)           3228864   ['distribute_view_input[0][26]\n",
      "  (Functional)                                                      ']                            \n",
      "                                                                                                  \n",
      " mobilenet_1.00_224_view_27  (None, 7, 7, 1024)           3228864   ['distribute_view_input[0][27]\n",
      "  (Functional)                                                      ']                            \n",
      "                                                                                                  \n",
      " mobilenet_1.00_224_view_28  (None, 7, 7, 1024)           3228864   ['distribute_view_input[0][28]\n",
      "  (Functional)                                                      ']                            \n",
      "                                                                                                  \n",
      " mobilenet_1.00_224_view_29  (None, 7, 7, 1024)           3228864   ['distribute_view_input[0][29]\n",
      "  (Functional)                                                      ']                            \n",
      "                                                                                                  \n",
      " mobilenet_1.00_224_view_30  (None, 7, 7, 1024)           3228864   ['distribute_view_input[0][30]\n",
      "  (Functional)                                                      ']                            \n",
      "                                                                                                  \n",
      " mobilenet_1.00_224_view_31  (None, 7, 7, 1024)           3228864   ['distribute_view_input[0][31]\n",
      "  (Functional)                                                      ']                            \n",
      "                                                                                                  \n",
      " mobilenet_1.00_224_view_32  (None, 7, 7, 1024)           3228864   ['distribute_view_input[0][32]\n",
      "  (Functional)                                                      ']                            \n",
      "                                                                                                  \n",
      " mobilenet_1.00_224_view_33  (None, 7, 7, 1024)           3228864   ['distribute_view_input[0][33]\n",
      "  (Functional)                                                      ']                            \n",
      "                                                                                                  \n",
      " mobilenet_1.00_224_view_34  (None, 7, 7, 1024)           3228864   ['distribute_view_input[0][34]\n",
      "  (Functional)                                                      ']                            \n",
      "                                                                                                  \n",
      " mobilenet_1.00_224_view_35  (None, 7, 7, 1024)           3228864   ['distribute_view_input[0][35]\n",
      "  (Functional)                                                      ']                            \n",
      "                                                                                                  \n",
      " mobilenet_1.00_224_view_36  (None, 7, 7, 1024)           3228864   ['distribute_view_input[0][36]\n",
      "  (Functional)                                                      ']                            \n",
      "                                                                                                  \n",
      " mobilenet_1.00_224_view_37  (None, 7, 7, 1024)           3228864   ['distribute_view_input[0][37]\n",
      "  (Functional)                                                      ']                            \n",
      "                                                                                                  \n",
      " mobilenet_1.00_224_view_38  (None, 7, 7, 1024)           3228864   ['distribute_view_input[0][38]\n",
      "  (Functional)                                                      ']                            \n",
      "                                                                                                  \n",
      " mobilenet_1.00_224_view_39  (None, 7, 7, 1024)           3228864   ['distribute_view_input[0][39]\n",
      "  (Functional)                                                      ']                            \n",
      "                                                                                                  \n",
      " mobilenet_1.00_224_view_40  (None, 7, 7, 1024)           3228864   ['distribute_view_input[0][40]\n",
      "  (Functional)                                                      ']                            \n",
      "                                                                                                  \n",
      " mobilenet_1.00_224_view_41  (None, 7, 7, 1024)           3228864   ['distribute_view_input[0][41]\n",
      "  (Functional)                                                      ']                            \n",
      "                                                                                                  \n",
      " mobilenet_1.00_224_view_42  (None, 7, 7, 1024)           3228864   ['distribute_view_input[0][42]\n",
      "  (Functional)                                                      ']                            \n",
      "                                                                                                  \n",
      " mobilenet_1.00_224_view_43  (None, 7, 7, 1024)           3228864   ['distribute_view_input[0][43]\n",
      "  (Functional)                                                      ']                            \n",
      "                                                                                                  \n",
      " mobilenet_1.00_224_view_44  (None, 7, 7, 1024)           3228864   ['distribute_view_input[0][44]\n",
      "  (Functional)                                                      ']                            \n",
      "                                                                                                  \n",
      " mobilenet_1.00_224_view_45  (None, 7, 7, 1024)           3228864   ['distribute_view_input[0][45]\n",
      "  (Functional)                                                      ']                            \n",
      "                                                                                                  \n",
      " mobilenet_1.00_224_view_46  (None, 7, 7, 1024)           3228864   ['distribute_view_input[0][46]\n",
      "  (Functional)                                                      ']                            \n",
      "                                                                                                  \n",
      " mobilenet_1.00_224_view_47  (None, 7, 7, 1024)           3228864   ['distribute_view_input[0][47]\n",
      "  (Functional)                                                      ']                            \n",
      "                                                                                                  \n",
      " mobilenet_1.00_224_view_48  (None, 7, 7, 1024)           3228864   ['distribute_view_input[0][48]\n",
      "  (Functional)                                                      ']                            \n",
      "                                                                                                  \n",
      " mobilenet_1.00_224_view_49  (None, 7, 7, 1024)           3228864   ['distribute_view_input[0][49]\n",
      "  (Functional)                                                      ']                            \n",
      "                                                                                                  \n",
      " mobilenet_1.00_224_view_50  (None, 7, 7, 1024)           3228864   ['distribute_view_input[0][50]\n",
      "  (Functional)                                                      ']                            \n",
      "                                                                                                  \n",
      " mobilenet_1.00_224_view_51  (None, 7, 7, 1024)           3228864   ['distribute_view_input[0][51]\n",
      "  (Functional)                                                      ']                            \n",
      "                                                                                                  \n",
      " mobilenet_1.00_224_view_52  (None, 7, 7, 1024)           3228864   ['distribute_view_input[0][52]\n",
      "  (Functional)                                                      ']                            \n",
      "                                                                                                  \n",
      " mobilenet_1.00_224_view_53  (None, 7, 7, 1024)           3228864   ['distribute_view_input[0][53]\n",
      "  (Functional)                                                      ']                            \n",
      "                                                                                                  \n",
      " mobilenet_1.00_224_view_54  (None, 7, 7, 1024)           3228864   ['distribute_view_input[0][54]\n",
      "  (Functional)                                                      ']                            \n",
      "                                                                                                  \n",
      " mobilenet_1.00_224_view_55  (None, 7, 7, 1024)           3228864   ['distribute_view_input[0][55]\n",
      "  (Functional)                                                      ']                            \n",
      "                                                                                                  \n",
      " mobilenet_1.00_224_view_56  (None, 7, 7, 1024)           3228864   ['distribute_view_input[0][56]\n",
      "  (Functional)                                                      ']                            \n",
      "                                                                                                  \n",
      " mobilenet_1.00_224_view_57  (None, 7, 7, 1024)           3228864   ['distribute_view_input[0][57]\n",
      "  (Functional)                                                      ']                            \n",
      "                                                                                                  \n",
      " mobilenet_1.00_224_view_58  (None, 7, 7, 1024)           3228864   ['distribute_view_input[0][58]\n",
      "  (Functional)                                                      ']                            \n",
      "                                                                                                  \n",
      " mobilenet_1.00_224_view_59  (None, 7, 7, 1024)           3228864   ['distribute_view_input[0][59]\n",
      "  (Functional)                                                      ']                            \n",
      "                                                                                                  \n",
      " mobilenet_1.00_224_view_60  (None, 7, 7, 1024)           3228864   ['distribute_view_input[0][60]\n",
      "  (Functional)                                                      ']                            \n",
      "                                                                                                  \n",
      " concatenate (Concatenate)   (None, 7, 7, 62464)          0         ['mobilenet_1.00_224_view_0[0]\n",
      "                                                                    [0]',                         \n",
      "                                                                     'mobilenet_1.00_224_view_1[0]\n",
      "                                                                    [0]',                         \n",
      "                                                                     'mobilenet_1.00_224_view_2[0]\n",
      "                                                                    [0]',                         \n",
      "                                                                     'mobilenet_1.00_224_view_3[0]\n",
      "                                                                    [0]',                         \n",
      "                                                                     'mobilenet_1.00_224_view_4[0]\n",
      "                                                                    [0]',                         \n",
      "                                                                     'mobilenet_1.00_224_view_5[0]\n",
      "                                                                    [0]',                         \n",
      "                                                                     'mobilenet_1.00_224_view_6[0]\n",
      "                                                                    [0]',                         \n",
      "                                                                     'mobilenet_1.00_224_view_7[0]\n",
      "                                                                    [0]',                         \n",
      "                                                                     'mobilenet_1.00_224_view_8[0]\n",
      "                                                                    [0]',                         \n",
      "                                                                     'mobilenet_1.00_224_view_9[0]\n",
      "                                                                    [0]',                         \n",
      "                                                                     'mobilenet_1.00_224_view_10[0\n",
      "                                                                    ][0]',                        \n",
      "                                                                     'mobilenet_1.00_224_view_11[0\n",
      "                                                                    ][0]',                        \n",
      "                                                                     'mobilenet_1.00_224_view_12[0\n",
      "                                                                    ][0]',                        \n",
      "                                                                     'mobilenet_1.00_224_view_13[0\n",
      "                                                                    ][0]',                        \n",
      "                                                                     'mobilenet_1.00_224_view_14[0\n",
      "                                                                    ][0]',                        \n",
      "                                                                     'mobilenet_1.00_224_view_15[0\n",
      "                                                                    ][0]',                        \n",
      "                                                                     'mobilenet_1.00_224_view_16[0\n",
      "                                                                    ][0]',                        \n",
      "                                                                     'mobilenet_1.00_224_view_17[0\n",
      "                                                                    ][0]',                        \n",
      "                                                                     'mobilenet_1.00_224_view_18[0\n",
      "                                                                    ][0]',                        \n",
      "                                                                     'mobilenet_1.00_224_view_19[0\n",
      "                                                                    ][0]',                        \n",
      "                                                                     'mobilenet_1.00_224_view_20[0\n",
      "                                                                    ][0]',                        \n",
      "                                                                     'mobilenet_1.00_224_view_21[0\n",
      "                                                                    ][0]',                        \n",
      "                                                                     'mobilenet_1.00_224_view_22[0\n",
      "                                                                    ][0]',                        \n",
      "                                                                     'mobilenet_1.00_224_view_23[0\n",
      "                                                                    ][0]',                        \n",
      "                                                                     'mobilenet_1.00_224_view_24[0\n",
      "                                                                    ][0]',                        \n",
      "                                                                     'mobilenet_1.00_224_view_25[0\n",
      "                                                                    ][0]',                        \n",
      "                                                                     'mobilenet_1.00_224_view_26[0\n",
      "                                                                    ][0]',                        \n",
      "                                                                     'mobilenet_1.00_224_view_27[0\n",
      "                                                                    ][0]',                        \n",
      "                                                                     'mobilenet_1.00_224_view_28[0\n",
      "                                                                    ][0]',                        \n",
      "                                                                     'mobilenet_1.00_224_view_29[0\n",
      "                                                                    ][0]',                        \n",
      "                                                                     'mobilenet_1.00_224_view_30[0\n",
      "                                                                    ][0]',                        \n",
      "                                                                     'mobilenet_1.00_224_view_31[0\n",
      "                                                                    ][0]',                        \n",
      "                                                                     'mobilenet_1.00_224_view_32[0\n",
      "                                                                    ][0]',                        \n",
      "                                                                     'mobilenet_1.00_224_view_33[0\n",
      "                                                                    ][0]',                        \n",
      "                                                                     'mobilenet_1.00_224_view_34[0\n",
      "                                                                    ][0]',                        \n",
      "                                                                     'mobilenet_1.00_224_view_35[0\n",
      "                                                                    ][0]',                        \n",
      "                                                                     'mobilenet_1.00_224_view_36[0\n",
      "                                                                    ][0]',                        \n",
      "                                                                     'mobilenet_1.00_224_view_37[0\n",
      "                                                                    ][0]',                        \n",
      "                                                                     'mobilenet_1.00_224_view_38[0\n",
      "                                                                    ][0]',                        \n",
      "                                                                     'mobilenet_1.00_224_view_39[0\n",
      "                                                                    ][0]',                        \n",
      "                                                                     'mobilenet_1.00_224_view_40[0\n",
      "                                                                    ][0]',                        \n",
      "                                                                     'mobilenet_1.00_224_view_41[0\n",
      "                                                                    ][0]',                        \n",
      "                                                                     'mobilenet_1.00_224_view_42[0\n",
      "                                                                    ][0]',                        \n",
      "                                                                     'mobilenet_1.00_224_view_43[0\n",
      "                                                                    ][0]',                        \n",
      "                                                                     'mobilenet_1.00_224_view_44[0\n",
      "                                                                    ][0]',                        \n",
      "                                                                     'mobilenet_1.00_224_view_45[0\n",
      "                                                                    ][0]',                        \n",
      "                                                                     'mobilenet_1.00_224_view_46[0\n",
      "                                                                    ][0]',                        \n",
      "                                                                     'mobilenet_1.00_224_view_47[0\n",
      "                                                                    ][0]',                        \n",
      "                                                                     'mobilenet_1.00_224_view_48[0\n",
      "                                                                    ][0]',                        \n",
      "                                                                     'mobilenet_1.00_224_view_49[0\n",
      "                                                                    ][0]',                        \n",
      "                                                                     'mobilenet_1.00_224_view_50[0\n",
      "                                                                    ][0]',                        \n",
      "                                                                     'mobilenet_1.00_224_view_51[0\n",
      "                                                                    ][0]',                        \n",
      "                                                                     'mobilenet_1.00_224_view_52[0\n",
      "                                                                    ][0]',                        \n",
      "                                                                     'mobilenet_1.00_224_view_53[0\n",
      "                                                                    ][0]',                        \n",
      "                                                                     'mobilenet_1.00_224_view_54[0\n",
      "                                                                    ][0]',                        \n",
      "                                                                     'mobilenet_1.00_224_view_55[0\n",
      "                                                                    ][0]',                        \n",
      "                                                                     'mobilenet_1.00_224_view_56[0\n",
      "                                                                    ][0]',                        \n",
      "                                                                     'mobilenet_1.00_224_view_57[0\n",
      "                                                                    ][0]',                        \n",
      "                                                                     'mobilenet_1.00_224_view_58[0\n",
      "                                                                    ][0]',                        \n",
      "                                                                     'mobilenet_1.00_224_view_59[0\n",
      "                                                                    ][0]',                        \n",
      "                                                                     'mobilenet_1.00_224_view_60[0\n",
      "                                                                    ][0]']                        \n",
      "                                                                                                  \n",
      " conv2d (Conv2D)             (None, 5, 5, 256)            1439173   ['concatenate[0][0]']         \n",
      "                                                          12                                      \n",
      "                                                                                                  \n",
      " max_pooling2d (MaxPooling2  (None, 2, 2, 256)            0         ['conv2d[0][0]']              \n",
      " D)                                                                                               \n",
      "                                                                                                  \n",
      " global_average_pooling2d (  (None, 256)                  0         ['max_pooling2d[0][0]']       \n",
      " GlobalAveragePooling2D)                                                                          \n",
      "                                                                                                  \n",
      " dropout (Dropout)           (None, 256)                  0         ['global_average_pooling2d[0][\n",
      "                                                                    0]']                          \n",
      "                                                                                                  \n",
      " dense (Dense)               (None, 4)                    1028      ['dropout[0][0]']             \n",
      "                                                                                                  \n",
      "==================================================================================================\n",
      "Total params: 340879044 (1.27 GB)\n",
      "Trainable params: 339543876 (1.26 GB)\n",
      "Non-trainable params: 1335168 (5.09 MB)\n",
      "__________________________________________________________________________________________________\n"
     ]
    }
   ],
   "source": [
    "# Define the model\n",
    "def prepare_model():\n",
    "    global image_size, image_size, n_ch, volume_depth, num_classes, trainable, learning_rate, distributed\n",
    "    import tensorflow as tf\n",
    "    # EACH LINK CONTAINS AVAILABLE OPTIONS\n",
    "    # Link: https://www.tensorflow.org/api_docs/python/tf/keras/optimizers#classes\n",
    "    optimizer = tf.keras.optimizers.Adam(learning_rate=learning_rate) # CHANGE HERE\n",
    "    # Link: https://www.tensorflow.org/api_docs/python/tf/keras/metrics#classes\n",
    "    metrics = [tf.keras.metrics.Accuracy(), \n",
    "               tf.keras.metrics.Recall(), \n",
    "               tf.keras.metrics.Precision(),\n",
    "               tf.keras.metrics.F1Score(average=\"macro\"),\n",
    "               tf.keras.metrics.SensitivityAtSpecificity(0.6),\n",
    "               tf.keras.metrics.SpecificityAtSensitivity(0.6)\n",
    "              ]\n",
    "\n",
    "    log(\"Building model...\")\n",
    "    import keras\n",
    "    mvmodel = create_multiview_mobilenet((image_size, image_size, n_ch), volume_depth, \n",
    "                                         num_classes, trainable=trainable)\n",
    "    \n",
    "    # Compile the model\n",
    "    log(\"Compile model\")\n",
    "    mvmodel.compile(optimizer=optimizer, loss=loss_function, metrics=metrics, \n",
    "                    run_eagerly=not distributed)\n",
    "    return mvmodel, optimizer, metrics\n",
    "\n",
    "def get_dummy_dataset():\n",
    "    global volume_depth, image_size, image_size, n_ch, num_classes\n",
    "    items = 1\n",
    "    features = tf.random.normal((items, volume_depth, image_size, image_size, n_ch))\n",
    "    labels = tf.ones(shape=(items, num_classes))\n",
    "    dataset = tf.data.Dataset.from_tensor_slices((features, labels))\n",
    "    return dataset.batch(1)\n",
    "\n",
    "import gc\n",
    "gc.collect()\n",
    "\n",
    "# Create a strategy to distribute training across CPU and GPU\n",
    "if distributed:\n",
    "    print(\"Distributed trainig is enabled\")\n",
    "    import tensorflow as tf, keras\n",
    "    strategy = tf.distribute.MirroredStrategy(devices)\n",
    "    with strategy.scope():\n",
    "        mvmodel, optimizer, metrics = prepare_model()\n",
    "else:\n",
    "    mvmodel, optimizer, metrics = prepare_model()\n",
    "\n",
    "print(\"Printing model summary...\")\n",
    "mvmodel.summary()\n",
    "model_lenet = mvmodel"
   ]
  },
  {
   "cell_type": "code",
   "execution_count": 19,
   "metadata": {},
   "outputs": [
    {
     "data": {
      "text/html": [
       "<pre style=\"white-space:pre;overflow-x:auto;line-height:normal;font-family:Menlo,'DejaVu Sans Mono',consolas,'Courier New',monospace\">Running warm-up step training<span style=\"color: #808000; text-decoration-color: #808000\">...</span>\n",
       "</pre>\n"
      ],
      "text/plain": [
       "Running warm-up step training\u001b[33m...\u001b[0m\n"
      ]
     },
     "metadata": {},
     "output_type": "display_data"
    },
    {
     "data": {
      "text/html": [
       "<pre style=\"white-space:pre;overflow-x:auto;line-height:normal;font-family:Menlo,'DejaVu Sans Mono',consolas,'Courier New',monospace\">Dummy dataset is prepared for warm-up.\n",
       "</pre>\n"
      ],
      "text/plain": [
       "Dummy dataset is prepared for warm-up.\n"
      ]
     },
     "metadata": {},
     "output_type": "display_data"
    },
    {
     "name": "stderr",
     "output_type": "stream",
     "text": [
      "/var/folders/2x/kb1y9tvx01j9226b9fd1y13r0000gn/T/ipykernel_2873/3998162462.py:5: UserWarning: `Model.fit_generator` is deprecated and will be removed in a future version. Please use `Model.fit`, which supports generators.\n",
      "  mvmodel.fit_generator(dummy_data, validation_data=dummy_data, epochs=1, steps_per_epoch=1)\n"
     ]
    },
    {
     "name": "stdout",
     "output_type": "stream",
     "text": [
      "1/1 [==============================] - 34s 34s/step - loss: 13.5276 - accuracy: 0.0000e+00 - recall: 0.2500 - precision: 1.0000 - f1_score: 0.2500 - sensitivity_at_specificity: 0.0000e+00 - specificity_at_sensitivity: 0.0000e+00 - val_loss: 579.9613 - val_accuracy: 0.2500 - val_recall: 0.2500 - val_precision: 1.0000 - val_f1_score: 0.2500 - val_sensitivity_at_specificity: 0.0000e+00 - val_specificity_at_sensitivity: 0.0000e+00\n"
=======
     "name": "stdout",
     "output_type": "stream",
     "text": [
      "Model: \"model_1\"\n",
      "__________________________________________________________________________________________________\n",
      " Layer (type)                Output Shape                 Param #   Connected to                  \n",
      "==================================================================================================\n",
      " multi_view_input (InputLay  [(None, 21, 224, 224, 3)]    0         []                            \n",
      " er)                                                                                              \n",
      "                                                                                                  \n",
      " distribute_view_input (Lam  [(None, 224, 224, 3),        0         ['multi_view_input[0][0]']    \n",
      " bda)                         (None, 224, 224, 3),                                                \n",
      "                              (None, 224, 224, 3),                                                \n",
      "                              (None, 224, 224, 3),                                                \n",
      "                              (None, 224, 224, 3),                                                \n",
      "                              (None, 224, 224, 3),                                                \n",
      "                              (None, 224, 224, 3),                                                \n",
      "                              (None, 224, 224, 3),                                                \n",
      "                              (None, 224, 224, 3),                                                \n",
      "                              (None, 224, 224, 3),                                                \n",
      "                              (None, 224, 224, 3),                                                \n",
      "                              (None, 224, 224, 3),                                                \n",
      "                              (None, 224, 224, 3),                                                \n",
      "                              (None, 224, 224, 3),                                                \n",
      "                              (None, 224, 224, 3),                                                \n",
      "                              (None, 224, 224, 3),                                                \n",
      "                              (None, 224, 224, 3),                                                \n",
      "                              (None, 224, 224, 3),                                                \n",
      "                              (None, 224, 224, 3),                                                \n",
      "                              (None, 224, 224, 3),                                                \n",
      "                              (None, 224, 224, 3)]                                                \n",
      "                                                                                                  \n",
      " mobilenet_1.00_224_view_0   (None, 7, 7, 1024)           3228864   ['distribute_view_input[0][0]'\n",
      " (Functional)                                                       ]                             \n",
      "                                                                                                  \n",
      " mobilenet_1.00_224_view_1   (None, 7, 7, 1024)           3228864   ['distribute_view_input[0][1]'\n",
      " (Functional)                                                       ]                             \n",
      "                                                                                                  \n",
      " mobilenet_1.00_224_view_2   (None, 7, 7, 1024)           3228864   ['distribute_view_input[0][2]'\n",
      " (Functional)                                                       ]                             \n",
      "                                                                                                  \n",
      " mobilenet_1.00_224_view_3   (None, 7, 7, 1024)           3228864   ['distribute_view_input[0][3]'\n",
      " (Functional)                                                       ]                             \n",
      "                                                                                                  \n",
      " mobilenet_1.00_224_view_4   (None, 7, 7, 1024)           3228864   ['distribute_view_input[0][4]'\n",
      " (Functional)                                                       ]                             \n",
      "                                                                                                  \n",
      " mobilenet_1.00_224_view_5   (None, 7, 7, 1024)           3228864   ['distribute_view_input[0][5]'\n",
      " (Functional)                                                       ]                             \n",
      "                                                                                                  \n",
      " mobilenet_1.00_224_view_6   (None, 7, 7, 1024)           3228864   ['distribute_view_input[0][6]'\n",
      " (Functional)                                                       ]                             \n",
      "                                                                                                  \n",
      " mobilenet_1.00_224_view_7   (None, 7, 7, 1024)           3228864   ['distribute_view_input[0][7]'\n",
      " (Functional)                                                       ]                             \n",
      "                                                                                                  \n",
      " mobilenet_1.00_224_view_8   (None, 7, 7, 1024)           3228864   ['distribute_view_input[0][8]'\n",
      " (Functional)                                                       ]                             \n",
      "                                                                                                  \n",
      " mobilenet_1.00_224_view_9   (None, 7, 7, 1024)           3228864   ['distribute_view_input[0][9]'\n",
      " (Functional)                                                       ]                             \n",
      "                                                                                                  \n",
      " mobilenet_1.00_224_view_10  (None, 7, 7, 1024)           3228864   ['distribute_view_input[0][10]\n",
      "  (Functional)                                                      ']                            \n",
      "                                                                                                  \n",
      " mobilenet_1.00_224_view_11  (None, 7, 7, 1024)           3228864   ['distribute_view_input[0][11]\n",
      "  (Functional)                                                      ']                            \n",
      "                                                                                                  \n",
      " mobilenet_1.00_224_view_12  (None, 7, 7, 1024)           3228864   ['distribute_view_input[0][12]\n",
      "  (Functional)                                                      ']                            \n",
      "                                                                                                  \n",
      " mobilenet_1.00_224_view_13  (None, 7, 7, 1024)           3228864   ['distribute_view_input[0][13]\n",
      "  (Functional)                                                      ']                            \n",
      "                                                                                                  \n",
      " mobilenet_1.00_224_view_14  (None, 7, 7, 1024)           3228864   ['distribute_view_input[0][14]\n",
      "  (Functional)                                                      ']                            \n",
      "                                                                                                  \n",
      " mobilenet_1.00_224_view_15  (None, 7, 7, 1024)           3228864   ['distribute_view_input[0][15]\n",
      "  (Functional)                                                      ']                            \n",
      "                                                                                                  \n",
      " mobilenet_1.00_224_view_16  (None, 7, 7, 1024)           3228864   ['distribute_view_input[0][16]\n",
      "  (Functional)                                                      ']                            \n",
      "                                                                                                  \n",
      " mobilenet_1.00_224_view_17  (None, 7, 7, 1024)           3228864   ['distribute_view_input[0][17]\n",
      "  (Functional)                                                      ']                            \n",
      "                                                                                                  \n",
      " mobilenet_1.00_224_view_18  (None, 7, 7, 1024)           3228864   ['distribute_view_input[0][18]\n",
      "  (Functional)                                                      ']                            \n",
      "                                                                                                  \n",
      " mobilenet_1.00_224_view_19  (None, 7, 7, 1024)           3228864   ['distribute_view_input[0][19]\n",
      "  (Functional)                                                      ']                            \n",
      "                                                                                                  \n",
      " mobilenet_1.00_224_view_20  (None, 7, 7, 1024)           3228864   ['distribute_view_input[0][20]\n",
      "  (Functional)                                                      ']                            \n",
      "                                                                                                  \n",
      " concatenate_1 (Concatenate  (None, 7, 7, 21504)          0         ['mobilenet_1.00_224_view_0[0]\n",
      " )                                                                  [0]',                         \n",
      "                                                                     'mobilenet_1.00_224_view_1[0]\n",
      "                                                                    [0]',                         \n",
      "                                                                     'mobilenet_1.00_224_view_2[0]\n",
      "                                                                    [0]',                         \n",
      "                                                                     'mobilenet_1.00_224_view_3[0]\n",
      "                                                                    [0]',                         \n",
      "                                                                     'mobilenet_1.00_224_view_4[0]\n",
      "                                                                    [0]',                         \n",
      "                                                                     'mobilenet_1.00_224_view_5[0]\n",
      "                                                                    [0]',                         \n",
      "                                                                     'mobilenet_1.00_224_view_6[0]\n",
      "                                                                    [0]',                         \n",
      "                                                                     'mobilenet_1.00_224_view_7[0]\n",
      "                                                                    [0]',                         \n",
      "                                                                     'mobilenet_1.00_224_view_8[0]\n",
      "                                                                    [0]',                         \n",
      "                                                                     'mobilenet_1.00_224_view_9[0]\n",
      "                                                                    [0]',                         \n",
      "                                                                     'mobilenet_1.00_224_view_10[0\n",
      "                                                                    ][0]',                        \n",
      "                                                                     'mobilenet_1.00_224_view_11[0\n",
      "                                                                    ][0]',                        \n",
      "                                                                     'mobilenet_1.00_224_view_12[0\n",
      "                                                                    ][0]',                        \n",
      "                                                                     'mobilenet_1.00_224_view_13[0\n",
      "                                                                    ][0]',                        \n",
      "                                                                     'mobilenet_1.00_224_view_14[0\n",
      "                                                                    ][0]',                        \n",
      "                                                                     'mobilenet_1.00_224_view_15[0\n",
      "                                                                    ][0]',                        \n",
      "                                                                     'mobilenet_1.00_224_view_16[0\n",
      "                                                                    ][0]',                        \n",
      "                                                                     'mobilenet_1.00_224_view_17[0\n",
      "                                                                    ][0]',                        \n",
      "                                                                     'mobilenet_1.00_224_view_18[0\n",
      "                                                                    ][0]',                        \n",
      "                                                                     'mobilenet_1.00_224_view_19[0\n",
      "                                                                    ][0]',                        \n",
      "                                                                     'mobilenet_1.00_224_view_20[0\n",
      "                                                                    ][0]']                        \n",
      "                                                                                                  \n",
      " conv2d_1 (Conv2D)           (None, 5, 5, 256)            4954547   ['concatenate_1[0][0]']       \n",
      "                                                          2                                       \n",
      "                                                                                                  \n",
      " max_pooling2d_1 (MaxPoolin  (None, 2, 2, 256)            0         ['conv2d_1[0][0]']            \n",
      " g2D)                                                                                             \n",
      "                                                                                                  \n",
      " global_average_pooling2d_1  (None, 256)                  0         ['max_pooling2d_1[0][0]']     \n",
      "  (GlobalAveragePooling2D)                                                                        \n",
      "                                                                                                  \n",
      " dropout_1 (Dropout)         (None, 256)                  0         ['global_average_pooling2d_1[0\n",
      "                                                                    ][0]']                        \n",
      "                                                                                                  \n",
      " dense_1 (Dense)             (None, 4)                    1028      ['dropout_1[0][0]']           \n",
      "                                                                                                  \n",
      "==================================================================================================\n",
      "Total params: 117352644 (447.66 MB)\n",
      "Trainable params: 116892996 (445.91 MB)\n",
      "Non-trainable params: 459648 (1.75 MB)\n",
      "__________________________________________________________________________________________________\n"
>>>>>>> origin/colab-mvcnn
     ]
    },
    {
     "data": {
      "text/html": [
       "<pre style=\"white-space:pre;overflow-x:auto;line-height:normal;font-family:Menlo,'DejaVu Sans Mono',consolas,'Courier New',monospace\">Model warm-up is done.\n",
       "</pre>\n"
      ],
      "text/plain": [
       "Model warm-up is done.\n"
      ]
     },
     "metadata": {},
     "output_type": "display_data"
    }
   ],
   "source": [
<<<<<<< HEAD
=======
    "# Define the model\n",
    "def prepare_model():\n",
    "    global image_size, image_size, n_ch, volume_depth, num_classes, trainable, learning_rate, distributed\n",
    "    import tensorflow as tf\n",
    "    # EACH LINK CONTAINS AVAILABLE OPTIONS\n",
    "    # Link: https://www.tensorflow.org/api_docs/python/tf/keras/optimizers#classes\n",
    "    optimizer = tf.keras.optimizers.Adam(learning_rate=learning_rate) # CHANGE HERE\n",
    "    # Link: https://www.tensorflow.org/api_docs/python/tf/keras/metrics#classes\n",
    "    metrics = [tf.keras.metrics.Accuracy(), \n",
    "               tf.keras.metrics.Recall(), \n",
    "               tf.keras.metrics.Precision(),\n",
    "               tf.keras.metrics.F1Score(average=\"macro\"),\n",
    "               tf.keras.metrics.SensitivityAtSpecificity(0.6),\n",
    "               tf.keras.metrics.SpecificityAtSensitivity(0.6)\n",
    "              ]\n",
    "\n",
    "    log(\"Building model...\")\n",
    "    import keras\n",
    "    mvmodel = create_multiview_mobilenet((image_size, image_size, n_ch), volume_depth, \n",
    "                                         num_classes, trainable=trainable)\n",
    "    \n",
    "    # Compile the model\n",
    "    log(\"Compile model\")\n",
    "    mvmodel.compile(optimizer=optimizer, loss=loss_function, metrics=metrics, \n",
    "                    run_eagerly=True)\n",
    "    return mvmodel, optimizer, metrics\n",
    "\n",
    "def get_dummy_dataset():\n",
    "    global volume_depth, image_size, image_size, n_ch, num_classes\n",
    "    items = 1\n",
    "    features = tf.random.normal((items, volume_depth, image_size, image_size, n_ch))\n",
    "    labels = tf.ones(shape=(items, num_classes))\n",
    "    dataset = tf.data.Dataset.from_tensor_slices((features, labels))\n",
    "    return dataset.batch(1)\n",
    "\n",
    "import gc\n",
    "gc.collect()\n",
    "\n",
    "# Create a strategy to distribute training across CPU and GPU\n",
    "if distributed:\n",
    "    print(\"Distributed trainig is enabled\")\n",
    "    import tensorflow as tf, keras\n",
    "    strategy = tf.distribute.MirroredStrategy(devices)\n",
    "    with strategy.scope():\n",
    "        mvmodel, optimizer, metrics = prepare_model()\n",
    "else:\n",
    "    mvmodel, optimizer, metrics = prepare_model()\n",
    "\n",
    "print(\"Printing model summary...\")\n",
    "mvmodel.summary()\n",
    "model_lenet = mvmodel"
   ]
  },
  {
   "cell_type": "code",
   "execution_count": 19,
   "metadata": {},
   "outputs": [
    {
     "data": {
      "text/html": [
       "<pre style=\"white-space:pre;overflow-x:auto;line-height:normal;font-family:Menlo,'DejaVu Sans Mono',consolas,'Courier New',monospace\">Running warm-up step training<span style=\"color: #808000; text-decoration-color: #808000\">...</span>\n",
       "</pre>\n"
      ],
      "text/plain": [
       "Running warm-up step training\u001b[33m...\u001b[0m\n"
      ]
     },
     "metadata": {},
     "output_type": "display_data"
    },
    {
     "data": {
      "text/html": [
       "<pre style=\"white-space:pre;overflow-x:auto;line-height:normal;font-family:Menlo,'DejaVu Sans Mono',consolas,'Courier New',monospace\">Dummy dataset is prepared for warm-up.\n",
       "</pre>\n"
      ],
      "text/plain": [
       "Dummy dataset is prepared for warm-up.\n"
      ]
     },
     "metadata": {},
     "output_type": "display_data"
    },
    {
     "name": "stdout",
     "output_type": "stream",
     "text": [
      "1/1 [==============================] - 5s 5s/step - loss: 41.4915 - accuracy: 0.0000e+00 - recall: 0.2500 - precision: 1.0000 - f1_score: 0.2500 - sensitivity_at_specificity: 0.0000e+00 - specificity_at_sensitivity: 0.0000e+00 - val_loss: 157.8676 - val_accuracy: 0.2500 - val_recall: 0.2500 - val_precision: 1.0000 - val_f1_score: 0.2500 - val_sensitivity_at_specificity: 0.0000e+00 - val_specificity_at_sensitivity: 0.0000e+00\n"
     ]
    },
    {
     "data": {
      "text/html": [
       "<pre style=\"white-space:pre;overflow-x:auto;line-height:normal;font-family:Menlo,'DejaVu Sans Mono',consolas,'Courier New',monospace\">Model warm-up is done.\n",
       "</pre>\n"
      ],
      "text/plain": [
       "Model warm-up is done.\n"
      ]
     },
     "metadata": {},
     "output_type": "display_data"
    }
   ],
   "source": [
>>>>>>> origin/colab-mvcnn
    "# Warm-up the strategy by performing a single training step\n",
    "print(\"Running warm-up step training...\")\n",
    "dummy_data = get_dummy_dataset()\n",
    "print(\"Dummy dataset is prepared for warm-up.\")\n",
<<<<<<< HEAD
    "mvmodel.fit_generator(dummy_data, validation_data=dummy_data, epochs=1, steps_per_epoch=1)\n",
=======
    "mvmodel.fit(dummy_data, validation_data=dummy_data,batch_size=batch_size, epochs=1, steps_per_epoch=1)\n",
>>>>>>> origin/colab-mvcnn
    "print(\"Model warm-up is done.\")"
   ]
  },
  {
   "cell_type": "markdown",
   "metadata": {},
   "source": [
    "# Saving parameters "
   ]
  },
  {
   "cell_type": "code",
   "execution_count": 20,
   "metadata": {
    "colab": {
     "base_uri": "https://localhost:8080/",
     "height": 211
    },
    "id": "ngUGLapkJJTS",
    "outputId": "ac1af57f-8bc0-4507-d1ab-60a63d33881b"
   },
   "outputs": [
    {
     "data": {
      "text/html": [
<<<<<<< HEAD
       "<pre style=\"white-space:pre;overflow-x:auto;line-height:normal;font-family:Menlo,'DejaVu Sans Mono',consolas,'Courier New',monospace\">Fresh training<span style=\"color: #808000; text-decoration-color: #808000\">...</span>\n",
       "</pre>\n"
      ],
      "text/plain": [
       "Fresh training\u001b[33m...\u001b[0m\n"
=======
       "<pre style=\"white-space:pre;overflow-x:auto;line-height:normal;font-family:Menlo,'DejaVu Sans Mono',consolas,'Courier New',monospace\">Resuming training<span style=\"color: #808000; text-decoration-color: #808000\">...</span> .<span style=\"color: #800080; text-decoration-color: #800080\">/results/tflogs_mvcnn/MultiViewMobileNet/20250108-234344/models/</span><span style=\"color: #ff00ff; text-decoration-color: #ff00ff\">epoch</span>=<span style=\"color: #008080; text-decoration-color: #008080; font-weight: bold\">02.</span>tf\n",
       "</pre>\n"
      ],
      "text/plain": [
       "Resuming training\u001b[33m...\u001b[0m .\u001b[35m/results/tflogs_mvcnn/MultiViewMobileNet/20250108-234344/models/\u001b[0m\u001b[95mepoch\u001b[0m=\u001b[1;36m02\u001b[0m\u001b[1;36m.\u001b[0mtf\n"
>>>>>>> origin/colab-mvcnn
      ]
     },
     "metadata": {},
     "output_type": "display_data"
    },
    {
     "data": {
      "text/html": [
<<<<<<< HEAD
       "<pre style=\"white-space:pre;overflow-x:auto;line-height:normal;font-family:Menlo,'DejaVu Sans Mono',consolas,'Courier New',monospace\">Fresh training<span style=\"color: #808000; text-decoration-color: #808000\">...</span>\n",
       "</pre>\n"
      ],
      "text/plain": [
       "Fresh training\u001b[33m...\u001b[0m\n"
=======
       "<pre style=\"white-space:pre;overflow-x:auto;line-height:normal;font-family:Menlo,'DejaVu Sans Mono',consolas,'Courier New',monospace\">Resuming training<span style=\"color: #808000; text-decoration-color: #808000\">...</span> .<span style=\"color: #800080; text-decoration-color: #800080\">/results/tflogs_mvcnn/MultiViewMobileNet/20250108-234344/models/</span><span style=\"color: #ff00ff; text-decoration-color: #ff00ff\">epoch</span>=<span style=\"color: #008080; text-decoration-color: #008080; font-weight: bold\">02.</span>tf\n",
       "</pre>\n"
      ],
      "text/plain": [
       "Resuming training\u001b[33m...\u001b[0m .\u001b[35m/results/tflogs_mvcnn/MultiViewMobileNet/20250108-234344/models/\u001b[0m\u001b[95mepoch\u001b[0m=\u001b[1;36m02\u001b[0m\u001b[1;36m.\u001b[0mtf\n"
>>>>>>> origin/colab-mvcnn
      ]
     },
     "metadata": {},
     "output_type": "display_data"
    },
    {
<<<<<<< HEAD
=======
     "name": "stderr",
     "output_type": "stream",
     "text": [
      "2025-01-09 00:03:20.982969: W tensorflow/core/util/tensor_slice_reader.cc:97] Could not open ./results/tflogs_mvcnn/MultiViewMobileNet/20250108-234344/models/epoch=02.tf: FAILED_PRECONDITION: results/tflogs_mvcnn/MultiViewMobileNet/20250108-234344/models/epoch=02.tf; Is a directory: perhaps your file is in a different file format and you need to use a different restore operator?\n"
     ]
    },
    {
>>>>>>> origin/colab-mvcnn
     "data": {
      "text/html": [
       "<pre style=\"white-space:pre;overflow-x:auto;line-height:normal;font-family:Menlo,'DejaVu Sans Mono',consolas,'Courier New',monospace\">Saving hyperparameters.\n",
       "</pre>\n"
      ],
      "text/plain": [
       "Saving hyperparameters.\n"
      ]
     },
     "metadata": {},
     "output_type": "display_data"
    },
    {
     "data": {
      "text/html": [
       "<pre style=\"white-space:pre;overflow-x:auto;line-height:normal;font-family:Menlo,'DejaVu Sans Mono',consolas,'Courier New',monospace\">Saving hyperparameters.\n",
       "</pre>\n"
      ],
      "text/plain": [
       "Saving hyperparameters.\n"
      ]
     },
     "metadata": {},
     "output_type": "display_data"
    },
    {
     "data": {
      "text/html": [
       "<pre style=\"white-space:pre;overflow-x:auto;line-height:normal;font-family:Menlo,'DejaVu Sans Mono',consolas,'Courier New',monospace\"><span style=\"font-weight: bold\">{</span>\n",
<<<<<<< HEAD
       "    <span style=\"color: #008000; text-decoration-color: #008000\">'timestamp'</span>: <span style=\"color: #008000; text-decoration-color: #008000\">'20250108-191452'</span>,\n",
       "    <span style=\"color: #008000; text-decoration-color: #008000\">'what_changed'</span>: <span style=\"color: #008000; text-decoration-color: #008000\">\"Training with model_name='MultiViewMobileNet' task_type='categorical' lr_schedular=False </span>\n",
       "<span style=\"color: #008000; text-decoration-color: #008000\">activation='softmax' loss_function='categorical_crossentropy'\"</span>,\n",
       "    <span style=\"color: #008000; text-decoration-color: #008000\">'random_state'</span>: <span style=\"color: #008080; text-decoration-color: #008080; font-weight: bold\">37</span>,\n",
       "    <span style=\"color: #008000; text-decoration-color: #008000\">'max_epoch'</span>: <span style=\"color: #008080; text-decoration-color: #008080; font-weight: bold\">50</span>,\n",
       "    <span style=\"color: #008000; text-decoration-color: #008000\">'batch_size'</span>: <span style=\"color: #008080; text-decoration-color: #008080; font-weight: bold\">13</span>,\n",
       "    <span style=\"color: #008000; text-decoration-color: #008000\">'image_size'</span>: <span style=\"color: #008080; text-decoration-color: #008080; font-weight: bold\">224</span>,\n",
       "    <span style=\"color: #008000; text-decoration-color: #008000\">'num_channels'</span>: <span style=\"color: #008080; text-decoration-color: #008080; font-weight: bold\">3</span>,\n",
       "    <span style=\"color: #008000; text-decoration-color: #008000\">'metrics'</span>: <span style=\"color: #008000; text-decoration-color: #008000\">'[&lt;keras.src.metrics.accuracy_metrics.Accuracy object at 0x341928370&gt;, </span>\n",
       "<span style=\"color: #008000; text-decoration-color: #008000\">&lt;keras.src.metrics.confusion_metrics.Recall object at 0x342862a00&gt;, &lt;keras.src.metrics.confusion_metrics.Precision </span>\n",
       "<span style=\"color: #008000; text-decoration-color: #008000\">object at 0x343286070&gt;, &lt;keras.src.metrics.f_score_metrics.F1Score object at 0x343286c10&gt;, </span>\n",
       "<span style=\"color: #008000; text-decoration-color: #008000\">&lt;keras.src.metrics.confusion_metrics.SensitivityAtSpecificity object at 0x343289730&gt;, </span>\n",
       "<span style=\"color: #008000; text-decoration-color: #008000\">&lt;keras.src.metrics.confusion_metrics.SpecificityAtSensitivity object at 0x3432959a0&gt;]'</span>,\n",
       "    <span style=\"color: #008000; text-decoration-color: #008000\">'loss_function'</span>: <span style=\"color: #008000; text-decoration-color: #008000\">'categorical_crossentropy'</span>,\n",
       "    <span style=\"color: #008000; text-decoration-color: #008000\">'monitoring'</span>: <span style=\"font-weight: bold\">{</span><span style=\"color: #008000; text-decoration-color: #008000\">'monitor'</span>: <span style=\"color: #008000; text-decoration-color: #008000\">'accuracy'</span>, <span style=\"color: #008000; text-decoration-color: #008000\">'initial_threshold'</span>: <span style=\"color: #008080; text-decoration-color: #008080; font-weight: bold\">0.5</span>, <span style=\"color: #008000; text-decoration-color: #008000\">'mode'</span>: <span style=\"color: #008000; text-decoration-color: #008000\">'max'</span><span style=\"font-weight: bold\">}</span>,\n",
       "    <span style=\"color: #008000; text-decoration-color: #008000\">'resume_training_timestamp'</span>: <span style=\"color: #800080; text-decoration-color: #800080; font-style: italic\">None</span>,\n",
       "    <span style=\"color: #008000; text-decoration-color: #008000\">'initial_epoch'</span>: <span style=\"color: #008080; text-decoration-color: #008080; font-weight: bold\">0</span>,\n",
=======
       "    <span style=\"color: #008000; text-decoration-color: #008000\">'timestamp'</span>: <span style=\"color: #008000; text-decoration-color: #008000\">'20250108-234344'</span>,\n",
       "    <span style=\"color: #008000; text-decoration-color: #008000\">'what_changed'</span>: <span style=\"color: #008000; text-decoration-color: #008000\">\"Training with model_name='MultiViewMobileNet' task_type='categorical' lr_schedular=False </span>\n",
       "<span style=\"color: #008000; text-decoration-color: #008000\">activation='softmax' loss_function='categorical_crossentropy' ablation_study_size=40\"</span>,\n",
       "    <span style=\"color: #008000; text-decoration-color: #008000\">'random_state'</span>: <span style=\"color: #008080; text-decoration-color: #008080; font-weight: bold\">37</span>,\n",
       "    <span style=\"color: #008000; text-decoration-color: #008000\">'max_epoch'</span>: <span style=\"color: #008080; text-decoration-color: #008080; font-weight: bold\">3</span>,\n",
       "    <span style=\"color: #008000; text-decoration-color: #008000\">'batch_size'</span>: <span style=\"color: #008080; text-decoration-color: #008080; font-weight: bold\">4</span>,\n",
       "    <span style=\"color: #008000; text-decoration-color: #008000\">'image_size'</span>: <span style=\"color: #008080; text-decoration-color: #008080; font-weight: bold\">224</span>,\n",
       "    <span style=\"color: #008000; text-decoration-color: #008000\">'num_channels'</span>: <span style=\"color: #008080; text-decoration-color: #008080; font-weight: bold\">3</span>,\n",
       "    <span style=\"color: #008000; text-decoration-color: #008000\">'metrics'</span>: <span style=\"color: #008000; text-decoration-color: #008000\">'[&lt;keras.src.metrics.accuracy_metrics.Accuracy object at 0x3182d8fa0&gt;, </span>\n",
       "<span style=\"color: #008000; text-decoration-color: #008000\">&lt;keras.src.metrics.confusion_metrics.Recall object at 0x318d1fa60&gt;, &lt;keras.src.metrics.confusion_metrics.Precision </span>\n",
       "<span style=\"color: #008000; text-decoration-color: #008000\">object at 0x3182a10d0&gt;, &lt;keras.src.metrics.f_score_metrics.F1Score object at 0x3182a1ca0&gt;, </span>\n",
       "<span style=\"color: #008000; text-decoration-color: #008000\">&lt;keras.src.metrics.confusion_metrics.SensitivityAtSpecificity object at 0x31829a7c0&gt;, </span>\n",
       "<span style=\"color: #008000; text-decoration-color: #008000\">&lt;keras.src.metrics.confusion_metrics.SpecificityAtSensitivity object at 0x31828aa00&gt;]'</span>,\n",
       "    <span style=\"color: #008000; text-decoration-color: #008000\">'loss_function'</span>: <span style=\"color: #008000; text-decoration-color: #008000\">'categorical_crossentropy'</span>,\n",
       "    <span style=\"color: #008000; text-decoration-color: #008000\">'monitoring'</span>: <span style=\"font-weight: bold\">{</span><span style=\"color: #008000; text-decoration-color: #008000\">'monitor'</span>: <span style=\"color: #008000; text-decoration-color: #008000\">'accuracy'</span>, <span style=\"color: #008000; text-decoration-color: #008000\">'initial_threshold'</span>: <span style=\"color: #008080; text-decoration-color: #008080; font-weight: bold\">0.9196428656578064</span>, <span style=\"color: #008000; text-decoration-color: #008000\">'mode'</span>: <span style=\"color: #008000; text-decoration-color: #008000\">'max'</span><span style=\"font-weight: bold\">}</span>,\n",
       "    <span style=\"color: #008000; text-decoration-color: #008000\">'resume_training_timestamp'</span>: <span style=\"color: #008000; text-decoration-color: #008000\">'20250108-234344'</span>,\n",
       "    <span style=\"color: #008000; text-decoration-color: #008000\">'initial_epoch'</span>: <span style=\"color: #008080; text-decoration-color: #008080; font-weight: bold\">2</span>,\n",
>>>>>>> origin/colab-mvcnn
       "    <span style=\"color: #008000; text-decoration-color: #008000\">'model_name'</span>: <span style=\"color: #008000; text-decoration-color: #008000\">'MultiViewMobileNet'</span>,\n",
       "    <span style=\"color: #008000; text-decoration-color: #008000\">'optimizer'</span>: <span style=\"color: #008000; text-decoration-color: #008000\">'Adam'</span>,\n",
       "    <span style=\"color: #008000; text-decoration-color: #008000\">'learning_rate'</span>: <span style=\"color: #008080; text-decoration-color: #008080; font-weight: bold\">0.001</span>,\n",
       "    <span style=\"color: #008000; text-decoration-color: #008000\">'lr_schedular'</span>: <span style=\"color: #ff0000; text-decoration-color: #ff0000; font-style: italic\">False</span>\n",
       "<span style=\"font-weight: bold\">}</span>\n",
       "</pre>\n"
      ],
      "text/plain": [
       "\u001b[1m{\u001b[0m\n",
<<<<<<< HEAD
       "    \u001b[32m'timestamp'\u001b[0m: \u001b[32m'20250108-191452'\u001b[0m,\n",
       "    \u001b[32m'what_changed'\u001b[0m: \u001b[32m\"Training with \u001b[0m\u001b[32mmodel_name\u001b[0m\u001b[32m='MultiViewMobileNet' \u001b[0m\u001b[32mtask_type\u001b[0m\u001b[32m='categorical' \u001b[0m\u001b[32mlr_schedular\u001b[0m\u001b[32m=\u001b[0m\u001b[32mFalse\u001b[0m\u001b[32m \u001b[0m\n",
       "\u001b[32mactivation\u001b[0m\u001b[32m='softmax' \u001b[0m\u001b[32mloss_function\u001b[0m\u001b[32m='categorical_crossentropy'\"\u001b[0m,\n",
       "    \u001b[32m'random_state'\u001b[0m: \u001b[1;36m37\u001b[0m,\n",
       "    \u001b[32m'max_epoch'\u001b[0m: \u001b[1;36m50\u001b[0m,\n",
       "    \u001b[32m'batch_size'\u001b[0m: \u001b[1;36m13\u001b[0m,\n",
       "    \u001b[32m'image_size'\u001b[0m: \u001b[1;36m224\u001b[0m,\n",
       "    \u001b[32m'num_channels'\u001b[0m: \u001b[1;36m3\u001b[0m,\n",
       "    \u001b[32m'metrics'\u001b[0m: \u001b[32m'\u001b[0m\u001b[32m[\u001b[0m\u001b[32m<\u001b[0m\u001b[32mkeras.src.metrics.accuracy_metrics.Accuracy\u001b[0m\u001b[32m object at 0x341928370>, \u001b[0m\n",
       "\u001b[32m<keras.src.metrics.confusion_metrics.Recall object at 0x342862a00>, <keras.src.metrics.confusion_metrics.Precision \u001b[0m\n",
       "\u001b[32mobject at 0x343286070>, <keras.src.metrics.f_score_metrics.F1Score object at 0x343286c10>, \u001b[0m\n",
       "\u001b[32m<keras.src.metrics.confusion_metrics.SensitivityAtSpecificity object at 0x343289730>, \u001b[0m\n",
       "\u001b[32m<keras.src.metrics.confusion_metrics.SpecificityAtSensitivity object at 0x3432959a0\u001b[0m\u001b[32m>\u001b[0m\u001b[32m]\u001b[0m\u001b[32m'\u001b[0m,\n",
       "    \u001b[32m'loss_function'\u001b[0m: \u001b[32m'categorical_crossentropy'\u001b[0m,\n",
       "    \u001b[32m'monitoring'\u001b[0m: \u001b[1m{\u001b[0m\u001b[32m'monitor'\u001b[0m: \u001b[32m'accuracy'\u001b[0m, \u001b[32m'initial_threshold'\u001b[0m: \u001b[1;36m0.5\u001b[0m, \u001b[32m'mode'\u001b[0m: \u001b[32m'max'\u001b[0m\u001b[1m}\u001b[0m,\n",
       "    \u001b[32m'resume_training_timestamp'\u001b[0m: \u001b[3;35mNone\u001b[0m,\n",
       "    \u001b[32m'initial_epoch'\u001b[0m: \u001b[1;36m0\u001b[0m,\n",
=======
       "    \u001b[32m'timestamp'\u001b[0m: \u001b[32m'20250108-234344'\u001b[0m,\n",
       "    \u001b[32m'what_changed'\u001b[0m: \u001b[32m\"Training with \u001b[0m\u001b[32mmodel_name\u001b[0m\u001b[32m='MultiViewMobileNet' \u001b[0m\u001b[32mtask_type\u001b[0m\u001b[32m='categorical' \u001b[0m\u001b[32mlr_schedular\u001b[0m\u001b[32m=\u001b[0m\u001b[32mFalse\u001b[0m\u001b[32m \u001b[0m\n",
       "\u001b[32mactivation\u001b[0m\u001b[32m='softmax' \u001b[0m\u001b[32mloss_function\u001b[0m\u001b[32m='categorical_crossentropy' \u001b[0m\u001b[32mablation_study_size\u001b[0m\u001b[32m=\u001b[0m\u001b[32m40\"\u001b[0m,\n",
       "    \u001b[32m'random_state'\u001b[0m: \u001b[1;36m37\u001b[0m,\n",
       "    \u001b[32m'max_epoch'\u001b[0m: \u001b[1;36m3\u001b[0m,\n",
       "    \u001b[32m'batch_size'\u001b[0m: \u001b[1;36m4\u001b[0m,\n",
       "    \u001b[32m'image_size'\u001b[0m: \u001b[1;36m224\u001b[0m,\n",
       "    \u001b[32m'num_channels'\u001b[0m: \u001b[1;36m3\u001b[0m,\n",
       "    \u001b[32m'metrics'\u001b[0m: \u001b[32m'\u001b[0m\u001b[32m[\u001b[0m\u001b[32m<\u001b[0m\u001b[32mkeras.src.metrics.accuracy_metrics.Accuracy\u001b[0m\u001b[32m object at 0x3182d8fa0>, \u001b[0m\n",
       "\u001b[32m<keras.src.metrics.confusion_metrics.Recall object at 0x318d1fa60>, <keras.src.metrics.confusion_metrics.Precision \u001b[0m\n",
       "\u001b[32mobject at 0x3182a10d0>, <keras.src.metrics.f_score_metrics.F1Score object at 0x3182a1ca0>, \u001b[0m\n",
       "\u001b[32m<keras.src.metrics.confusion_metrics.SensitivityAtSpecificity object at 0x31829a7c0>, \u001b[0m\n",
       "\u001b[32m<keras.src.metrics.confusion_metrics.SpecificityAtSensitivity object at 0x31828aa00\u001b[0m\u001b[32m>\u001b[0m\u001b[32m]\u001b[0m\u001b[32m'\u001b[0m,\n",
       "    \u001b[32m'loss_function'\u001b[0m: \u001b[32m'categorical_crossentropy'\u001b[0m,\n",
       "    \u001b[32m'monitoring'\u001b[0m: \u001b[1m{\u001b[0m\u001b[32m'monitor'\u001b[0m: \u001b[32m'accuracy'\u001b[0m, \u001b[32m'initial_threshold'\u001b[0m: \u001b[1;36m0.9196428656578064\u001b[0m, \u001b[32m'mode'\u001b[0m: \u001b[32m'max'\u001b[0m\u001b[1m}\u001b[0m,\n",
       "    \u001b[32m'resume_training_timestamp'\u001b[0m: \u001b[32m'20250108-234344'\u001b[0m,\n",
       "    \u001b[32m'initial_epoch'\u001b[0m: \u001b[1;36m2\u001b[0m,\n",
>>>>>>> origin/colab-mvcnn
       "    \u001b[32m'model_name'\u001b[0m: \u001b[32m'MultiViewMobileNet'\u001b[0m,\n",
       "    \u001b[32m'optimizer'\u001b[0m: \u001b[32m'Adam'\u001b[0m,\n",
       "    \u001b[32m'learning_rate'\u001b[0m: \u001b[1;36m0.001\u001b[0m,\n",
       "    \u001b[32m'lr_schedular'\u001b[0m: \u001b[3;91mFalse\u001b[0m\n",
       "\u001b[1m}\u001b[0m\n"
      ]
     },
     "metadata": {},
     "output_type": "display_data"
    }
   ],
   "source": [
    "# reload checkpoint\n",
    "if resume_checkpoint_path and os.path.exists(resume_checkpoint_path):\n",
    "    log(\"Resuming training...\", resume_checkpoint_path)\n",
    "    model_lenet.load_weights(resume_checkpoint_path)\n",
    "else:\n",
    "    log(\"Fresh training...\")\n",
    "    initial_epoch = 0\n",
    "# daving hyper-params\n",
    "save_hparams()"
   ]
  },
  {
   "cell_type": "markdown",
   "metadata": {},
   "source": [
    "# Training"
   ]
  },
  {
   "cell_type": "code",
   "execution_count": 21,
   "metadata": {},
   "outputs": [
    {
     "data": {
      "text/html": [
<<<<<<< HEAD
       "<pre style=\"white-space:pre;overflow-x:auto;line-height:normal;font-family:Menlo,'DejaVu Sans Mono',consolas,'Courier New',monospace\">Experiment: Started <span style=\"color: #00ff00; text-decoration-color: #00ff00; font-weight: bold\">19:15:53</span> <span style=\"color: #008080; text-decoration-color: #008080; font-weight: bold\">08</span>/<span style=\"color: #008080; text-decoration-color: #008080; font-weight: bold\">01</span>/<span style=\"color: #008080; text-decoration-color: #008080; font-weight: bold\">2025</span>\n",
       "</pre>\n"
      ],
      "text/plain": [
       "Experiment: Started \u001b[1;92m19:15:53\u001b[0m \u001b[1;36m08\u001b[0m/\u001b[1;36m01\u001b[0m/\u001b[1;36m2025\u001b[0m\n"
=======
       "<pre style=\"white-space:pre;overflow-x:auto;line-height:normal;font-family:Menlo,'DejaVu Sans Mono',consolas,'Courier New',monospace\">Experiment: Started <span style=\"color: #00ff00; text-decoration-color: #00ff00; font-weight: bold\">00:03:27</span> <span style=\"color: #008080; text-decoration-color: #008080; font-weight: bold\">09</span>/<span style=\"color: #008080; text-decoration-color: #008080; font-weight: bold\">01</span>/<span style=\"color: #008080; text-decoration-color: #008080; font-weight: bold\">2025</span>\n",
       "</pre>\n"
      ],
      "text/plain": [
       "Experiment: Started \u001b[1;92m00:03:27\u001b[0m \u001b[1;36m09\u001b[0m/\u001b[1;36m01\u001b[0m/\u001b[1;36m2025\u001b[0m\n"
>>>>>>> origin/colab-mvcnn
      ]
     },
     "metadata": {},
     "output_type": "display_data"
    },
    {
     "data": {
      "text/html": [
<<<<<<< HEAD
       "<pre style=\"white-space:pre;overflow-x:auto;line-height:normal;font-family:Menlo,'DejaVu Sans Mono',consolas,'Courier New',monospace\">Experiment: Started <span style=\"color: #00ff00; text-decoration-color: #00ff00; font-weight: bold\">19:15:53</span> <span style=\"color: #008080; text-decoration-color: #008080; font-weight: bold\">08</span>/<span style=\"color: #008080; text-decoration-color: #008080; font-weight: bold\">01</span>/<span style=\"color: #008080; text-decoration-color: #008080; font-weight: bold\">2025</span>\n",
       "</pre>\n"
      ],
      "text/plain": [
       "Experiment: Started \u001b[1;92m19:15:53\u001b[0m \u001b[1;36m08\u001b[0m/\u001b[1;36m01\u001b[0m/\u001b[1;36m2025\u001b[0m\n"
=======
       "<pre style=\"white-space:pre;overflow-x:auto;line-height:normal;font-family:Menlo,'DejaVu Sans Mono',consolas,'Courier New',monospace\">Experiment: Started <span style=\"color: #00ff00; text-decoration-color: #00ff00; font-weight: bold\">00:03:27</span> <span style=\"color: #008080; text-decoration-color: #008080; font-weight: bold\">09</span>/<span style=\"color: #008080; text-decoration-color: #008080; font-weight: bold\">01</span>/<span style=\"color: #008080; text-decoration-color: #008080; font-weight: bold\">2025</span>\n",
       "</pre>\n"
      ],
      "text/plain": [
       "Experiment: Started \u001b[1;92m00:03:27\u001b[0m \u001b[1;36m09\u001b[0m/\u001b[1;36m01\u001b[0m/\u001b[1;36m2025\u001b[0m\n"
>>>>>>> origin/colab-mvcnn
      ]
     },
     "metadata": {},
     "output_type": "display_data"
    },
    {
     "data": {
      "text/html": [
       "<pre style=\"white-space:pre;overflow-x:auto;line-height:normal;font-family:Menlo,'DejaVu Sans Mono',consolas,'Courier New',monospace\">Starting training <span style=\"color: #808000; text-decoration-color: #808000\">model</span>=<span style=\"color: #800080; text-decoration-color: #800080\">MultiViewMobileNet</span>\n",
       "</pre>\n"
      ],
      "text/plain": [
       "Starting training \u001b[33mmodel\u001b[0m=\u001b[35mMultiViewMobileNet\u001b[0m\n"
      ]
     },
     "metadata": {},
     "output_type": "display_data"
    },
    {
     "data": {
      "text/html": [
       "<pre style=\"white-space:pre;overflow-x:auto;line-height:normal;font-family:Menlo,'DejaVu Sans Mono',consolas,'Courier New',monospace\">Starting training <span style=\"color: #808000; text-decoration-color: #808000\">model</span>=<span style=\"color: #800080; text-decoration-color: #800080\">MultiViewMobileNet</span>\n",
       "</pre>\n"
      ],
      "text/plain": [
       "Starting training \u001b[33mmodel\u001b[0m=\u001b[35mMultiViewMobileNet\u001b[0m\n"
      ]
     },
     "metadata": {},
     "output_type": "display_data"
    },
    {
<<<<<<< HEAD
     "ename": "TypeError",
     "evalue": "fit_generator() got an unexpected keyword argument 'batch_size'",
     "output_type": "error",
     "traceback": [
      "\u001b[0;31m---------------------------------------------------------------------------\u001b[0m",
      "\u001b[0;31mTypeError\u001b[0m                                 Traceback (most recent call last)",
      "Cell \u001b[0;32mIn[21], line 4\u001b[0m\n\u001b[1;32m      2\u001b[0m log(\u001b[38;5;124m\"\u001b[39m\u001b[38;5;124mExperiment: Started\u001b[39m\u001b[38;5;124m\"\u001b[39m, time\u001b[38;5;241m=\u001b[39m\u001b[38;5;28;01mTrue\u001b[39;00m)\n\u001b[1;32m      3\u001b[0m log(\u001b[38;5;124mf\u001b[39m\u001b[38;5;124m\"\u001b[39m\u001b[38;5;124mStarting training model=\u001b[39m\u001b[38;5;132;01m{\u001b[39;00mmodel_name\u001b[38;5;132;01m}\u001b[39;00m\u001b[38;5;124m\"\u001b[39m)\n\u001b[0;32m----> 4\u001b[0m history \u001b[38;5;241m=\u001b[39m \u001b[43mmodel_lenet\u001b[49m\u001b[38;5;241;43m.\u001b[39;49m\u001b[43mfit_generator\u001b[49m\u001b[43m(\u001b[49m\u001b[43mtrain_ds\u001b[49m\u001b[43m,\u001b[49m\u001b[43m \u001b[49m\u001b[43mepochs\u001b[49m\u001b[38;5;241;43m=\u001b[39;49m\u001b[43mmax_epoch\u001b[49m\u001b[43m,\u001b[49m\u001b[43m \u001b[49m\n\u001b[1;32m      5\u001b[0m \u001b[43m                          \u001b[49m\u001b[43minitial_epoch\u001b[49m\u001b[38;5;241;43m=\u001b[39;49m\u001b[43minitial_epoch\u001b[49m\u001b[43m,\u001b[49m\u001b[43m \u001b[49m\n\u001b[1;32m      6\u001b[0m \u001b[43m                          \u001b[49m\u001b[43mbatch_size\u001b[49m\u001b[38;5;241;43m=\u001b[39;49m\u001b[43mbatch_size\u001b[49m\u001b[43m,\u001b[49m\u001b[43m \u001b[49m\n\u001b[1;32m      7\u001b[0m \u001b[43m                          \u001b[49m\u001b[43mcallbacks\u001b[49m\u001b[43m \u001b[49m\u001b[38;5;241;43m=\u001b[39;49m\u001b[43m \u001b[49m\u001b[43mcallbacks\u001b[49m\u001b[43m,\u001b[49m\n\u001b[1;32m      8\u001b[0m \u001b[43m                          \u001b[49m\u001b[43mclass_weight\u001b[49m\u001b[38;5;241;43m=\u001b[39;49m\u001b[43mclass_weights\u001b[49m\u001b[43m,\u001b[49m\n\u001b[1;32m      9\u001b[0m \u001b[43m                          \u001b[49m\u001b[43mvalidation_data\u001b[49m\u001b[38;5;241;43m=\u001b[39;49m\u001b[43mval_ds\u001b[49m\u001b[43m)\u001b[49m\n\u001b[1;32m     10\u001b[0m log(\u001b[38;5;124mf\u001b[39m\u001b[38;5;124m\"\u001b[39m\u001b[38;5;124mTraining done=\u001b[39m\u001b[38;5;132;01m{\u001b[39;00mmodel_name\u001b[38;5;132;01m}\u001b[39;00m\u001b[38;5;124m\"\u001b[39m)\n",
      "\u001b[0;31mTypeError\u001b[0m: fit_generator() got an unexpected keyword argument 'batch_size'"
     ]
=======
     "name": "stdout",
     "output_type": "stream",
     "text": [
      "Epoch 3/3\n",
      "      7/Unknown - 40s 6s/step - loss: 1.1132 - accuracy: 0.9464 - recall: 0.9643 - precision: 0.9643 - f1_score: 0.7266 - sensitivity_at_specificity: 1.0000 - specificity_at_sensitivity: 0.9881  INFO:tensorflow:Assets written to: ./results/tflogs_mvcnn/MultiViewMobileNet/20250108-234344/models/epoch=03.tf/assets\n"
     ]
    },
    {
     "name": "stderr",
     "output_type": "stream",
     "text": [
      "INFO:tensorflow:Assets written to: ./results/tflogs_mvcnn/MultiViewMobileNet/20250108-234344/models/epoch=03.tf/assets\n"
     ]
    },
    {
     "name": "stdout",
     "output_type": "stream",
     "text": [
      "\n",
      "Epoch 3: accuracy improved from 0.91964 to 0.94643, saving model to ./results/tflogs_mvcnn/MultiViewMobileNet/20250108-234344/models/best-model.tf\n",
      "INFO:tensorflow:Assets written to: ./results/tflogs_mvcnn/MultiViewMobileNet/20250108-234344/models/best-model.tf/assets\n"
     ]
    },
    {
     "name": "stderr",
     "output_type": "stream",
     "text": [
      "INFO:tensorflow:Assets written to: ./results/tflogs_mvcnn/MultiViewMobileNet/20250108-234344/models/best-model.tf/assets\n"
     ]
    },
    {
     "name": "stdout",
     "output_type": "stream",
     "text": [
      "7/7 [==============================] - 482s 79s/step - loss: 1.1132 - accuracy: 0.9464 - recall: 0.9643 - precision: 0.9643 - f1_score: 0.7266 - sensitivity_at_specificity: 1.0000 - specificity_at_sensitivity: 0.9881 - val_loss: 0.0000e+00 - val_accuracy: 1.0000 - val_recall: 1.0000 - val_precision: 1.0000 - val_f1_score: 0.2500 - val_sensitivity_at_specificity: 1.0000 - val_specificity_at_sensitivity: 1.0000\n"
     ]
    },
    {
     "data": {
      "text/html": [
       "<pre style=\"white-space:pre;overflow-x:auto;line-height:normal;font-family:Menlo,'DejaVu Sans Mono',consolas,'Courier New',monospace\">Training <span style=\"color: #808000; text-decoration-color: #808000\">done</span>=<span style=\"color: #800080; text-decoration-color: #800080\">MultiViewMobileNet</span>\n",
       "</pre>\n"
      ],
      "text/plain": [
       "Training \u001b[33mdone\u001b[0m=\u001b[35mMultiViewMobileNet\u001b[0m\n"
      ]
     },
     "metadata": {},
     "output_type": "display_data"
    },
    {
     "data": {
      "text/html": [
       "<pre style=\"white-space:pre;overflow-x:auto;line-height:normal;font-family:Menlo,'DejaVu Sans Mono',consolas,'Courier New',monospace\">Training <span style=\"color: #808000; text-decoration-color: #808000\">done</span>=<span style=\"color: #800080; text-decoration-color: #800080\">MultiViewMobileNet</span>\n",
       "</pre>\n"
      ],
      "text/plain": [
       "Training \u001b[33mdone\u001b[0m=\u001b[35mMultiViewMobileNet\u001b[0m\n"
      ]
     },
     "metadata": {},
     "output_type": "display_data"
>>>>>>> origin/colab-mvcnn
    }
   ],
   "source": [
    "# Train the model\n",
    "log(\"Experiment: Started\", time=True)\n",
    "log(f\"Starting training model={model_name}\")\n",
<<<<<<< HEAD
    "history = model_lenet.fit_generator(train_ds, epochs=max_epoch, \n",
=======
    "history = model_lenet.fit(train_ds, validation_data=val_ds,\n",
    "                          epochs=max_epoch,\n",
>>>>>>> origin/colab-mvcnn
    "                          initial_epoch=initial_epoch, \n",
    "                          callbacks = callbacks,\n",
    "                          class_weight=class_weights,\n",
    "                          batch_size=batch_size,\n",
    "                          max_queue_size=3,\n",
    "                         )\n",
    "log(f\"Training done={model_name}\")"
   ]
  },
  {
   "cell_type": "code",
   "execution_count": null,
   "metadata": {},
   "outputs": [],
   "source": []
  },
  {
   "cell_type": "code",
   "execution_count": 28,
   "metadata": {
    "colab": {
     "base_uri": "https://localhost:8080/",
     "height": 158
    },
    "id": "5wxWcmISJaLB",
    "outputId": "4c5daded-5a68-4990-c8d2-bc1b4ba85d89"
   },
   "outputs": [
    {
     "data": {
      "text/html": [
       "<pre style=\"white-space:pre;overflow-x:auto;line-height:normal;font-family:Menlo,'DejaVu Sans Mono',consolas,'Courier New',monospace\">Loading best model<span style=\"color: #808000; text-decoration-color: #808000\">...</span> .<span style=\"color: #800080; text-decoration-color: #800080\">/results/tflogs_mvcnn/MultiViewMobileNet/20250108-234344/models/</span><span style=\"color: #ff00ff; text-decoration-color: #ff00ff\">best-model.tf</span>\n",
       "</pre>\n"
      ],
      "text/plain": [
       "Loading best model\u001b[33m...\u001b[0m .\u001b[35m/results/tflogs_mvcnn/MultiViewMobileNet/20250108-234344/models/\u001b[0m\u001b[95mbest-model.tf\u001b[0m\n"
      ]
     },
     "metadata": {},
     "output_type": "display_data"
    },
    {
     "data": {
      "text/html": [
       "<pre style=\"white-space:pre;overflow-x:auto;line-height:normal;font-family:Menlo,'DejaVu Sans Mono',consolas,'Courier New',monospace\">Loading best model<span style=\"color: #808000; text-decoration-color: #808000\">...</span> .<span style=\"color: #800080; text-decoration-color: #800080\">/results/tflogs_mvcnn/MultiViewMobileNet/20250108-234344/models/</span><span style=\"color: #ff00ff; text-decoration-color: #ff00ff\">best-model.tf</span>\n",
       "</pre>\n"
      ],
      "text/plain": [
       "Loading best model\u001b[33m...\u001b[0m .\u001b[35m/results/tflogs_mvcnn/MultiViewMobileNet/20250108-234344/models/\u001b[0m\u001b[95mbest-model.tf\u001b[0m\n"
      ]
     },
     "metadata": {},
     "output_type": "display_data"
    },
    {
     "name": "stderr",
     "output_type": "stream",
     "text": [
      "2025-01-09 00:11:39.686587: W tensorflow/core/util/tensor_slice_reader.cc:97] Could not open ./results/tflogs_mvcnn/MultiViewMobileNet/20250108-234344/models/best-model.tf: FAILED_PRECONDITION: results/tflogs_mvcnn/MultiViewMobileNet/20250108-234344/models/best-model.tf; Is a directory: perhaps your file is in a different file format and you need to use a different restore operator?\n"
     ]
    },
    {
     "data": {
      "text/html": [
       "<pre style=\"white-space:pre;overflow-x:auto;line-height:normal;font-family:Menlo,'DejaVu Sans Mono',consolas,'Courier New',monospace\">Experiment: Evaluating <span style=\"color: #00ff00; text-decoration-color: #00ff00; font-weight: bold\">00:11:49</span> <span style=\"color: #008080; text-decoration-color: #008080; font-weight: bold\">09</span>/<span style=\"color: #008080; text-decoration-color: #008080; font-weight: bold\">01</span>/<span style=\"color: #008080; text-decoration-color: #008080; font-weight: bold\">2025</span>\n",
       "</pre>\n"
      ],
      "text/plain": [
       "Experiment: Evaluating \u001b[1;92m00:11:49\u001b[0m \u001b[1;36m09\u001b[0m/\u001b[1;36m01\u001b[0m/\u001b[1;36m2025\u001b[0m\n"
      ]
     },
     "metadata": {},
     "output_type": "display_data"
    },
    {
     "data": {
      "text/html": [
       "<pre style=\"white-space:pre;overflow-x:auto;line-height:normal;font-family:Menlo,'DejaVu Sans Mono',consolas,'Courier New',monospace\">Experiment: Evaluating <span style=\"color: #00ff00; text-decoration-color: #00ff00; font-weight: bold\">00:11:49</span> <span style=\"color: #008080; text-decoration-color: #008080; font-weight: bold\">09</span>/<span style=\"color: #008080; text-decoration-color: #008080; font-weight: bold\">01</span>/<span style=\"color: #008080; text-decoration-color: #008080; font-weight: bold\">2025</span>\n",
       "</pre>\n"
      ],
      "text/plain": [
       "Experiment: Evaluating \u001b[1;92m00:11:49\u001b[0m \u001b[1;36m09\u001b[0m/\u001b[1;36m01\u001b[0m/\u001b[1;36m2025\u001b[0m\n"
      ]
     },
     "metadata": {},
     "output_type": "display_data"
    },
    {
     "data": {
      "text/html": [
       "<pre style=\"white-space:pre;overflow-x:auto;line-height:normal;font-family:Menlo,'DejaVu Sans Mono',consolas,'Courier New',monospace\">Evaluating <span style=\"color: #808000; text-decoration-color: #808000\">model</span>=<span style=\"color: #800080; text-decoration-color: #800080\">MultiViewMobileNet</span><span style=\"color: #808000; text-decoration-color: #808000\">...</span>\n",
       "</pre>\n"
      ],
      "text/plain": [
       "Evaluating \u001b[33mmodel\u001b[0m=\u001b[35mMultiViewMobileNet\u001b[0m\u001b[33m...\u001b[0m\n"
      ]
     },
     "metadata": {},
     "output_type": "display_data"
    },
    {
     "data": {
      "text/html": [
       "<pre style=\"white-space:pre;overflow-x:auto;line-height:normal;font-family:Menlo,'DejaVu Sans Mono',consolas,'Courier New',monospace\">Evaluating <span style=\"color: #808000; text-decoration-color: #808000\">model</span>=<span style=\"color: #800080; text-decoration-color: #800080\">MultiViewMobileNet</span><span style=\"color: #808000; text-decoration-color: #808000\">...</span>\n",
       "</pre>\n"
      ],
      "text/plain": [
       "Evaluating \u001b[33mmodel\u001b[0m=\u001b[35mMultiViewMobileNet\u001b[0m\u001b[33m...\u001b[0m\n"
      ]
     },
     "metadata": {},
     "output_type": "display_data"
    },
    {
     "name": "stdout",
     "output_type": "stream",
     "text": [
      "1/1 [==============================] - 1s 528ms/step - loss: 944.3727 - accuracy: 0.7500 - recall: 0.5000 - precision: 0.5000 - f1_score: 0.1667 - sensitivity_at_specificity: 0.5000 - specificity_at_sensitivity: 0.0000e+00\n"
     ]
    }
   ],
   "source": [
    "# Evaluate the model on the test set\n",
    "log(\"Loading best model...\", artifact_root + f\"/models/best-model{model_ext}\")\n",
    "model_lenet.load_weights(artifact_root + f\"/models/best-model{model_ext}\")\n",
    "log(\"Experiment: Evaluating\", time=True)\n",
    "log(f\"Evaluating model={model_name}...\")\n",
    "test_result = model_lenet.evaluate(test_ds)"
   ]
  },
  {
   "cell_type": "code",
   "execution_count": 40,
   "metadata": {},
   "outputs": [],
   "source": [
    "# class LossMetric(tf.keras.metrics.Metric):\n",
    "#     def __init__(self, name='loss', **kwargs):\n",
    "#         super().__init__(name='loss', **kwargs)\n",
    "\n",
    "#     def update_state(self, y_true, y_pred, sample_weight=None):\n",
    "#         pass\n",
    "\n",
    "#     def result(self):\n",
    "#         return 0"
   ]
  },
  {
   "cell_type": "code",
   "execution_count": 42,
   "metadata": {
    "colab": {
     "base_uri": "https://localhost:8080/",
     "height": 141
    },
    "id": "sYKD-JQrJaOn",
    "outputId": "780d0265-f3b2-43bf-9cf6-de99785400ed"
   },
   "outputs": [
    {
     "data": {
      "text/html": [
       "<pre style=\"white-space:pre;overflow-x:auto;line-height:normal;font-family:Menlo,'DejaVu Sans Mono',consolas,'Courier New',monospace\">MultiViewMobileNet\n",
       "<span style=\"font-weight: bold\">{</span>\n",
       "    <span style=\"color: #008000; text-decoration-color: #008000\">'test_loss'</span>: <span style=\"color: #008080; text-decoration-color: #008080; font-weight: bold\">944.3726806640625</span>,\n",
       "    <span style=\"color: #008000; text-decoration-color: #008000\">'test_accuracy'</span>: <span style=\"color: #008080; text-decoration-color: #008080; font-weight: bold\">0.75</span>,\n",
       "    <span style=\"color: #008000; text-decoration-color: #008000\">'test_recall_1'</span>: <span style=\"color: #008080; text-decoration-color: #008080; font-weight: bold\">0.5</span>,\n",
       "    <span style=\"color: #008000; text-decoration-color: #008000\">'test_precision_1'</span>: <span style=\"color: #008080; text-decoration-color: #008080; font-weight: bold\">0.5</span>,\n",
       "    <span style=\"color: #008000; text-decoration-color: #008000\">'test_f1_score'</span>: <span style=\"color: #008080; text-decoration-color: #008080; font-weight: bold\">0.1666666716337204</span>,\n",
       "    <span style=\"color: #008000; text-decoration-color: #008000\">'test_sensitivity_at_specificity_1'</span>: <span style=\"color: #008080; text-decoration-color: #008080; font-weight: bold\">0.5</span>,\n",
       "    <span style=\"color: #008000; text-decoration-color: #008000\">'test_specificity_at_sensitivity_1'</span>: <span style=\"color: #008080; text-decoration-color: #008080; font-weight: bold\">0.0</span>\n",
       "<span style=\"font-weight: bold\">}</span>\n",
       "</pre>\n"
      ],
      "text/plain": [
       "MultiViewMobileNet\n",
       "\u001b[1m{\u001b[0m\n",
       "    \u001b[32m'test_loss'\u001b[0m: \u001b[1;36m944.3726806640625\u001b[0m,\n",
       "    \u001b[32m'test_accuracy'\u001b[0m: \u001b[1;36m0.75\u001b[0m,\n",
       "    \u001b[32m'test_recall_1'\u001b[0m: \u001b[1;36m0.5\u001b[0m,\n",
       "    \u001b[32m'test_precision_1'\u001b[0m: \u001b[1;36m0.5\u001b[0m,\n",
       "    \u001b[32m'test_f1_score'\u001b[0m: \u001b[1;36m0.1666666716337204\u001b[0m,\n",
       "    \u001b[32m'test_sensitivity_at_specificity_1'\u001b[0m: \u001b[1;36m0.5\u001b[0m,\n",
       "    \u001b[32m'test_specificity_at_sensitivity_1'\u001b[0m: \u001b[1;36m0.0\u001b[0m\n",
       "\u001b[1m}\u001b[0m\n"
      ]
     },
     "metadata": {},
     "output_type": "display_data"
    },
    {
     "data": {
      "text/html": [
       "<pre style=\"white-space:pre;overflow-x:auto;line-height:normal;font-family:Menlo,'DejaVu Sans Mono',consolas,'Courier New',monospace\">MultiViewMobileNet\n",
       "<span style=\"font-weight: bold\">{</span>\n",
       "    <span style=\"color: #008000; text-decoration-color: #008000\">'test_loss'</span>: <span style=\"color: #008080; text-decoration-color: #008080; font-weight: bold\">944.3726806640625</span>,\n",
       "    <span style=\"color: #008000; text-decoration-color: #008000\">'test_accuracy'</span>: <span style=\"color: #008080; text-decoration-color: #008080; font-weight: bold\">0.75</span>,\n",
       "    <span style=\"color: #008000; text-decoration-color: #008000\">'test_recall_1'</span>: <span style=\"color: #008080; text-decoration-color: #008080; font-weight: bold\">0.5</span>,\n",
       "    <span style=\"color: #008000; text-decoration-color: #008000\">'test_precision_1'</span>: <span style=\"color: #008080; text-decoration-color: #008080; font-weight: bold\">0.5</span>,\n",
       "    <span style=\"color: #008000; text-decoration-color: #008000\">'test_f1_score'</span>: <span style=\"color: #008080; text-decoration-color: #008080; font-weight: bold\">0.1666666716337204</span>,\n",
       "    <span style=\"color: #008000; text-decoration-color: #008000\">'test_sensitivity_at_specificity_1'</span>: <span style=\"color: #008080; text-decoration-color: #008080; font-weight: bold\">0.5</span>,\n",
       "    <span style=\"color: #008000; text-decoration-color: #008000\">'test_specificity_at_sensitivity_1'</span>: <span style=\"color: #008080; text-decoration-color: #008080; font-weight: bold\">0.0</span>\n",
       "<span style=\"font-weight: bold\">}</span>\n",
       "</pre>\n"
      ],
      "text/plain": [
       "MultiViewMobileNet\n",
       "\u001b[1m{\u001b[0m\n",
       "    \u001b[32m'test_loss'\u001b[0m: \u001b[1;36m944.3726806640625\u001b[0m,\n",
       "    \u001b[32m'test_accuracy'\u001b[0m: \u001b[1;36m0.75\u001b[0m,\n",
       "    \u001b[32m'test_recall_1'\u001b[0m: \u001b[1;36m0.5\u001b[0m,\n",
       "    \u001b[32m'test_precision_1'\u001b[0m: \u001b[1;36m0.5\u001b[0m,\n",
       "    \u001b[32m'test_f1_score'\u001b[0m: \u001b[1;36m0.1666666716337204\u001b[0m,\n",
       "    \u001b[32m'test_sensitivity_at_specificity_1'\u001b[0m: \u001b[1;36m0.5\u001b[0m,\n",
       "    \u001b[32m'test_specificity_at_sensitivity_1'\u001b[0m: \u001b[1;36m0.0\u001b[0m\n",
       "\u001b[1m}\u001b[0m\n"
      ]
     },
     "metadata": {},
     "output_type": "display_data"
    }
   ],
   "source": [
<<<<<<< HEAD
    "metrics.insert(0, LossMetric())\n",
=======
    "metrics_name = [k.name for k in metrics]\n",
    "metrics_name.insert(0, 'loss')\n",
>>>>>>> origin/colab-mvcnn
    "\n",
    "log(f\"{model_name}\", {f\"test_{k}\":v for v,k in zip(test_result, metrics_name)})\n",
    "\n",
    "# TF-logging test values\n",
    "file_writer = tf.summary.create_file_writer(tf_log_dir + \"/test\")\n",
    "with file_writer.as_default():\n",
    "    for v, k in zip(test_result, metrics):\n",
    "        tf.summary.scalar(f\"test_{k.name}\", v, step=0)"
   ]
  },
  {
   "cell_type": "code",
   "execution_count": 73,
   "metadata": {},
   "outputs": [
    {
     "name": "stdout",
     "output_type": "stream",
     "text": [
      "1/1 [==============================] - 0s 453ms/step\n",
      "1/1 [==============================] - 0s 348ms/step\n",
      "1/1 [==============================] - 0s 313ms/step\n",
      "1/1 [==============================] - 0s 312ms/step\n",
      "1/1 [==============================] - 0s 276ms/step\n",
      "1/1 [==============================] - 0s 269ms/step\n",
      "1/1 [==============================] - 0s 269ms/step\n",
      "1/1 [==============================] - 0s 285ms/step\n",
      "1/1 [==============================] - 0s 292ms/step\n",
      "1/1 [==============================] - 0s 318ms/step\n"
     ]
    }
   ],
   "source": [
    "def prepare_prediction_df(ds):\n",
    "    records = []\n",
    "    for imgs, lbls in ds:\n",
    "        proba_lbls = model_lenet.predict(imgs)\n",
    "        actual = odd.decode_labels(lbls.numpy())\n",
    "        predicted = odd.decode_labels(proba_lbls)\n",
    "        records.extend(np.array([actual, predicted]).T.tolist())\n",
    "    return pd.DataFrame(records, columns=['actual', 'predicted'])\n",
    "\n",
    "train_df = prepare_prediction_df(train_ds)\n",
    "val_df = prepare_prediction_df(val_ds)\n",
    "test_df = prepare_prediction_df(test_ds)"
   ]
  },
  {
   "cell_type": "code",
   "execution_count": null,
   "metadata": {},
   "outputs": [],
<<<<<<< HEAD
   "source": [
    "records = []\n",
    "for imgs, lbls in val_ds:\n",
    "    proba_lbls = model_lenet.predict(imgs)\n",
    "    actual = odd.decode_labels(lbls.numpy())\n",
    "    predicted = odd.decode_labels(proba_lbls)\n",
    "    print(np.array([actual, predicted]).T)\n",
    "    \n",
    "for imgs, lbls in test_ds:\n",
    "    proba_lbls = model_lenet.predict(imgs)\n",
    "    \n",
    "    actual = odd.decode_labels(lbls.numpy())\n",
    "    predicted = odd.decode_labels(proba_lbls)\n",
    "    print(np.array([actual, predicted]).T)"
=======
   "source": []
  },
  {
   "cell_type": "code",
   "execution_count": 71,
   "metadata": {},
   "outputs": [
    {
     "data": {
      "text/html": [
       "<pre style=\"white-space:pre;overflow-x:auto;line-height:normal;font-family:Menlo,'DejaVu Sans Mono',consolas,'Courier New',monospace\">======================<span style=\"color: #808000; text-decoration-color: #808000\">Training</span>=========================\n",
       "</pre>\n"
      ],
      "text/plain": [
       "======================\u001b[33mTraining\u001b[0m=========================\n"
      ]
     },
     "metadata": {},
     "output_type": "display_data"
    },
    {
     "data": {
      "text/html": [
       "<pre style=\"white-space:pre;overflow-x:auto;line-height:normal;font-family:Menlo,'DejaVu Sans Mono',consolas,'Courier New',monospace\">Training Confusion Matrix: <span style=\"color: #800080; text-decoration-color: #800080; font-weight: bold\">actual</span><span style=\"font-weight: bold\">(</span>y<span style=\"font-weight: bold\">)</span> vs <span style=\"color: #800080; text-decoration-color: #800080; font-weight: bold\">predicted</span><span style=\"font-weight: bold\">(</span>x<span style=\"font-weight: bold\">)</span>\n",
       "</pre>\n"
      ],
      "text/plain": [
       "Training Confusion Matrix: \u001b[1;35mactual\u001b[0m\u001b[1m(\u001b[0my\u001b[1m)\u001b[0m vs \u001b[1;35mpredicted\u001b[0m\u001b[1m(\u001b[0mx\u001b[1m)\u001b[0m\n"
      ]
     },
     "metadata": {},
     "output_type": "display_data"
    },
    {
     "data": {
      "text/html": [
       "<pre style=\"white-space:pre;overflow-x:auto;line-height:normal;font-family:Menlo,'DejaVu Sans Mono',consolas,'Courier New',monospace\"><span style=\"font-weight: bold\">[[</span> <span style=\"color: #008080; text-decoration-color: #008080; font-weight: bold\">2</span>  <span style=\"color: #008080; text-decoration-color: #008080; font-weight: bold\">0</span>  <span style=\"color: #008080; text-decoration-color: #008080; font-weight: bold\">0</span><span style=\"font-weight: bold\">]</span>\n",
       " <span style=\"font-weight: bold\">[</span><span style=\"color: #008080; text-decoration-color: #008080; font-weight: bold\">19</span>  <span style=\"color: #008080; text-decoration-color: #008080; font-weight: bold\">0</span>  <span style=\"color: #008080; text-decoration-color: #008080; font-weight: bold\">0</span><span style=\"font-weight: bold\">]</span>\n",
       " <span style=\"font-weight: bold\">[</span> <span style=\"color: #008080; text-decoration-color: #008080; font-weight: bold\">7</span>  <span style=\"color: #008080; text-decoration-color: #008080; font-weight: bold\">0</span>  <span style=\"color: #008080; text-decoration-color: #008080; font-weight: bold\">0</span><span style=\"font-weight: bold\">]]</span>\n",
       "</pre>\n"
      ],
      "text/plain": [
       "\u001b[1m[\u001b[0m\u001b[1m[\u001b[0m \u001b[1;36m2\u001b[0m  \u001b[1;36m0\u001b[0m  \u001b[1;36m0\u001b[0m\u001b[1m]\u001b[0m\n",
       " \u001b[1m[\u001b[0m\u001b[1;36m19\u001b[0m  \u001b[1;36m0\u001b[0m  \u001b[1;36m0\u001b[0m\u001b[1m]\u001b[0m\n",
       " \u001b[1m[\u001b[0m \u001b[1;36m7\u001b[0m  \u001b[1;36m0\u001b[0m  \u001b[1;36m0\u001b[0m\u001b[1m]\u001b[0m\u001b[1m]\u001b[0m\n"
      ]
     },
     "metadata": {},
     "output_type": "display_data"
    },
    {
     "data": {
      "text/html": [
       "<pre style=\"white-space:pre;overflow-x:auto;line-height:normal;font-family:Menlo,'DejaVu Sans Mono',consolas,'Courier New',monospace\">The model is so bad it does not even captured all the classes\n",
       "</pre>\n"
      ],
      "text/plain": [
       "The model is so bad it does not even captured all the classes\n"
      ]
     },
     "metadata": {},
     "output_type": "display_data"
    },
    {
     "data": {
      "image/png": "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",
      "text/plain": [
       "<Figure size 800x600 with 2 Axes>"
      ]
     },
     "metadata": {},
     "output_type": "display_data"
    },
    {
     "name": "stderr",
     "output_type": "stream",
     "text": [
      "/Users/soumensardar/miniconda3/envs/tf/lib/python3.8/site-packages/sklearn/metrics/_classification.py:1471: UndefinedMetricWarning: Precision and F-score are ill-defined and being set to 0.0 in labels with no predicted samples. Use `zero_division` parameter to control this behavior.\n",
      "  _warn_prf(average, modifier, msg_start, len(result))\n",
      "/Users/soumensardar/miniconda3/envs/tf/lib/python3.8/site-packages/sklearn/metrics/_classification.py:1471: UndefinedMetricWarning: Precision and F-score are ill-defined and being set to 0.0 in labels with no predicted samples. Use `zero_division` parameter to control this behavior.\n",
      "  _warn_prf(average, modifier, msg_start, len(result))\n",
      "/Users/soumensardar/miniconda3/envs/tf/lib/python3.8/site-packages/sklearn/metrics/_classification.py:1471: UndefinedMetricWarning: Precision and F-score are ill-defined and being set to 0.0 in labels with no predicted samples. Use `zero_division` parameter to control this behavior.\n",
      "  _warn_prf(average, modifier, msg_start, len(result))\n"
     ]
    },
    {
     "data": {
      "text/html": [
       "<pre style=\"white-space:pre;overflow-x:auto;line-height:normal;font-family:Menlo,'DejaVu Sans Mono',consolas,'Courier New',monospace\">                    precision    recall  f1-score   support\n",
       "\n",
       "     Mild Dementia       <span style=\"color: #008080; text-decoration-color: #008080; font-weight: bold\">0.07</span>      <span style=\"color: #008080; text-decoration-color: #008080; font-weight: bold\">1.00</span>      <span style=\"color: #008080; text-decoration-color: #008080; font-weight: bold\">0.13</span>         <span style=\"color: #008080; text-decoration-color: #008080; font-weight: bold\">2</span>\n",
       "      Non Demented       <span style=\"color: #008080; text-decoration-color: #008080; font-weight: bold\">0.00</span>      <span style=\"color: #008080; text-decoration-color: #008080; font-weight: bold\">0.00</span>      <span style=\"color: #008080; text-decoration-color: #008080; font-weight: bold\">0.00</span>        <span style=\"color: #008080; text-decoration-color: #008080; font-weight: bold\">19</span>\n",
       "Very mild Dementia       <span style=\"color: #008080; text-decoration-color: #008080; font-weight: bold\">0.00</span>      <span style=\"color: #008080; text-decoration-color: #008080; font-weight: bold\">0.00</span>      <span style=\"color: #008080; text-decoration-color: #008080; font-weight: bold\">0.00</span>         <span style=\"color: #008080; text-decoration-color: #008080; font-weight: bold\">7</span>\n",
       "\n",
       "          accuracy                           <span style=\"color: #008080; text-decoration-color: #008080; font-weight: bold\">0.07</span>        <span style=\"color: #008080; text-decoration-color: #008080; font-weight: bold\">28</span>\n",
       "         macro avg       <span style=\"color: #008080; text-decoration-color: #008080; font-weight: bold\">0.02</span>      <span style=\"color: #008080; text-decoration-color: #008080; font-weight: bold\">0.33</span>      <span style=\"color: #008080; text-decoration-color: #008080; font-weight: bold\">0.04</span>        <span style=\"color: #008080; text-decoration-color: #008080; font-weight: bold\">28</span>\n",
       "      weighted avg       <span style=\"color: #008080; text-decoration-color: #008080; font-weight: bold\">0.01</span>      <span style=\"color: #008080; text-decoration-color: #008080; font-weight: bold\">0.07</span>      <span style=\"color: #008080; text-decoration-color: #008080; font-weight: bold\">0.01</span>        <span style=\"color: #008080; text-decoration-color: #008080; font-weight: bold\">28</span>\n",
       "\n",
       "</pre>\n"
      ],
      "text/plain": [
       "                    precision    recall  f1-score   support\n",
       "\n",
       "     Mild Dementia       \u001b[1;36m0.07\u001b[0m      \u001b[1;36m1.00\u001b[0m      \u001b[1;36m0.13\u001b[0m         \u001b[1;36m2\u001b[0m\n",
       "      Non Demented       \u001b[1;36m0.00\u001b[0m      \u001b[1;36m0.00\u001b[0m      \u001b[1;36m0.00\u001b[0m        \u001b[1;36m19\u001b[0m\n",
       "Very mild Dementia       \u001b[1;36m0.00\u001b[0m      \u001b[1;36m0.00\u001b[0m      \u001b[1;36m0.00\u001b[0m         \u001b[1;36m7\u001b[0m\n",
       "\n",
       "          accuracy                           \u001b[1;36m0.07\u001b[0m        \u001b[1;36m28\u001b[0m\n",
       "         macro avg       \u001b[1;36m0.02\u001b[0m      \u001b[1;36m0.33\u001b[0m      \u001b[1;36m0.04\u001b[0m        \u001b[1;36m28\u001b[0m\n",
       "      weighted avg       \u001b[1;36m0.01\u001b[0m      \u001b[1;36m0.07\u001b[0m      \u001b[1;36m0.01\u001b[0m        \u001b[1;36m28\u001b[0m\n",
       "\n"
      ]
     },
     "metadata": {},
     "output_type": "display_data"
    },
    {
     "data": {
      "text/html": [
       "<pre style=\"white-space:pre;overflow-x:auto;line-height:normal;font-family:Menlo,'DejaVu Sans Mono',consolas,'Courier New',monospace\">======================<span style=\"color: #808000; text-decoration-color: #808000\">Validation</span>=========================\n",
       "</pre>\n"
      ],
      "text/plain": [
       "======================\u001b[33mValidation\u001b[0m=========================\n"
      ]
     },
     "metadata": {},
     "output_type": "display_data"
    },
    {
     "data": {
      "text/html": [
       "<pre style=\"white-space:pre;overflow-x:auto;line-height:normal;font-family:Menlo,'DejaVu Sans Mono',consolas,'Courier New',monospace\">Validation Confusion Matrix: <span style=\"color: #800080; text-decoration-color: #800080; font-weight: bold\">actual</span><span style=\"font-weight: bold\">(</span>y<span style=\"font-weight: bold\">)</span> vs <span style=\"color: #800080; text-decoration-color: #800080; font-weight: bold\">predicted</span><span style=\"font-weight: bold\">(</span>x<span style=\"font-weight: bold\">)</span>\n",
       "</pre>\n"
      ],
      "text/plain": [
       "Validation Confusion Matrix: \u001b[1;35mactual\u001b[0m\u001b[1m(\u001b[0my\u001b[1m)\u001b[0m vs \u001b[1;35mpredicted\u001b[0m\u001b[1m(\u001b[0mx\u001b[1m)\u001b[0m\n"
      ]
     },
     "metadata": {},
     "output_type": "display_data"
    },
    {
     "data": {
      "text/html": [
       "<pre style=\"white-space:pre;overflow-x:auto;line-height:normal;font-family:Menlo,'DejaVu Sans Mono',consolas,'Courier New',monospace\"><span style=\"font-weight: bold\">[[</span><span style=\"color: #008080; text-decoration-color: #008080; font-weight: bold\">0</span> <span style=\"color: #008080; text-decoration-color: #008080; font-weight: bold\">0</span> <span style=\"color: #008080; text-decoration-color: #008080; font-weight: bold\">0</span><span style=\"font-weight: bold\">]</span>\n",
       " <span style=\"font-weight: bold\">[</span><span style=\"color: #008080; text-decoration-color: #008080; font-weight: bold\">0</span> <span style=\"color: #008080; text-decoration-color: #008080; font-weight: bold\">0</span> <span style=\"color: #008080; text-decoration-color: #008080; font-weight: bold\">0</span><span style=\"font-weight: bold\">]</span>\n",
       " <span style=\"font-weight: bold\">[</span><span style=\"color: #008080; text-decoration-color: #008080; font-weight: bold\">7</span> <span style=\"color: #008080; text-decoration-color: #008080; font-weight: bold\">1</span> <span style=\"color: #008080; text-decoration-color: #008080; font-weight: bold\">0</span><span style=\"font-weight: bold\">]]</span>\n",
       "</pre>\n"
      ],
      "text/plain": [
       "\u001b[1m[\u001b[0m\u001b[1m[\u001b[0m\u001b[1;36m0\u001b[0m \u001b[1;36m0\u001b[0m \u001b[1;36m0\u001b[0m\u001b[1m]\u001b[0m\n",
       " \u001b[1m[\u001b[0m\u001b[1;36m0\u001b[0m \u001b[1;36m0\u001b[0m \u001b[1;36m0\u001b[0m\u001b[1m]\u001b[0m\n",
       " \u001b[1m[\u001b[0m\u001b[1;36m7\u001b[0m \u001b[1;36m1\u001b[0m \u001b[1;36m0\u001b[0m\u001b[1m]\u001b[0m\u001b[1m]\u001b[0m\n"
      ]
     },
     "metadata": {},
     "output_type": "display_data"
    },
    {
     "data": {
      "text/html": [
       "<pre style=\"white-space:pre;overflow-x:auto;line-height:normal;font-family:Menlo,'DejaVu Sans Mono',consolas,'Courier New',monospace\">The model is so bad it does not even captured all the classes\n",
       "</pre>\n"
      ],
      "text/plain": [
       "The model is so bad it does not even captured all the classes\n"
      ]
     },
     "metadata": {},
     "output_type": "display_data"
    },
    {
     "data": {
      "image/png": "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",
      "text/plain": [
       "<Figure size 800x600 with 2 Axes>"
      ]
     },
     "metadata": {},
     "output_type": "display_data"
    },
    {
     "name": "stderr",
     "output_type": "stream",
     "text": [
      "/Users/soumensardar/miniconda3/envs/tf/lib/python3.8/site-packages/sklearn/metrics/_classification.py:1471: UndefinedMetricWarning: Precision and F-score are ill-defined and being set to 0.0 in labels with no predicted samples. Use `zero_division` parameter to control this behavior.\n",
      "  _warn_prf(average, modifier, msg_start, len(result))\n",
      "/Users/soumensardar/miniconda3/envs/tf/lib/python3.8/site-packages/sklearn/metrics/_classification.py:1471: UndefinedMetricWarning: Recall and F-score are ill-defined and being set to 0.0 in labels with no true samples. Use `zero_division` parameter to control this behavior.\n",
      "  _warn_prf(average, modifier, msg_start, len(result))\n",
      "/Users/soumensardar/miniconda3/envs/tf/lib/python3.8/site-packages/sklearn/metrics/_classification.py:1471: UndefinedMetricWarning: Precision and F-score are ill-defined and being set to 0.0 in labels with no predicted samples. Use `zero_division` parameter to control this behavior.\n",
      "  _warn_prf(average, modifier, msg_start, len(result))\n",
      "/Users/soumensardar/miniconda3/envs/tf/lib/python3.8/site-packages/sklearn/metrics/_classification.py:1471: UndefinedMetricWarning: Recall and F-score are ill-defined and being set to 0.0 in labels with no true samples. Use `zero_division` parameter to control this behavior.\n",
      "  _warn_prf(average, modifier, msg_start, len(result))\n",
      "/Users/soumensardar/miniconda3/envs/tf/lib/python3.8/site-packages/sklearn/metrics/_classification.py:1471: UndefinedMetricWarning: Precision and F-score are ill-defined and being set to 0.0 in labels with no predicted samples. Use `zero_division` parameter to control this behavior.\n",
      "  _warn_prf(average, modifier, msg_start, len(result))\n",
      "/Users/soumensardar/miniconda3/envs/tf/lib/python3.8/site-packages/sklearn/metrics/_classification.py:1471: UndefinedMetricWarning: Recall and F-score are ill-defined and being set to 0.0 in labels with no true samples. Use `zero_division` parameter to control this behavior.\n",
      "  _warn_prf(average, modifier, msg_start, len(result))\n"
     ]
    },
    {
     "data": {
      "text/html": [
       "<pre style=\"white-space:pre;overflow-x:auto;line-height:normal;font-family:Menlo,'DejaVu Sans Mono',consolas,'Courier New',monospace\">                   precision    recall  f1-score   support\n",
       "\n",
       "    Mild Dementia       <span style=\"color: #008080; text-decoration-color: #008080; font-weight: bold\">0.00</span>      <span style=\"color: #008080; text-decoration-color: #008080; font-weight: bold\">0.00</span>      <span style=\"color: #008080; text-decoration-color: #008080; font-weight: bold\">0.00</span>       <span style=\"color: #008080; text-decoration-color: #008080; font-weight: bold\">0.0</span>\n",
       "Moderate Dementia       <span style=\"color: #008080; text-decoration-color: #008080; font-weight: bold\">0.00</span>      <span style=\"color: #008080; text-decoration-color: #008080; font-weight: bold\">0.00</span>      <span style=\"color: #008080; text-decoration-color: #008080; font-weight: bold\">0.00</span>       <span style=\"color: #008080; text-decoration-color: #008080; font-weight: bold\">0.0</span>\n",
       "     Non Demented       <span style=\"color: #008080; text-decoration-color: #008080; font-weight: bold\">0.00</span>      <span style=\"color: #008080; text-decoration-color: #008080; font-weight: bold\">0.00</span>      <span style=\"color: #008080; text-decoration-color: #008080; font-weight: bold\">0.00</span>       <span style=\"color: #008080; text-decoration-color: #008080; font-weight: bold\">8.0</span>\n",
       "\n",
       "         accuracy                           <span style=\"color: #008080; text-decoration-color: #008080; font-weight: bold\">0.00</span>       <span style=\"color: #008080; text-decoration-color: #008080; font-weight: bold\">8.0</span>\n",
       "        macro avg       <span style=\"color: #008080; text-decoration-color: #008080; font-weight: bold\">0.00</span>      <span style=\"color: #008080; text-decoration-color: #008080; font-weight: bold\">0.00</span>      <span style=\"color: #008080; text-decoration-color: #008080; font-weight: bold\">0.00</span>       <span style=\"color: #008080; text-decoration-color: #008080; font-weight: bold\">8.0</span>\n",
       "     weighted avg       <span style=\"color: #008080; text-decoration-color: #008080; font-weight: bold\">0.00</span>      <span style=\"color: #008080; text-decoration-color: #008080; font-weight: bold\">0.00</span>      <span style=\"color: #008080; text-decoration-color: #008080; font-weight: bold\">0.00</span>       <span style=\"color: #008080; text-decoration-color: #008080; font-weight: bold\">8.0</span>\n",
       "\n",
       "</pre>\n"
      ],
      "text/plain": [
       "                   precision    recall  f1-score   support\n",
       "\n",
       "    Mild Dementia       \u001b[1;36m0.00\u001b[0m      \u001b[1;36m0.00\u001b[0m      \u001b[1;36m0.00\u001b[0m       \u001b[1;36m0.0\u001b[0m\n",
       "Moderate Dementia       \u001b[1;36m0.00\u001b[0m      \u001b[1;36m0.00\u001b[0m      \u001b[1;36m0.00\u001b[0m       \u001b[1;36m0.0\u001b[0m\n",
       "     Non Demented       \u001b[1;36m0.00\u001b[0m      \u001b[1;36m0.00\u001b[0m      \u001b[1;36m0.00\u001b[0m       \u001b[1;36m8.0\u001b[0m\n",
       "\n",
       "         accuracy                           \u001b[1;36m0.00\u001b[0m       \u001b[1;36m8.0\u001b[0m\n",
       "        macro avg       \u001b[1;36m0.00\u001b[0m      \u001b[1;36m0.00\u001b[0m      \u001b[1;36m0.00\u001b[0m       \u001b[1;36m8.0\u001b[0m\n",
       "     weighted avg       \u001b[1;36m0.00\u001b[0m      \u001b[1;36m0.00\u001b[0m      \u001b[1;36m0.00\u001b[0m       \u001b[1;36m8.0\u001b[0m\n",
       "\n"
      ]
     },
     "metadata": {},
     "output_type": "display_data"
    },
    {
     "data": {
      "text/html": [
       "<pre style=\"white-space:pre;overflow-x:auto;line-height:normal;font-family:Menlo,'DejaVu Sans Mono',consolas,'Courier New',monospace\">======================<span style=\"color: #808000; text-decoration-color: #808000\">Testing</span>=========================\n",
       "</pre>\n"
      ],
      "text/plain": [
       "======================\u001b[33mTesting\u001b[0m=========================\n"
      ]
     },
     "metadata": {},
     "output_type": "display_data"
    },
    {
     "data": {
      "text/html": [
       "<pre style=\"white-space:pre;overflow-x:auto;line-height:normal;font-family:Menlo,'DejaVu Sans Mono',consolas,'Courier New',monospace\">Testing Confusion Matrix: <span style=\"color: #800080; text-decoration-color: #800080; font-weight: bold\">actual</span><span style=\"font-weight: bold\">(</span>y<span style=\"font-weight: bold\">)</span> vs <span style=\"color: #800080; text-decoration-color: #800080; font-weight: bold\">predicted</span><span style=\"font-weight: bold\">(</span>x<span style=\"font-weight: bold\">)</span>\n",
       "</pre>\n"
      ],
      "text/plain": [
       "Testing Confusion Matrix: \u001b[1;35mactual\u001b[0m\u001b[1m(\u001b[0my\u001b[1m)\u001b[0m vs \u001b[1;35mpredicted\u001b[0m\u001b[1m(\u001b[0mx\u001b[1m)\u001b[0m\n"
      ]
     },
     "metadata": {},
     "output_type": "display_data"
    },
    {
     "data": {
      "text/html": [
       "<pre style=\"white-space:pre;overflow-x:auto;line-height:normal;font-family:Menlo,'DejaVu Sans Mono',consolas,'Courier New',monospace\"><span style=\"font-weight: bold\">[[</span><span style=\"color: #008080; text-decoration-color: #008080; font-weight: bold\">1</span> <span style=\"color: #008080; text-decoration-color: #008080; font-weight: bold\">0</span> <span style=\"color: #008080; text-decoration-color: #008080; font-weight: bold\">0</span><span style=\"font-weight: bold\">]</span>\n",
       " <span style=\"font-weight: bold\">[</span><span style=\"color: #008080; text-decoration-color: #008080; font-weight: bold\">2</span> <span style=\"color: #008080; text-decoration-color: #008080; font-weight: bold\">0</span> <span style=\"color: #008080; text-decoration-color: #008080; font-weight: bold\">0</span><span style=\"font-weight: bold\">]</span>\n",
       " <span style=\"font-weight: bold\">[</span><span style=\"color: #008080; text-decoration-color: #008080; font-weight: bold\">1</span> <span style=\"color: #008080; text-decoration-color: #008080; font-weight: bold\">0</span> <span style=\"color: #008080; text-decoration-color: #008080; font-weight: bold\">0</span><span style=\"font-weight: bold\">]]</span>\n",
       "</pre>\n"
      ],
      "text/plain": [
       "\u001b[1m[\u001b[0m\u001b[1m[\u001b[0m\u001b[1;36m1\u001b[0m \u001b[1;36m0\u001b[0m \u001b[1;36m0\u001b[0m\u001b[1m]\u001b[0m\n",
       " \u001b[1m[\u001b[0m\u001b[1;36m2\u001b[0m \u001b[1;36m0\u001b[0m \u001b[1;36m0\u001b[0m\u001b[1m]\u001b[0m\n",
       " \u001b[1m[\u001b[0m\u001b[1;36m1\u001b[0m \u001b[1;36m0\u001b[0m \u001b[1;36m0\u001b[0m\u001b[1m]\u001b[0m\u001b[1m]\u001b[0m\n"
      ]
     },
     "metadata": {},
     "output_type": "display_data"
    },
    {
     "data": {
      "text/html": [
       "<pre style=\"white-space:pre;overflow-x:auto;line-height:normal;font-family:Menlo,'DejaVu Sans Mono',consolas,'Courier New',monospace\">The model is so bad it does not even captured all the classes\n",
       "</pre>\n"
      ],
      "text/plain": [
       "The model is so bad it does not even captured all the classes\n"
      ]
     },
     "metadata": {},
     "output_type": "display_data"
    },
    {
     "data": {
      "image/png": "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",
      "text/plain": [
       "<Figure size 800x600 with 2 Axes>"
      ]
     },
     "metadata": {},
     "output_type": "display_data"
    },
    {
     "name": "stderr",
     "output_type": "stream",
     "text": [
      "/Users/soumensardar/miniconda3/envs/tf/lib/python3.8/site-packages/sklearn/metrics/_classification.py:1471: UndefinedMetricWarning: Precision and F-score are ill-defined and being set to 0.0 in labels with no predicted samples. Use `zero_division` parameter to control this behavior.\n",
      "  _warn_prf(average, modifier, msg_start, len(result))\n",
      "/Users/soumensardar/miniconda3/envs/tf/lib/python3.8/site-packages/sklearn/metrics/_classification.py:1471: UndefinedMetricWarning: Precision and F-score are ill-defined and being set to 0.0 in labels with no predicted samples. Use `zero_division` parameter to control this behavior.\n",
      "  _warn_prf(average, modifier, msg_start, len(result))\n",
      "/Users/soumensardar/miniconda3/envs/tf/lib/python3.8/site-packages/sklearn/metrics/_classification.py:1471: UndefinedMetricWarning: Precision and F-score are ill-defined and being set to 0.0 in labels with no predicted samples. Use `zero_division` parameter to control this behavior.\n",
      "  _warn_prf(average, modifier, msg_start, len(result))\n"
     ]
    },
    {
     "data": {
      "text/html": [
       "<pre style=\"white-space:pre;overflow-x:auto;line-height:normal;font-family:Menlo,'DejaVu Sans Mono',consolas,'Courier New',monospace\">                    precision    recall  f1-score   support\n",
       "\n",
       "     Mild Dementia       <span style=\"color: #008080; text-decoration-color: #008080; font-weight: bold\">0.25</span>      <span style=\"color: #008080; text-decoration-color: #008080; font-weight: bold\">1.00</span>      <span style=\"color: #008080; text-decoration-color: #008080; font-weight: bold\">0.40</span>         <span style=\"color: #008080; text-decoration-color: #008080; font-weight: bold\">1</span>\n",
       "      Non Demented       <span style=\"color: #008080; text-decoration-color: #008080; font-weight: bold\">0.00</span>      <span style=\"color: #008080; text-decoration-color: #008080; font-weight: bold\">0.00</span>      <span style=\"color: #008080; text-decoration-color: #008080; font-weight: bold\">0.00</span>         <span style=\"color: #008080; text-decoration-color: #008080; font-weight: bold\">2</span>\n",
       "Very mild Dementia       <span style=\"color: #008080; text-decoration-color: #008080; font-weight: bold\">0.00</span>      <span style=\"color: #008080; text-decoration-color: #008080; font-weight: bold\">0.00</span>      <span style=\"color: #008080; text-decoration-color: #008080; font-weight: bold\">0.00</span>         <span style=\"color: #008080; text-decoration-color: #008080; font-weight: bold\">1</span>\n",
       "\n",
       "          accuracy                           <span style=\"color: #008080; text-decoration-color: #008080; font-weight: bold\">0.25</span>         <span style=\"color: #008080; text-decoration-color: #008080; font-weight: bold\">4</span>\n",
       "         macro avg       <span style=\"color: #008080; text-decoration-color: #008080; font-weight: bold\">0.08</span>      <span style=\"color: #008080; text-decoration-color: #008080; font-weight: bold\">0.33</span>      <span style=\"color: #008080; text-decoration-color: #008080; font-weight: bold\">0.13</span>         <span style=\"color: #008080; text-decoration-color: #008080; font-weight: bold\">4</span>\n",
       "      weighted avg       <span style=\"color: #008080; text-decoration-color: #008080; font-weight: bold\">0.06</span>      <span style=\"color: #008080; text-decoration-color: #008080; font-weight: bold\">0.25</span>      <span style=\"color: #008080; text-decoration-color: #008080; font-weight: bold\">0.10</span>         <span style=\"color: #008080; text-decoration-color: #008080; font-weight: bold\">4</span>\n",
       "\n",
       "</pre>\n"
      ],
      "text/plain": [
       "                    precision    recall  f1-score   support\n",
       "\n",
       "     Mild Dementia       \u001b[1;36m0.25\u001b[0m      \u001b[1;36m1.00\u001b[0m      \u001b[1;36m0.40\u001b[0m         \u001b[1;36m1\u001b[0m\n",
       "      Non Demented       \u001b[1;36m0.00\u001b[0m      \u001b[1;36m0.00\u001b[0m      \u001b[1;36m0.00\u001b[0m         \u001b[1;36m2\u001b[0m\n",
       "Very mild Dementia       \u001b[1;36m0.00\u001b[0m      \u001b[1;36m0.00\u001b[0m      \u001b[1;36m0.00\u001b[0m         \u001b[1;36m1\u001b[0m\n",
       "\n",
       "          accuracy                           \u001b[1;36m0.25\u001b[0m         \u001b[1;36m4\u001b[0m\n",
       "         macro avg       \u001b[1;36m0.08\u001b[0m      \u001b[1;36m0.33\u001b[0m      \u001b[1;36m0.13\u001b[0m         \u001b[1;36m4\u001b[0m\n",
       "      weighted avg       \u001b[1;36m0.06\u001b[0m      \u001b[1;36m0.25\u001b[0m      \u001b[1;36m0.10\u001b[0m         \u001b[1;36m4\u001b[0m\n",
       "\n"
      ]
     },
     "metadata": {},
     "output_type": "display_data"
    }
   ],
   "source": [
    "import pandas as pd\n",
    "from sklearn.metrics import confusion_matrix, classification_report, accuracy_score, precision_score, recall_score, f1_score\n",
    "import matplotlib.pyplot as plt\n",
    "import seaborn as sns\n",
    "\n",
    "def analyse_result(df, prefix):\n",
    "    print(f\"======================{prefix}=========================\")\n",
    "    y_true = df['actual']\n",
    "    y_pred = df['predicted']\n",
    "    \n",
    "    cm = confusion_matrix(y_true, y_pred)\n",
    "    print(f\"{prefix} Confusion Matrix: actual(y) vs predicted(x)\")\n",
    "    print(cm)\n",
    "    try:\n",
    "        display(pd.DataFrame(cm, columns=CLASS_NAMES, index=CLASS_NAMES))\n",
    "    except:\n",
    "        print(\"The model is so bad it does not even captured all the classes\")\n",
    "        pass\n",
    "    plt.figure(figsize=(8, 6))\n",
    "    sns.heatmap(cm, annot=True, cmap='Blues', xticklabels=CLASS_NAMES, \n",
    "                 yticklabels=CLASS_NAMES)\n",
    "    plt.xlabel('Predicted')\n",
    "    plt.ylabel('Actual')\n",
    "    plt.title(f'{prefix} Confusion Matrix')\n",
    "    plt.show()\n",
    "    \n",
    "    report = classification_report(y_true, y_pred)\n",
    "    print(report)\n",
    "\n",
    "analyse_result(train_df, \"Training\")\n",
    "analyse_result(val_df, \"Validation\")\n",
    "analyse_result(test_df, \"Testing\")"
>>>>>>> origin/colab-mvcnn
   ]
  },
  {
   "cell_type": "code",
<<<<<<< HEAD
   "execution_count": null,
=======
   "execution_count": 72,
>>>>>>> origin/colab-mvcnn
   "metadata": {
    "colab": {
     "base_uri": "https://localhost:8080/",
     "height": 332
    },
    "id": "Y_AmXWIKJpgw",
    "outputId": "406d1461-664c-4991-a208-dbebad70e3b3"
   },
   "outputs": [
    {
     "data": {
      "text/html": [
       "<pre style=\"white-space:pre;overflow-x:auto;line-height:normal;font-family:Menlo,'DejaVu Sans Mono',consolas,'Courier New',monospace\"><span style=\"font-weight: bold\">(</span><span style=\"color: #008080; text-decoration-color: #008080; font-weight: bold\">1</span>, <span style=\"color: #008080; text-decoration-color: #008080; font-weight: bold\">21</span>, <span style=\"color: #008080; text-decoration-color: #008080; font-weight: bold\">224</span>, <span style=\"color: #008080; text-decoration-color: #008080; font-weight: bold\">224</span>, <span style=\"color: #008080; text-decoration-color: #008080; font-weight: bold\">3</span><span style=\"font-weight: bold\">)</span>\n",
       "</pre>\n"
      ],
      "text/plain": [
       "\u001b[1m(\u001b[0m\u001b[1;36m1\u001b[0m, \u001b[1;36m21\u001b[0m, \u001b[1;36m224\u001b[0m, \u001b[1;36m224\u001b[0m, \u001b[1;36m3\u001b[0m\u001b[1m)\u001b[0m\n"
      ]
     },
     "metadata": {},
     "output_type": "display_data"
    },
    {
     "data": {
      "text/html": [
       "<pre style=\"white-space:pre;overflow-x:auto;line-height:normal;font-family:Menlo,'DejaVu Sans Mono',consolas,'Courier New',monospace\">Shape of preprocessed image array:\n",
       "<span style=\"font-weight: bold\">(</span><span style=\"color: #008080; text-decoration-color: #008080; font-weight: bold\">1</span>, <span style=\"color: #008080; text-decoration-color: #008080; font-weight: bold\">21</span>, <span style=\"color: #008080; text-decoration-color: #008080; font-weight: bold\">224</span>, <span style=\"color: #008080; text-decoration-color: #008080; font-weight: bold\">224</span>, <span style=\"color: #008080; text-decoration-color: #008080; font-weight: bold\">3</span><span style=\"font-weight: bold\">)</span>\n",
       "</pre>\n"
      ],
      "text/plain": [
       "Shape of preprocessed image array:\n",
       "\u001b[1m(\u001b[0m\u001b[1;36m1\u001b[0m, \u001b[1;36m21\u001b[0m, \u001b[1;36m224\u001b[0m, \u001b[1;36m224\u001b[0m, \u001b[1;36m3\u001b[0m\u001b[1m)\u001b[0m\n"
      ]
     },
     "metadata": {},
     "output_type": "display_data"
    },
    {
     "data": {
      "text/html": [
       "<pre style=\"white-space:pre;overflow-x:auto;line-height:normal;font-family:Menlo,'DejaVu Sans Mono',consolas,'Courier New',monospace\">Shape of preprocessed image array:\n",
       "<span style=\"font-weight: bold\">(</span><span style=\"color: #008080; text-decoration-color: #008080; font-weight: bold\">1</span>, <span style=\"color: #008080; text-decoration-color: #008080; font-weight: bold\">21</span>, <span style=\"color: #008080; text-decoration-color: #008080; font-weight: bold\">224</span>, <span style=\"color: #008080; text-decoration-color: #008080; font-weight: bold\">224</span>, <span style=\"color: #008080; text-decoration-color: #008080; font-weight: bold\">3</span><span style=\"font-weight: bold\">)</span>\n",
       "</pre>\n"
      ],
      "text/plain": [
       "Shape of preprocessed image array:\n",
       "\u001b[1m(\u001b[0m\u001b[1;36m1\u001b[0m, \u001b[1;36m21\u001b[0m, \u001b[1;36m224\u001b[0m, \u001b[1;36m224\u001b[0m, \u001b[1;36m3\u001b[0m\u001b[1m)\u001b[0m\n"
      ]
     },
     "metadata": {},
     "output_type": "display_data"
    },
    {
     "data": {
      "text/html": [
       "<pre style=\"white-space:pre;overflow-x:auto;line-height:normal;font-family:Menlo,'DejaVu Sans Mono',consolas,'Courier New',monospace\">Experiment: Testing <span style=\"color: #00ff00; text-decoration-color: #00ff00; font-weight: bold\">00:40:50</span> <span style=\"color: #008080; text-decoration-color: #008080; font-weight: bold\">09</span>/<span style=\"color: #008080; text-decoration-color: #008080; font-weight: bold\">01</span>/<span style=\"color: #008080; text-decoration-color: #008080; font-weight: bold\">2025</span>\n",
       "</pre>\n"
      ],
      "text/plain": [
       "Experiment: Testing \u001b[1;92m00:40:50\u001b[0m \u001b[1;36m09\u001b[0m/\u001b[1;36m01\u001b[0m/\u001b[1;36m2025\u001b[0m\n"
      ]
     },
     "metadata": {},
     "output_type": "display_data"
    },
    {
     "data": {
      "text/html": [
       "<pre style=\"white-space:pre;overflow-x:auto;line-height:normal;font-family:Menlo,'DejaVu Sans Mono',consolas,'Courier New',monospace\">Experiment: Testing <span style=\"color: #00ff00; text-decoration-color: #00ff00; font-weight: bold\">00:40:50</span> <span style=\"color: #008080; text-decoration-color: #008080; font-weight: bold\">09</span>/<span style=\"color: #008080; text-decoration-color: #008080; font-weight: bold\">01</span>/<span style=\"color: #008080; text-decoration-color: #008080; font-weight: bold\">2025</span>\n",
       "</pre>\n"
      ],
      "text/plain": [
       "Experiment: Testing \u001b[1;92m00:40:50\u001b[0m \u001b[1;36m09\u001b[0m/\u001b[1;36m01\u001b[0m/\u001b[1;36m2025\u001b[0m\n"
      ]
     },
     "metadata": {},
     "output_type": "display_data"
    },
    {
     "name": "stdout",
     "output_type": "stream",
     "text": [
      "1/1 [==============================] - 1s 541ms/step\n"
     ]
    },
    {
     "data": {
      "text/html": [
       "<pre style=\"white-space:pre;overflow-x:auto;line-height:normal;font-family:Menlo,'DejaVu Sans Mono',consolas,'Courier New',monospace\">Actual class: Mild Dementia\n",
       "</pre>\n"
      ],
      "text/plain": [
       "Actual class: Mild Dementia\n"
      ]
     },
     "metadata": {},
     "output_type": "display_data"
    },
    {
     "data": {
      "text/html": [
       "<pre style=\"white-space:pre;overflow-x:auto;line-height:normal;font-family:Menlo,'DejaVu Sans Mono',consolas,'Courier New',monospace\">Actual class: Mild Dementia\n",
       "</pre>\n"
      ],
      "text/plain": [
       "Actual class: Mild Dementia\n"
      ]
     },
     "metadata": {},
     "output_type": "display_data"
    },
    {
     "data": {
      "text/html": [
       "<pre style=\"white-space:pre;overflow-x:auto;line-height:normal;font-family:Menlo,'DejaVu Sans Mono',consolas,'Courier New',monospace\">Predicted class: Mild Dementia\n",
       "</pre>\n"
      ],
      "text/plain": [
       "Predicted class: Mild Dementia\n"
      ]
     },
     "metadata": {},
     "output_type": "display_data"
    },
    {
     "data": {
      "text/html": [
       "<pre style=\"white-space:pre;overflow-x:auto;line-height:normal;font-family:Menlo,'DejaVu Sans Mono',consolas,'Courier New',monospace\">Predicted class: Mild Dementia\n",
       "</pre>\n"
      ],
      "text/plain": [
       "Predicted class: Mild Dementia\n"
      ]
     },
     "metadata": {},
     "output_type": "display_data"
    },
    {
     "data": {
      "text/html": [
       "<pre style=\"white-space:pre;overflow-x:auto;line-height:normal;font-family:Menlo,'DejaVu Sans Mono',consolas,'Courier New',monospace\">Experiment: Completed <span style=\"color: #00ff00; text-decoration-color: #00ff00; font-weight: bold\">00:40:50</span> <span style=\"color: #008080; text-decoration-color: #008080; font-weight: bold\">09</span>/<span style=\"color: #008080; text-decoration-color: #008080; font-weight: bold\">01</span>/<span style=\"color: #008080; text-decoration-color: #008080; font-weight: bold\">2025</span>\n",
       "</pre>\n"
      ],
      "text/plain": [
       "Experiment: Completed \u001b[1;92m00:40:50\u001b[0m \u001b[1;36m09\u001b[0m/\u001b[1;36m01\u001b[0m/\u001b[1;36m2025\u001b[0m\n"
      ]
     },
     "metadata": {},
     "output_type": "display_data"
    },
    {
     "data": {
      "text/html": [
       "<pre style=\"white-space:pre;overflow-x:auto;line-height:normal;font-family:Menlo,'DejaVu Sans Mono',consolas,'Courier New',monospace\">Experiment: Completed <span style=\"color: #00ff00; text-decoration-color: #00ff00; font-weight: bold\">00:40:50</span> <span style=\"color: #008080; text-decoration-color: #008080; font-weight: bold\">09</span>/<span style=\"color: #008080; text-decoration-color: #008080; font-weight: bold\">01</span>/<span style=\"color: #008080; text-decoration-color: #008080; font-weight: bold\">2025</span>\n",
       "</pre>\n"
      ],
      "text/plain": [
       "Experiment: Completed \u001b[1;92m00:40:50\u001b[0m \u001b[1;36m09\u001b[0m/\u001b[1;36m01\u001b[0m/\u001b[1;36m2025\u001b[0m\n"
      ]
     },
     "metadata": {},
     "output_type": "display_data"
    }
   ],
   "source": [
    "from PIL import Image\n",
    "def preprocess_image(image_path):\n",
    "    # Open the image file\n",
    "    img_array, lbl, cls_name = odd.sample_dataset.get_volume_for_image(image_path)\n",
    "    img_array = np.expand_dims(img_array, axis=0)\n",
    "    print(img_array.shape)\n",
    "    return img_array\n",
    "\n",
    "\n",
    "# Example usage:\n",
    "actual_class = TEST_IMG_LABEL\n",
    "image_path = TEST_IMG_PATH\n",
    "image_array = preprocess_image(image_path)\n",
    "log(\"Shape of preprocessed image array:\", image_array.shape)\n",
    "\n",
    "# Predict probabilities\n",
    "log(\"Experiment: Testing\", time=True)\n",
    "prediction_probabilities = model_lenet.predict(image_array)\n",
    "\n",
    "# Get the index of the highest probability\n",
    "predicted_class_index = np.argmax(prediction_probabilities)\n",
    "\n",
    "# Define your class labelsa\n",
    "class_labels = CLASS_NAMES\n",
    "\n",
    "# Map the index to the corresponding class label\n",
    "predicted_class = class_labels[predicted_class_index]\n",
    "\n",
    "# TF-logging test values\n",
    "file_writer = tf.summary.create_file_writer(tf_log_dir + \"/test\")\n",
    "with file_writer.as_default():\n",
    "    tf.summary.text(f\"Corner Case\", f\"Actual={actual_class} Predicted={predicted_class}\", step=0)\n",
    "\n",
    "log(\"Actual class:\", actual_class)\n",
    "log(\"Predicted class:\", predicted_class)\n",
    "log(\"Experiment: Completed\", time=True)"
   ]
  },
  {
   "cell_type": "code",
   "execution_count": null,
   "metadata": {},
   "outputs": [],
<<<<<<< HEAD
   "source": [
    "log(f\"Your result is saved at: '{artifact_root}'\")"
   ]
  },
  {
   "cell_type": "code",
   "execution_count": null,
   "metadata": {},
   "outputs": [],
=======
>>>>>>> origin/colab-mvcnn
   "source": []
  },
  {
   "cell_type": "code",
   "execution_count": 33,
   "metadata": {},
   "outputs": [
    {
     "data": {
      "text/html": [
       "<pre style=\"white-space:pre;overflow-x:auto;line-height:normal;font-family:Menlo,'DejaVu Sans Mono',consolas,'Courier New',monospace\">Your result is saved at: <span style=\"color: #008000; text-decoration-color: #008000\">'./results/tflogs_mvcnn/MultiViewMobileNet/20250108-234344'</span>\n",
       "</pre>\n"
      ],
      "text/plain": [
       "Your result is saved at: \u001b[32m'./results/tflogs_mvcnn/MultiViewMobileNet/20250108-234344'\u001b[0m\n"
      ]
     },
     "metadata": {},
     "output_type": "display_data"
    },
    {
     "data": {
      "text/html": [
       "<pre style=\"white-space:pre;overflow-x:auto;line-height:normal;font-family:Menlo,'DejaVu Sans Mono',consolas,'Courier New',monospace\">Your result is saved at: <span style=\"color: #008000; text-decoration-color: #008000\">'./results/tflogs_mvcnn/MultiViewMobileNet/20250108-234344'</span>\n",
       "</pre>\n"
      ],
      "text/plain": [
       "Your result is saved at: \u001b[32m'./results/tflogs_mvcnn/MultiViewMobileNet/20250108-234344'\u001b[0m\n"
      ]
     },
     "metadata": {},
     "output_type": "display_data"
    }
   ],
   "source": [
    "log(f\"Your result is saved at: '{artifact_root}'\")"
   ]
  },
  {
   "cell_type": "code",
   "execution_count": null,
   "metadata": {},
   "outputs": [],
   "source": []
  }
 ],
 "metadata": {
  "colab": {
   "provenance": []
  },
  "kernelspec": {
   "display_name": "tf",
   "language": "python",
   "name": "tf"
  },
  "language_info": {
   "codemirror_mode": {
    "name": "ipython",
    "version": 3
   },
   "file_extension": ".py",
   "mimetype": "text/x-python",
   "name": "python",
   "nbconvert_exporter": "python",
   "pygments_lexer": "ipython3",
   "version": "3.8.18"
  }
 },
 "nbformat": 4,
 "nbformat_minor": 4
}
